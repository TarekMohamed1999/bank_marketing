{
 "cells": [
  {
   "cell_type": "code",
   "execution_count": 1,
   "id": "dd9e9602",
   "metadata": {},
   "outputs": [
    {
     "name": "stderr",
     "output_type": "stream",
     "text": [
      "\n",
      "Bad key text.latex.preview in file /home/tarek/anaconda3/lib/python3.8/site-packages/matplotlib/mpl-data/stylelib/_classic_test.mplstyle, line 123 ('text.latex.preview : False')\n",
      "You probably need to get an updated matplotlibrc file from\n",
      "https://github.com/matplotlib/matplotlib/blob/v3.5.1/matplotlibrc.template\n",
      "or from the matplotlib source distribution\n",
      "\n",
      "Bad key mathtext.fallback_to_cm in file /home/tarek/anaconda3/lib/python3.8/site-packages/matplotlib/mpl-data/stylelib/_classic_test.mplstyle, line 155 ('mathtext.fallback_to_cm : True  # When True, use symbols from the Computer Modern')\n",
      "You probably need to get an updated matplotlibrc file from\n",
      "https://github.com/matplotlib/matplotlib/blob/v3.5.1/matplotlibrc.template\n",
      "or from the matplotlib source distribution\n",
      "\n",
      "Bad key savefig.jpeg_quality in file /home/tarek/anaconda3/lib/python3.8/site-packages/matplotlib/mpl-data/stylelib/_classic_test.mplstyle, line 418 ('savefig.jpeg_quality: 95       # when a jpeg is saved, the default quality parameter.')\n",
      "You probably need to get an updated matplotlibrc file from\n",
      "https://github.com/matplotlib/matplotlib/blob/v3.5.1/matplotlibrc.template\n",
      "or from the matplotlib source distribution\n",
      "\n",
      "Bad key keymap.all_axes in file /home/tarek/anaconda3/lib/python3.8/site-packages/matplotlib/mpl-data/stylelib/_classic_test.mplstyle, line 466 ('keymap.all_axes : a                 # enable all axes')\n",
      "You probably need to get an updated matplotlibrc file from\n",
      "https://github.com/matplotlib/matplotlib/blob/v3.5.1/matplotlibrc.template\n",
      "or from the matplotlib source distribution\n",
      "\n",
      "Bad key animation.avconv_path in file /home/tarek/anaconda3/lib/python3.8/site-packages/matplotlib/mpl-data/stylelib/_classic_test.mplstyle, line 477 ('animation.avconv_path: avconv     # Path to avconv binary. Without full path')\n",
      "You probably need to get an updated matplotlibrc file from\n",
      "https://github.com/matplotlib/matplotlib/blob/v3.5.1/matplotlibrc.template\n",
      "or from the matplotlib source distribution\n",
      "\n",
      "Bad key animation.avconv_args in file /home/tarek/anaconda3/lib/python3.8/site-packages/matplotlib/mpl-data/stylelib/_classic_test.mplstyle, line 479 ('animation.avconv_args:            # Additional arguments to pass to avconv')\n",
      "You probably need to get an updated matplotlibrc file from\n",
      "https://github.com/matplotlib/matplotlib/blob/v3.5.1/matplotlibrc.template\n",
      "or from the matplotlib source distribution\n"
     ]
    }
   ],
   "source": [
    "import pandas as pd\n",
    "import numpy as np\n",
    "import matplotlib.pyplot as plt\n",
    "import plotly as pl\n",
    "import seaborn as sns\n",
    "import warnings\n",
    "warnings.filterwarnings(\"ignore\")"
   ]
  },
  {
   "cell_type": "code",
   "execution_count": 3,
   "id": "8269957b",
   "metadata": {},
   "outputs": [],
   "source": [
    "df1 = pd.read_csv(\"bank-additional/bank-additional/bank-additional-full.csv\", sep=\";\")"
   ]
  },
  {
   "cell_type": "code",
   "execution_count": 4,
   "id": "b036b924",
   "metadata": {},
   "outputs": [
    {
     "data": {
      "text/html": [
       "<div>\n",
       "<style scoped>\n",
       "    .dataframe tbody tr th:only-of-type {\n",
       "        vertical-align: middle;\n",
       "    }\n",
       "\n",
       "    .dataframe tbody tr th {\n",
       "        vertical-align: top;\n",
       "    }\n",
       "\n",
       "    .dataframe thead th {\n",
       "        text-align: right;\n",
       "    }\n",
       "</style>\n",
       "<table border=\"1\" class=\"dataframe\">\n",
       "  <thead>\n",
       "    <tr style=\"text-align: right;\">\n",
       "      <th></th>\n",
       "      <th>age</th>\n",
       "      <th>job</th>\n",
       "      <th>marital</th>\n",
       "      <th>education</th>\n",
       "      <th>default</th>\n",
       "      <th>housing</th>\n",
       "      <th>loan</th>\n",
       "      <th>contact</th>\n",
       "      <th>month</th>\n",
       "      <th>day_of_week</th>\n",
       "      <th>...</th>\n",
       "      <th>campaign</th>\n",
       "      <th>pdays</th>\n",
       "      <th>previous</th>\n",
       "      <th>poutcome</th>\n",
       "      <th>emp.var.rate</th>\n",
       "      <th>cons.price.idx</th>\n",
       "      <th>cons.conf.idx</th>\n",
       "      <th>euribor3m</th>\n",
       "      <th>nr.employed</th>\n",
       "      <th>y</th>\n",
       "    </tr>\n",
       "  </thead>\n",
       "  <tbody>\n",
       "    <tr>\n",
       "      <th>0</th>\n",
       "      <td>56</td>\n",
       "      <td>housemaid</td>\n",
       "      <td>married</td>\n",
       "      <td>basic.4y</td>\n",
       "      <td>no</td>\n",
       "      <td>no</td>\n",
       "      <td>no</td>\n",
       "      <td>telephone</td>\n",
       "      <td>may</td>\n",
       "      <td>mon</td>\n",
       "      <td>...</td>\n",
       "      <td>1</td>\n",
       "      <td>999</td>\n",
       "      <td>0</td>\n",
       "      <td>nonexistent</td>\n",
       "      <td>1.1</td>\n",
       "      <td>93.994</td>\n",
       "      <td>-36.4</td>\n",
       "      <td>4.857</td>\n",
       "      <td>5191.0</td>\n",
       "      <td>no</td>\n",
       "    </tr>\n",
       "    <tr>\n",
       "      <th>1</th>\n",
       "      <td>57</td>\n",
       "      <td>services</td>\n",
       "      <td>married</td>\n",
       "      <td>high.school</td>\n",
       "      <td>unknown</td>\n",
       "      <td>no</td>\n",
       "      <td>no</td>\n",
       "      <td>telephone</td>\n",
       "      <td>may</td>\n",
       "      <td>mon</td>\n",
       "      <td>...</td>\n",
       "      <td>1</td>\n",
       "      <td>999</td>\n",
       "      <td>0</td>\n",
       "      <td>nonexistent</td>\n",
       "      <td>1.1</td>\n",
       "      <td>93.994</td>\n",
       "      <td>-36.4</td>\n",
       "      <td>4.857</td>\n",
       "      <td>5191.0</td>\n",
       "      <td>no</td>\n",
       "    </tr>\n",
       "    <tr>\n",
       "      <th>2</th>\n",
       "      <td>37</td>\n",
       "      <td>services</td>\n",
       "      <td>married</td>\n",
       "      <td>high.school</td>\n",
       "      <td>no</td>\n",
       "      <td>yes</td>\n",
       "      <td>no</td>\n",
       "      <td>telephone</td>\n",
       "      <td>may</td>\n",
       "      <td>mon</td>\n",
       "      <td>...</td>\n",
       "      <td>1</td>\n",
       "      <td>999</td>\n",
       "      <td>0</td>\n",
       "      <td>nonexistent</td>\n",
       "      <td>1.1</td>\n",
       "      <td>93.994</td>\n",
       "      <td>-36.4</td>\n",
       "      <td>4.857</td>\n",
       "      <td>5191.0</td>\n",
       "      <td>no</td>\n",
       "    </tr>\n",
       "    <tr>\n",
       "      <th>3</th>\n",
       "      <td>40</td>\n",
       "      <td>admin.</td>\n",
       "      <td>married</td>\n",
       "      <td>basic.6y</td>\n",
       "      <td>no</td>\n",
       "      <td>no</td>\n",
       "      <td>no</td>\n",
       "      <td>telephone</td>\n",
       "      <td>may</td>\n",
       "      <td>mon</td>\n",
       "      <td>...</td>\n",
       "      <td>1</td>\n",
       "      <td>999</td>\n",
       "      <td>0</td>\n",
       "      <td>nonexistent</td>\n",
       "      <td>1.1</td>\n",
       "      <td>93.994</td>\n",
       "      <td>-36.4</td>\n",
       "      <td>4.857</td>\n",
       "      <td>5191.0</td>\n",
       "      <td>no</td>\n",
       "    </tr>\n",
       "    <tr>\n",
       "      <th>4</th>\n",
       "      <td>56</td>\n",
       "      <td>services</td>\n",
       "      <td>married</td>\n",
       "      <td>high.school</td>\n",
       "      <td>no</td>\n",
       "      <td>no</td>\n",
       "      <td>yes</td>\n",
       "      <td>telephone</td>\n",
       "      <td>may</td>\n",
       "      <td>mon</td>\n",
       "      <td>...</td>\n",
       "      <td>1</td>\n",
       "      <td>999</td>\n",
       "      <td>0</td>\n",
       "      <td>nonexistent</td>\n",
       "      <td>1.1</td>\n",
       "      <td>93.994</td>\n",
       "      <td>-36.4</td>\n",
       "      <td>4.857</td>\n",
       "      <td>5191.0</td>\n",
       "      <td>no</td>\n",
       "    </tr>\n",
       "  </tbody>\n",
       "</table>\n",
       "<p>5 rows × 21 columns</p>\n",
       "</div>"
      ],
      "text/plain": [
       "   age        job  marital    education  default housing loan    contact  \\\n",
       "0   56  housemaid  married     basic.4y       no      no   no  telephone   \n",
       "1   57   services  married  high.school  unknown      no   no  telephone   \n",
       "2   37   services  married  high.school       no     yes   no  telephone   \n",
       "3   40     admin.  married     basic.6y       no      no   no  telephone   \n",
       "4   56   services  married  high.school       no      no  yes  telephone   \n",
       "\n",
       "  month day_of_week  ...  campaign  pdays  previous     poutcome emp.var.rate  \\\n",
       "0   may         mon  ...         1    999         0  nonexistent          1.1   \n",
       "1   may         mon  ...         1    999         0  nonexistent          1.1   \n",
       "2   may         mon  ...         1    999         0  nonexistent          1.1   \n",
       "3   may         mon  ...         1    999         0  nonexistent          1.1   \n",
       "4   may         mon  ...         1    999         0  nonexistent          1.1   \n",
       "\n",
       "   cons.price.idx  cons.conf.idx  euribor3m  nr.employed   y  \n",
       "0          93.994          -36.4      4.857       5191.0  no  \n",
       "1          93.994          -36.4      4.857       5191.0  no  \n",
       "2          93.994          -36.4      4.857       5191.0  no  \n",
       "3          93.994          -36.4      4.857       5191.0  no  \n",
       "4          93.994          -36.4      4.857       5191.0  no  \n",
       "\n",
       "[5 rows x 21 columns]"
      ]
     },
     "execution_count": 4,
     "metadata": {},
     "output_type": "execute_result"
    }
   ],
   "source": [
    "df1.head()"
   ]
  },
  {
   "cell_type": "code",
   "execution_count": 5,
   "id": "6d59297d",
   "metadata": {},
   "outputs": [
    {
     "name": "stdout",
     "output_type": "stream",
     "text": [
      "<class 'pandas.core.frame.DataFrame'>\n",
      "RangeIndex: 41188 entries, 0 to 41187\n",
      "Data columns (total 21 columns):\n",
      " #   Column          Non-Null Count  Dtype  \n",
      "---  ------          --------------  -----  \n",
      " 0   age             41188 non-null  int64  \n",
      " 1   job             41188 non-null  object \n",
      " 2   marital         41188 non-null  object \n",
      " 3   education       41188 non-null  object \n",
      " 4   default         41188 non-null  object \n",
      " 5   housing         41188 non-null  object \n",
      " 6   loan            41188 non-null  object \n",
      " 7   contact         41188 non-null  object \n",
      " 8   month           41188 non-null  object \n",
      " 9   day_of_week     41188 non-null  object \n",
      " 10  duration        41188 non-null  int64  \n",
      " 11  campaign        41188 non-null  int64  \n",
      " 12  pdays           41188 non-null  int64  \n",
      " 13  previous        41188 non-null  int64  \n",
      " 14  poutcome        41188 non-null  object \n",
      " 15  emp.var.rate    41188 non-null  float64\n",
      " 16  cons.price.idx  41188 non-null  float64\n",
      " 17  cons.conf.idx   41188 non-null  float64\n",
      " 18  euribor3m       41188 non-null  float64\n",
      " 19  nr.employed     41188 non-null  float64\n",
      " 20  y               41188 non-null  object \n",
      "dtypes: float64(5), int64(5), object(11)\n",
      "memory usage: 6.6+ MB\n"
     ]
    }
   ],
   "source": [
    "df1.info()"
   ]
  },
  {
   "cell_type": "markdown",
   "id": "62cbfd88",
   "metadata": {},
   "source": [
    "# Investigating Numerical columns:"
   ]
  },
  {
   "cell_type": "code",
   "execution_count": 6,
   "id": "3ce05a17",
   "metadata": {
    "scrolled": false
   },
   "outputs": [
    {
     "name": "stdout",
     "output_type": "stream",
     "text": [
      "Descriptive Statistics is for columns age :\n",
      " count    41188.00000\n",
      "mean        40.02406\n",
      "std         10.42125\n",
      "min         17.00000\n",
      "25%         32.00000\n",
      "50%         38.00000\n",
      "75%         47.00000\n",
      "max         98.00000\n",
      "Name: age, dtype: float64\n"
     ]
    },
    {
     "data": {
      "image/png": "[encoded data removed]",
      "text/plain": [
       "<Figure size 720x720 with 2 Axes>"
      ]
     },
     "metadata": {
      "needs_background": "light"
     },
     "output_type": "display_data"
    },
    {
     "name": "stdout",
     "output_type": "stream",
     "text": [
      "Descriptive Statistics is for columns duration :\n",
      " count    41188.000000\n",
      "mean       258.285010\n",
      "std        259.279249\n",
      "min          0.000000\n",
      "25%        102.000000\n",
      "50%        180.000000\n",
      "75%        319.000000\n",
      "max       4918.000000\n",
      "Name: duration, dtype: float64\n"
     ]
    },
    {
     "data": {
      "image/png": "[encoded data removed]",
      "text/plain": [
       "<Figure size 720x720 with 2 Axes>"
      ]
     },
     "metadata": {
      "needs_background": "light"
     },
     "output_type": "display_data"
    },
    {
     "name": "stdout",
     "output_type": "stream",
     "text": [
      "Descriptive Statistics is for columns campaign :\n",
      " count    41188.000000\n",
      "mean         2.567593\n",
      "std          2.770014\n",
      "min          1.000000\n",
      "25%          1.000000\n",
      "50%          2.000000\n",
      "75%          3.000000\n",
      "max         56.000000\n",
      "Name: campaign, dtype: float64\n"
     ]
    },
    {
     "data": {
      "image/png": "[encoded data removed]",
      "text/plain": [
       "<Figure size 720x720 with 2 Axes>"
      ]
     },
     "metadata": {
      "needs_background": "light"
     },
     "output_type": "display_data"
    },
    {
     "name": "stdout",
     "output_type": "stream",
     "text": [
      "Descriptive Statistics is for columns pdays :\n",
      " count    41188.000000\n",
      "mean       962.475454\n",
      "std        186.910907\n",
      "min          0.000000\n",
      "25%        999.000000\n",
      "50%        999.000000\n",
      "75%        999.000000\n",
      "max        999.000000\n",
      "Name: pdays, dtype: float64\n"
     ]
    },
    {
     "data": {
      "image/png": "[encoded data removed]",
      "text/plain": [
       "<Figure size 720x720 with 2 Axes>"
      ]
     },
     "metadata": {
      "needs_background": "light"
     },
     "output_type": "display_data"
    },
    {
     "name": "stdout",
     "output_type": "stream",
     "text": [
      "Descriptive Statistics is for columns previous :\n",
      " count    41188.000000\n",
      "mean         0.172963\n",
      "std          0.494901\n",
      "min          0.000000\n",
      "25%          0.000000\n",
      "50%          0.000000\n",
      "75%          0.000000\n",
      "max          7.000000\n",
      "Name: previous, dtype: float64\n"
     ]
    },
    {
     "data": {
      "image/png": "[encoded data removed]",
      "text/plain": [
       "<Figure size 720x720 with 2 Axes>"
      ]
     },
     "metadata": {
      "needs_background": "light"
     },
     "output_type": "display_data"
    },
    {
     "name": "stdout",
     "output_type": "stream",
     "text": [
      "Descriptive Statistics is for columns emp.var.rate :\n",
      " count    41188.000000\n",
      "mean         0.081886\n",
      "std          1.570960\n",
      "min         -3.400000\n",
      "25%         -1.800000\n",
      "50%          1.100000\n",
      "75%          1.400000\n",
      "max          1.400000\n",
      "Name: emp.var.rate, dtype: float64\n"
     ]
    },
    {
     "data": {
      "image/png": "[encoded data removed]",
      "text/plain": [
       "<Figure size 720x720 with 2 Axes>"
      ]
     },
     "metadata": {
      "needs_background": "light"
     },
     "output_type": "display_data"
    },
    {
     "name": "stdout",
     "output_type": "stream",
     "text": [
      "Descriptive Statistics is for columns cons.price.idx :\n",
      " count    41188.000000\n",
      "mean        93.575664\n",
      "std          0.578840\n",
      "min         92.201000\n",
      "25%         93.075000\n",
      "50%         93.749000\n",
      "75%         93.994000\n",
      "max         94.767000\n",
      "Name: cons.price.idx, dtype: float64\n"
     ]
    },
    {
     "data": {
      "image/png": "[encoded data removed]",
      "text/plain": [
       "<Figure size 720x720 with 2 Axes>"
      ]
     },
     "metadata": {
      "needs_background": "light"
     },
     "output_type": "display_data"
    },
    {
     "name": "stdout",
     "output_type": "stream",
     "text": [
      "Descriptive Statistics is for columns cons.conf.idx :\n",
      " count    41188.000000\n",
      "mean       -40.502600\n",
      "std          4.628198\n",
      "min        -50.800000\n",
      "25%        -42.700000\n",
      "50%        -41.800000\n",
      "75%        -36.400000\n",
      "max        -26.900000\n",
      "Name: cons.conf.idx, dtype: float64\n"
     ]
    },
    {
     "data": {
      "image/png": "[encoded data removed]",
      "text/plain": [
       "<Figure size 720x720 with 2 Axes>"
      ]
     },
     "metadata": {
      "needs_background": "light"
     },
     "output_type": "display_data"
    },
    {
     "name": "stdout",
     "output_type": "stream",
     "text": [
      "Descriptive Statistics is for columns euribor3m :\n",
      " count    41188.000000\n",
      "mean         3.621291\n",
      "std          1.734447\n",
      "min          0.634000\n",
      "25%          1.344000\n",
      "50%          4.857000\n",
      "75%          4.961000\n",
      "max          5.045000\n",
      "Name: euribor3m, dtype: float64\n"
     ]
    },
    {
     "data": {
      "image/png": "[encoded data removed]",
      "text/plain": [
       "<Figure size 720x720 with 2 Axes>"
      ]
     },
     "metadata": {
      "needs_background": "light"
     },
     "output_type": "display_data"
    },
    {
     "name": "stdout",
     "output_type": "stream",
     "text": [
      "Descriptive Statistics is for columns nr.employed :\n",
      " count    41188.000000\n",
      "mean      5167.035911\n",
      "std         72.251528\n",
      "min       4963.600000\n",
      "25%       5099.100000\n",
      "50%       5191.000000\n",
      "75%       5228.100000\n",
      "max       5228.100000\n",
      "Name: nr.employed, dtype: float64\n"
     ]
    },
    {
     "data": {
      "image/png": "[encoded data removed]",
      "text/plain": [
       "<Figure size 720x720 with 2 Axes>"
      ]
     },
     "metadata": {
      "needs_background": "light"
     },
     "output_type": "display_data"
    }
   ],
   "source": [
    "for i in df1.columns.to_list():\n",
    "    if str(df1[i].dtype) != 'object':\n",
    "        # Print Statistics of it\n",
    "        print(\"Descriptive Statistics is for columns {} :\\n {}\".format(i, df1[i].describe()))\n",
    "        fig, ax = plt.subplots(2,1, figsize = (10,10))\n",
    "        ax[0].set_title(f\"Box Plot For Columns {i}\")\n",
    "        ax[0].boxplot(df1[i], vert = False, sym = \"r.\")\n",
    "        ax[1].set_title(f\"Histogram of values for column {i}\")\n",
    "        r = ax[1].hist(df1[i], histtype = \"bar\")\n",
    "        plt.show()"
   ]
  },
  {
   "cell_type": "markdown",
   "id": "d1e0e2f4",
   "metadata": {},
   "source": [
    "# Investigating the Categorical Columns:"
   ]
  },
  {
   "cell_type": "code",
   "execution_count": 9,
   "id": "be039c15",
   "metadata": {
    "scrolled": true
   },
   "outputs": [
    {
     "name": "stdout",
     "output_type": "stream",
     "text": [
      " ============ Categorical Columns job ===========\n",
      " ============ Value Counts ===========\n",
      "admin.           10422\n",
      "blue-collar       9254\n",
      "technician        6743\n",
      "services          3969\n",
      "management        2924\n",
      "retired           1720\n",
      "entrepreneur      1456\n",
      "self-employed     1421\n",
      "housemaid         1060\n",
      "unemployed        1014\n",
      "student            875\n",
      "unknown            330\n",
      "Name: job, dtype: int64\n",
      " ============ Categorical Columns marital ===========\n",
      " ============ Value Counts ===========\n",
      "married     24928\n",
      "single      11568\n",
      "divorced     4612\n",
      "unknown        80\n",
      "Name: marital, dtype: int64\n",
      " ============ Categorical Columns education ===========\n",
      " ============ Value Counts ===========\n",
      "university.degree      12168\n",
      "high.school             9515\n",
      "basic.9y                6045\n",
      "professional.course     5243\n",
      "basic.4y                4176\n",
      "basic.6y                2292\n",
      "unknown                 1731\n",
      "illiterate                18\n",
      "Name: education, dtype: int64\n",
      " ============ Categorical Columns default ===========\n",
      " ============ Value Counts ===========\n",
      "no         32588\n",
      "unknown     8597\n",
      "yes            3\n",
      "Name: default, dtype: int64\n",
      " ============ Categorical Columns housing ===========\n",
      " ============ Value Counts ===========\n",
      "yes        21576\n",
      "no         18622\n",
      "unknown      990\n",
      "Name: housing, dtype: int64\n",
      " ============ Categorical Columns loan ===========\n",
      " ============ Value Counts ===========\n",
      "no         33950\n",
      "yes         6248\n",
      "unknown      990\n",
      "Name: loan, dtype: int64\n",
      " ============ Categorical Columns contact ===========\n",
      " ============ Value Counts ===========\n",
      "cellular     26144\n",
      "telephone    15044\n",
      "Name: contact, dtype: int64\n",
      " ============ Categorical Columns month ===========\n",
      " ============ Value Counts ===========\n",
      "may    13769\n",
      "jul     7174\n",
      "aug     6178\n",
      "jun     5318\n",
      "nov     4101\n",
      "apr     2632\n",
      "oct      718\n",
      "sep      570\n",
      "mar      546\n",
      "dec      182\n",
      "Name: month, dtype: int64\n",
      " ============ Categorical Columns day_of_week ===========\n",
      " ============ Value Counts ===========\n",
      "thu    8623\n",
      "mon    8514\n",
      "wed    8134\n",
      "tue    8090\n",
      "fri    7827\n",
      "Name: day_of_week, dtype: int64\n",
      " ============ Categorical Columns poutcome ===========\n",
      " ============ Value Counts ===========\n",
      "nonexistent    35563\n",
      "failure         4252\n",
      "success         1373\n",
      "Name: poutcome, dtype: int64\n",
      " ============ Categorical Columns y ===========\n",
      " ============ Value Counts ===========\n",
      "no     36548\n",
      "yes     4640\n",
      "Name: y, dtype: int64\n"
     ]
    }
   ],
   "source": [
    "# Calculating Value Counts:\n",
    "for i in df1.columns.to_list():\n",
    "    if str(df1[i].dtype) == 'object':\n",
    "        print(f\" ============ Categorical Columns {i} ===========\")\n",
    "#         print(f\" ============ Unique Values ===========\")\n",
    "#         print(df1[i].unique())\n",
    "        print(f\" ============ Value Counts ===========\")\n",
    "        print(df1[i].value_counts())"
   ]
  },
  {
   "cell_type": "markdown",
   "id": "3a1e7aca",
   "metadata": {},
   "source": [
    "# Fearure Engineering:\n",
    "- Adding Quarter column to group by:"
   ]
  },
  {
   "cell_type": "code",
   "execution_count": 31,
   "id": "f76d9d3e",
   "metadata": {},
   "outputs": [],
   "source": [
    "# As it quartarly data.\n",
    "qs_employees = list(df1[\"nr.employed\"].unique())"
   ]
  },
  {
   "cell_type": "code",
   "execution_count": 32,
   "id": "2526b221",
   "metadata": {},
   "outputs": [],
   "source": [
    "def get_q(nr_employee):\n",
    "    global qs_employees\n",
    "    return qs_employees.index(nr_employee) + 1\n",
    "df1[\"quarter\"] = df1[\"nr.employed\"].apply(get_q)"
   ]
  },
  {
   "cell_type": "markdown",
   "id": "176255e5",
   "metadata": {},
   "source": [
    "- Get Year: The data starts from may 2008 and ends at nov 2010 so, Q1. Q2, Q3 ar in 2008, Q4, Q5, Q6, Q7 in 2009 and Q8, 9, 10 ,11 in 2010"
   ]
  },
  {
   "cell_type": "code",
   "execution_count": 38,
   "id": "03178d2b",
   "metadata": {},
   "outputs": [],
   "source": [
    "def get_year(q):\n",
    "    if q < 4:\n",
    "        return 2008\n",
    "    elif((q >= 4) & (q < 8)):\n",
    "        return 2009\n",
    "    else: \n",
    "        return 2010\n",
    "df1[\"year\"] = df1[\"quarter\"].apply(get_year)"
   ]
  },
  {
   "cell_type": "code",
   "execution_count": 39,
   "id": "a74d4cda",
   "metadata": {},
   "outputs": [
    {
     "data": {
      "text/plain": [
       "2008    27680\n",
       "2009    11278\n",
       "2010     2230\n",
       "Name: year, dtype: int64"
      ]
     },
     "execution_count": 39,
     "metadata": {},
     "output_type": "execute_result"
    }
   ],
   "source": [
    "df1[\"year\"].value_counts()"
   ]
  },
  {
   "cell_type": "markdown",
   "id": "04f9efc9",
   "metadata": {},
   "source": [
    "- Editing the euribor3m: this value is a daily value, so we need to make it consistant with quarters."
   ]
  },
  {
   "cell_type": "code",
   "execution_count": 41,
   "id": "3cb25c14",
   "metadata": {},
   "outputs": [
    {
     "data": {
      "text/plain": [
       "4.857    2868\n",
       "4.962    2613\n",
       "4.963    2487\n",
       "4.961    1902\n",
       "4.856    1210\n",
       "         ... \n",
       "3.853       1\n",
       "3.901       1\n",
       "0.969       1\n",
       "0.956       1\n",
       "3.669       1\n",
       "Name: euribor3m, Length: 316, dtype: int64"
      ]
     },
     "execution_count": 41,
     "metadata": {},
     "output_type": "execute_result"
    }
   ],
   "source": [
    "df1.euribor3m.value_counts()"
   ]
  },
  {
   "cell_type": "code",
   "execution_count": 43,
   "id": "7d8adc3e",
   "metadata": {},
   "outputs": [],
   "source": [
    "df_g = df1.groupby(\"quarter\")[\"euribor3m\"].mean()"
   ]
  },
  {
   "cell_type": "code",
   "execution_count": 47,
   "id": "4395d37a",
   "metadata": {},
   "outputs": [],
   "source": [
    "def get_eur(q):\n",
    "    global df_g\n",
    "    return df_g[q]\n",
    "df1[\"euriborQ\"] = df1[\"quarter\"].apply(get_eur)"
   ]
  },
  {
   "cell_type": "code",
   "execution_count": 52,
   "id": "41fad8b5",
   "metadata": {},
   "outputs": [
    {
     "data": {
      "text/plain": [
       "year\n",
       "2008    4.817610\n",
       "2009    1.241923\n",
       "2010    0.805324\n",
       "Name: euriborQ, dtype: float64"
      ]
     },
     "execution_count": 52,
     "metadata": {},
     "output_type": "execute_result"
    }
   ],
   "source": [
    "df1.groupby(\"year\")[\"euriborQ\"].mean()"
   ]
  },
  {
   "cell_type": "markdown",
   "id": "1d1768d2",
   "metadata": {},
   "source": [
    "- Editing the cons.conf.idx: this value is a monthly value, so we need to make it consistant with quarters."
   ]
  },
  {
   "cell_type": "code",
   "execution_count": 61,
   "id": "cd3171d8",
   "metadata": {},
   "outputs": [],
   "source": [
    "df_g = df1.groupby(\"quarter\")[\"cons.conf.idx\"].mean()"
   ]
  },
  {
   "cell_type": "code",
   "execution_count": 62,
   "id": "f97ca03f",
   "metadata": {},
   "outputs": [],
   "source": [
    "def get_cons_idx(q):\n",
    "    global df_g\n",
    "    return df_g[q]\n",
    "df1[\"cons_confi_Q\"] = df1[\"quarter\"].apply(get_cons_idx)"
   ]
  },
  {
   "cell_type": "markdown",
   "id": "c8e50a19",
   "metadata": {},
   "source": [
    "- Editing the cons.price.idx: this value is a monthly value, so we need to make it consistant with quarters."
   ]
  },
  {
   "cell_type": "code",
   "execution_count": 63,
   "id": "ac8f7834",
   "metadata": {},
   "outputs": [],
   "source": [
    "df_g = df1.groupby(\"quarter\")[\"cons.price.idx\"].mean()\n",
    "def get_price_idx(q):\n",
    "    global df_g\n",
    "    return df_g[q]\n",
    "df1[\"cons_price_Q\"] = df1[\"quarter\"].apply(get_price_idx)"
   ]
  },
  {
   "cell_type": "markdown",
   "id": "081e5c6a",
   "metadata": {},
   "source": [
    "- Editing the emp.var.rate: this value is a monthly value, so we need to make it consistant with quarters."
   ]
  },
  {
   "cell_type": "code",
   "execution_count": 64,
   "id": "8602a009",
   "metadata": {},
   "outputs": [],
   "source": [
    "df_g = df1.groupby(\"quarter\")[\"emp.var.rate\"].mean()\n",
    "def get_emp_var(q):\n",
    "    global df_g\n",
    "    return df_g[q]\n",
    "df1[\"emp_var_Q\"] = df1[\"quarter\"].apply(get_emp_var)"
   ]
  },
  {
   "cell_type": "markdown",
   "id": "4f548706",
   "metadata": {},
   "source": [
    "- Dropping Columns that we have transformed yet:"
   ]
  },
  {
   "cell_type": "code",
   "execution_count": 65,
   "id": "1202a241",
   "metadata": {},
   "outputs": [],
   "source": [
    "df1 = df1.drop(columns = [\"emp.var.rate\", \"cons.price.idx\", \"cons.conf.idx\", \"euribor3m\"])"
   ]
  },
  {
   "cell_type": "markdown",
   "id": "80c5c9e8",
   "metadata": {},
   "source": [
    "- Changing the education to layered levels instead of some strings (will be useful for correlation tests): like label encoding"
   ]
  },
  {
   "cell_type": "code",
   "execution_count": 70,
   "id": "a0a2526c",
   "metadata": {},
   "outputs": [],
   "source": [
    "# Leveling eduation\n",
    "levels ={\"illiterate\": 0, \"basic.4y\": 1, \"basic.6y\": 2,\n",
    "         \"basic.9y\": 3, \"high.school\": 4, \"university.degree\": 5,\n",
    "        \"professional.course\": 6, \"unknown\": np.nan}\n",
    "df1[\"education\"] = df1[\"education\"].replace({\"illiterate\": 0, \"basic.4y\": 1, \"basic.6y\": 2,\n",
    "                                            \"basic.9y\": 3, \"high.school\": 4, \"university.degree\": 5,\n",
    "                                            \"professional.course\": 6, \"unknown\": np.nan})"
   ]
  },
  {
   "cell_type": "markdown",
   "id": "b1074126",
   "metadata": {},
   "source": [
    "- Changing the yes/no columns to 0 and one (will be useful for correlation tests): like label encoding"
   ]
  },
  {
   "cell_type": "code",
   "execution_count": 72,
   "id": "d9b62e87",
   "metadata": {},
   "outputs": [],
   "source": [
    "df1[\"default\"] = df1[\"default\"].replace({\"yes\": 1, \"no\": 0, \"unknown\": np.nan})"
   ]
  },
  {
   "cell_type": "code",
   "execution_count": 73,
   "id": "2a139071",
   "metadata": {},
   "outputs": [],
   "source": [
    "df1[\"housing\"] = df1[\"housing\"].replace({\"yes\": 1, \"no\": 0, \"unknown\": np.nan})"
   ]
  },
  {
   "cell_type": "code",
   "execution_count": 74,
   "id": "2f09b1f7",
   "metadata": {},
   "outputs": [],
   "source": [
    "df1[\"loan\"] = df1[\"loan\"].replace({\"yes\": 1, \"no\": 0, \"unknown\": np.nan})"
   ]
  },
  {
   "cell_type": "markdown",
   "id": "2f4e11c3",
   "metadata": {},
   "source": [
    "- Drop the month column as we have quarters and years instead."
   ]
  },
  {
   "cell_type": "code",
   "execution_count": 75,
   "id": "24bb94a1",
   "metadata": {},
   "outputs": [],
   "source": [
    "df1 = df1.drop(columns = [\"month\"])"
   ]
  },
  {
   "cell_type": "markdown",
   "id": "5c0a2d3c",
   "metadata": {},
   "source": [
    "- Drop the day of week column as it has no effect on the label."
   ]
  },
  {
   "cell_type": "code",
   "execution_count": 76,
   "id": "2ab24512",
   "metadata": {},
   "outputs": [],
   "source": [
    "df_g = df1.groupby(\"day_of_week\")[\"y\"].value_counts()"
   ]
  },
  {
   "cell_type": "code",
   "execution_count": 77,
   "id": "8ab72ce0",
   "metadata": {},
   "outputs": [
    {
     "data": {
      "text/plain": [
       "day_of_week  y  \n",
       "fri          no     6981\n",
       "             yes     846\n",
       "mon          no     7667\n",
       "             yes     847\n",
       "thu          no     7578\n",
       "             yes    1045\n",
       "tue          no     7137\n",
       "             yes     953\n",
       "wed          no     7185\n",
       "             yes     949\n",
       "Name: y, dtype: int64"
      ]
     },
     "execution_count": 77,
     "metadata": {},
     "output_type": "execute_result"
    }
   ],
   "source": [
    "df_g"
   ]
  },
  {
   "cell_type": "markdown",
   "id": "a86e60c8",
   "metadata": {},
   "source": [
    "Wee can see that, day of the week does not have a significant effect on the label, so dicarding it is reasonable"
   ]
  },
  {
   "cell_type": "code",
   "execution_count": 78,
   "id": "07559ce3",
   "metadata": {},
   "outputs": [],
   "source": [
    "df1 = df1.drop(columns = [\"day_of_week\"])"
   ]
  },
  {
   "cell_type": "markdown",
   "id": "7ba27e1c",
   "metadata": {},
   "source": [
    "- Adding age levels instead of numeric value of the age, this will be ggod for changing the distribution of the age column, and also we can replace it with layered values later."
   ]
  },
  {
   "cell_type": "code",
   "execution_count": 80,
   "id": "9ef745bd",
   "metadata": {},
   "outputs": [],
   "source": [
    "## Adding age level:\n",
    "def age_level(age):\n",
    "    if age>50:\n",
    "        return \"Senior Adult\"\n",
    "    elif((age <= 50 )&(age > 30)):\n",
    "        return \"Mid Age Adult\"\n",
    "    elif((age <= 30 )&(age > 18)):\n",
    "        return \"Adult\"\n",
    "    else:\n",
    "        return \"Teenager\"\n",
    "df1[\"age_level\"] = df1[\"age\"].apply(age_level)"
   ]
  },
  {
   "cell_type": "code",
   "execution_count": 81,
   "id": "97d21684",
   "metadata": {},
   "outputs": [],
   "source": [
    "df1 = df1.drop(columns = [\"age\"])"
   ]
  },
  {
   "cell_type": "code",
   "execution_count": 82,
   "id": "a158bdd4",
   "metadata": {},
   "outputs": [
    {
     "name": "stdout",
     "output_type": "stream",
     "text": [
      "<class 'pandas.core.frame.DataFrame'>\n",
      "RangeIndex: 41188 entries, 0 to 41187\n",
      "Data columns (total 21 columns):\n",
      " #   Column        Non-Null Count  Dtype  \n",
      "---  ------        --------------  -----  \n",
      " 0   job           41188 non-null  object \n",
      " 1   marital       41188 non-null  object \n",
      " 2   education     39457 non-null  float64\n",
      " 3   default       32591 non-null  float64\n",
      " 4   housing       40198 non-null  float64\n",
      " 5   loan          40198 non-null  float64\n",
      " 6   contact       41188 non-null  object \n",
      " 7   duration      41188 non-null  int64  \n",
      " 8   campaign      41188 non-null  int64  \n",
      " 9   pdays         41188 non-null  int64  \n",
      " 10  previous      41188 non-null  int64  \n",
      " 11  poutcome      41188 non-null  object \n",
      " 12  nr.employed   41188 non-null  float64\n",
      " 13  y             41188 non-null  object \n",
      " 14  quarter       41188 non-null  int64  \n",
      " 15  year          41188 non-null  int64  \n",
      " 16  euriborQ      41188 non-null  float64\n",
      " 17  cons_confi_Q  41188 non-null  float64\n",
      " 18  cons_price_Q  41188 non-null  float64\n",
      " 19  emp_var_Q     41188 non-null  float64\n",
      " 20  age_level     41188 non-null  object \n",
      "dtypes: float64(9), int64(6), object(6)\n",
      "memory usage: 6.6+ MB\n"
     ]
    }
   ],
   "source": [
    "df1.info()"
   ]
  },
  {
   "cell_type": "markdown",
   "id": "09444ec9",
   "metadata": {},
   "source": [
    "- Changing the y column to make it ready for correlation test, then we have to reverse this step when modeling."
   ]
  },
  {
   "cell_type": "code",
   "execution_count": 83,
   "id": "37414200",
   "metadata": {},
   "outputs": [],
   "source": [
    "df1[\"y\"] = df1[\"y\"].replace({\"yes\": 1, \"no\": 0})"
   ]
  },
  {
   "cell_type": "markdown",
   "id": "48df866b",
   "metadata": {},
   "source": [
    "- Dropping the duration of the call as it is not known before the call is made"
   ]
  },
  {
   "cell_type": "code",
   "execution_count": 84,
   "id": "537b3380",
   "metadata": {},
   "outputs": [],
   "source": [
    "df1 = df1.drop(columns = [\"duration\"])"
   ]
  },
  {
   "cell_type": "markdown",
   "id": "af7b3ea2",
   "metadata": {},
   "source": [
    "- Dropping the nr.employed columns as it varies with a very small amount:"
   ]
  },
  {
   "cell_type": "code",
   "execution_count": 85,
   "id": "7ea310d3",
   "metadata": {},
   "outputs": [],
   "source": [
    "df1 = df1.drop(columns = [\"nr.employed\"])"
   ]
  },
  {
   "cell_type": "markdown",
   "id": "df6b1c45",
   "metadata": {},
   "source": [
    "- Trannsforming values of poutcome, also will be usefull for correlation test ( feature selection)."
   ]
  },
  {
   "cell_type": "code",
   "execution_count": 88,
   "id": "f4f2db88",
   "metadata": {},
   "outputs": [],
   "source": [
    "df1[\"poutcome\"] = df1[\"poutcome\"].replace({\"success\": 1, \"failure\": 0, \"nonexistent\": np.nan})"
   ]
  },
  {
   "cell_type": "code",
   "execution_count": 89,
   "id": "02a062ad",
   "metadata": {},
   "outputs": [],
   "source": [
    "df1.to_csv(\"master_data.csv\", index = False)"
   ]
  },
  {
   "cell_type": "markdown",
   "id": "752c6298",
   "metadata": {},
   "source": [
    "## dealing with outliers:"
   ]
  },
  {
   "cell_type": "code",
   "execution_count": 7,
   "id": "a6460538",
   "metadata": {},
   "outputs": [],
   "source": [
    "# # investigating Outliers in each column:\n",
    "# # age columns using the 1.5 inter quartile range\n",
    "# age_iqr    = (df1[\"age\"].describe()[\"75%\"] - df1[\"age\"].describe()[\"25%\"])\n",
    "# age_iqr_15 = 1.5*age_iqr\n",
    "# # Inner and outer  Lower fences:\n",
    "# lower_inner = df1[\"age\"].describe()[\"25%\"] - age_iqr_15\n",
    "# # Inner and outer  Upper fences:\n",
    "# upper_inner = df1[\"age\"].describe()[\"75%\"] + age_iqr_15\n",
    "# # Severe Outlies are those points which not between the two innerss"
   ]
  },
  {
   "cell_type": "code",
   "execution_count": 8,
   "id": "692152db",
   "metadata": {},
   "outputs": [],
   "source": [
    "# Selecting Ouliers:\n",
    "# otliers_index = df1[(df1[\"age\"] <= lower_inner) | (df1[\"age\"] >= upper_inner)]"
   ]
  },
  {
   "cell_type": "code",
   "execution_count": 12,
   "id": "d053ca8f",
   "metadata": {},
   "outputs": [
    {
     "data": {
      "text/plain": [
       "0.011386811692726036"
      ]
     },
     "execution_count": 12,
     "metadata": {},
     "output_type": "execute_result"
    }
   ],
   "source": [
    "# outliers percaentage:\n",
    "# len(otliers_index) / len(df1)"
   ]
  },
  {
   "cell_type": "markdown",
   "id": "7a969c5d",
   "metadata": {},
   "source": [
    "Around 1.1% is outlier in this column"
   ]
  },
  {
   "cell_type": "code",
   "execution_count": 96,
   "id": "ff23b9d5",
   "metadata": {
    "scrolled": true
   },
   "outputs": [],
   "source": [
    "#Numerical in ouliers:\n",
    "# for i in otliers_index.columns.to_list():\n",
    "#     if str(otliers_index[i].dtype) != 'object':\n",
    "#         # Print Statistics of it\n",
    "#         print(\"Descriptive Statistics is for columns {} :\\n {}\".format(i, otliers_index[i].describe()))\n",
    "#         fig, ax = plt.subplots(2,1, figsize = (10,10))\n",
    "#         ax[0].set_title(f\"Box Plot For Columns {i}\")\n",
    "#         ax[0].boxplot(otliers_index[i], vert = False, sym = \"r.\")\n",
    "#         ax[1].set_title(f\"Histogram of values for column {i}\")\n",
    "#         r = ax[1].hist(otliers_index[i], histtype = \"bar\")\n",
    "#         plt.show()"
   ]
  },
  {
   "cell_type": "markdown",
   "id": "4e8e2ecf",
   "metadata": {},
   "source": [
    "So nothing is strange in numerical analysis for outliers in Age Column, it's nearly idenical to the origial distibutions, so now its time to investigate categorical ones."
   ]
  },
  {
   "cell_type": "code",
   "execution_count": 97,
   "id": "0067fdc3",
   "metadata": {
    "scrolled": true
   },
   "outputs": [],
   "source": [
    "# Calculating Value Counts:\n",
    "# for i in otliers_index.columns.to_list():\n",
    "#     if str(otliers_index[i].dtype) == 'object':\n",
    "#         print(f\" ============ Categorical Columns {i} ===========\")\n",
    "# #         print(f\" ============ Unique Values ===========\")\n",
    "# #         print(df1[i].unique())\n",
    "#         print(f\" ============ Value Counts ===========\")\n",
    "#         print(otliers_index[i].value_counts())"
   ]
  },
  {
   "cell_type": "code",
   "execution_count": 98,
   "id": "e1e782e3",
   "metadata": {},
   "outputs": [],
   "source": [
    "#nvesitagting catigorical columns:\n",
    "# # Unkowns of job:\n",
    "# job_nan = df1[df1[\"job\"] == \"unknown\"].reset_index().drop(columns = [\"index\"])"
   ]
  },
  {
   "cell_type": "code",
   "execution_count": 99,
   "id": "06737104",
   "metadata": {
    "scrolled": true
   },
   "outputs": [],
   "source": [
    "# #Numerical values:\n",
    "# for i in job_nan.columns.to_list():\n",
    "#     if str(job_nan[i].dtype) != 'object':\n",
    "#         # Print Statistics of it\n",
    "#         print(\"Descriptive Statistics is for columns {} :\\n {}\".format(i, job_nan[i].describe()))\n",
    "#         fig, ax = plt.subplots(2,1, figsize = (10,10))\n",
    "#         ax[0].set_title(f\"Box Plot For Columns {i}\")\n",
    "#         ax[0].boxplot(job_nan[i], vert = False, sym = \"r.\")\n",
    "#         ax[1].set_title(f\"Histogram of values for column {i}\")\n",
    "#         r = ax[1].hist(job_nan[i], histtype = \"bar\")\n",
    "#         plt.show()"
   ]
  },
  {
   "cell_type": "markdown",
   "id": "cebca909",
   "metadata": {},
   "source": [
    "### Some Insights from here:\n",
    "- For those who we don't know about their job, the duration of the last call lasted between (0 and 500 seconds).\n",
    "- it appears that the bank called the clients more than one in this campagin.\n",
    "- it appears that for this campaign, most of those people was not contacted before as the number of 999 means that. (pdys column)\n",
    "- the last note obviuosly that in the previuos column also most of the values are 0, which means that there was not contact before this campaign.\n",
    "- for the employment variation rate, it shows that most of the values are more than 0 and less than 2."
   ]
  },
  {
   "cell_type": "code",
   "execution_count": null,
   "id": "f783c34f",
   "metadata": {},
   "outputs": [],
   "source": [
    "# Feature Engineering Ideas:\n",
    "# - Adding Age Stage instead of ages values.\n",
    "# - Column indicates highly repeated calls for clients. (from ampaign column)\n",
    "# - Add Quarter Column\n",
    "# - Bin the column which has a disrete distribution.\n",
    "# - Changing the Yes or no to 1 and 0 and unknown to NaN\n",
    "# - Impute the NaN\n",
    "# - Change educational level to (0 => Ilitreate, 1=> Basic 4y, 2=> basic 6Y, 3=> Basic 9y,\n",
    "#   4 => High scool, 5 => University degree, 6=> Professional course, NaA => Unknown )\n",
    "# - Deal With the imbalanced labels.\n",
    "# - add columns to indicate Before 2008 economic depression and after depression\n"
   ]
  }
 ],
 "metadata": {
  "kernelspec": {
   "display_name": "Python 3 (ipykernel)",
   "language": "python",
   "name": "python3"
  },
  "language_info": {
   "codemirror_mode": {
    "name": "ipython",
    "version": 3
   },
   "file_extension": ".py",
   "mimetype": "text/x-python",
   "name": "python",
   "nbconvert_exporter": "python",
   "pygments_lexer": "ipython3",
   "version": "3.8.12"
  }
 },
 "nbformat": 4,
 "nbformat_minor": 5
}
