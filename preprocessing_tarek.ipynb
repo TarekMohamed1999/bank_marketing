{
 "cells": [
  {
   "cell_type": "code",
   "execution_count": 1,
   "id": "dd9e9602",
   "metadata": {},
   "outputs": [
    {
     "name": "stderr",
     "output_type": "stream",
     "text": [
      "\n",
      "Bad key text.latex.preview in file /home/tarek/anaconda3/lib/python3.8/site-packages/matplotlib/mpl-data/stylelib/_classic_test.mplstyle, line 123 ('text.latex.preview : False')\n",
      "You probably need to get an updated matplotlibrc file from\n",
      "https://github.com/matplotlib/matplotlib/blob/v3.5.1/matplotlibrc.template\n",
      "or from the matplotlib source distribution\n",
      "\n",
      "Bad key mathtext.fallback_to_cm in file /home/tarek/anaconda3/lib/python3.8/site-packages/matplotlib/mpl-data/stylelib/_classic_test.mplstyle, line 155 ('mathtext.fallback_to_cm : True  # When True, use symbols from the Computer Modern')\n",
      "You probably need to get an updated matplotlibrc file from\n",
      "https://github.com/matplotlib/matplotlib/blob/v3.5.1/matplotlibrc.template\n",
      "or from the matplotlib source distribution\n",
      "\n",
      "Bad key savefig.jpeg_quality in file /home/tarek/anaconda3/lib/python3.8/site-packages/matplotlib/mpl-data/stylelib/_classic_test.mplstyle, line 418 ('savefig.jpeg_quality: 95       # when a jpeg is saved, the default quality parameter.')\n",
      "You probably need to get an updated matplotlibrc file from\n",
      "https://github.com/matplotlib/matplotlib/blob/v3.5.1/matplotlibrc.template\n",
      "or from the matplotlib source distribution\n",
      "\n",
      "Bad key keymap.all_axes in file /home/tarek/anaconda3/lib/python3.8/site-packages/matplotlib/mpl-data/stylelib/_classic_test.mplstyle, line 466 ('keymap.all_axes : a                 # enable all axes')\n",
      "You probably need to get an updated matplotlibrc file from\n",
      "https://github.com/matplotlib/matplotlib/blob/v3.5.1/matplotlibrc.template\n",
      "or from the matplotlib source distribution\n",
      "\n",
      "Bad key animation.avconv_path in file /home/tarek/anaconda3/lib/python3.8/site-packages/matplotlib/mpl-data/stylelib/_classic_test.mplstyle, line 477 ('animation.avconv_path: avconv     # Path to avconv binary. Without full path')\n",
      "You probably need to get an updated matplotlibrc file from\n",
      "https://github.com/matplotlib/matplotlib/blob/v3.5.1/matplotlibrc.template\n",
      "or from the matplotlib source distribution\n",
      "\n",
      "Bad key animation.avconv_args in file /home/tarek/anaconda3/lib/python3.8/site-packages/matplotlib/mpl-data/stylelib/_classic_test.mplstyle, line 479 ('animation.avconv_args:            # Additional arguments to pass to avconv')\n",
      "You probably need to get an updated matplotlibrc file from\n",
      "https://github.com/matplotlib/matplotlib/blob/v3.5.1/matplotlibrc.template\n",
      "or from the matplotlib source distribution\n"
     ]
    }
   ],
   "source": [
    "import pandas as pd\n",
    "import numpy as np\n",
    "import matplotlib.pyplot as plt\n",
    "import plotly as pl\n",
    "import seaborn as sns\n",
    "import warnings\n",
    "warnings.filterwarnings(\"ignore\")"
   ]
  },
  {
   "cell_type": "code",
   "execution_count": 3,
   "id": "8269957b",
   "metadata": {},
   "outputs": [],
   "source": [
    "df1 = pd.read_csv(\"bank-additional/bank-additional/bank-additional-full.csv\", sep=\";\")"
   ]
  },
  {
   "cell_type": "code",
   "execution_count": 4,
   "id": "b036b924",
   "metadata": {},
   "outputs": [
    {
     "data": {
      "text/html": [
       "<div>\n",
       "<style scoped>\n",
       "    .dataframe tbody tr th:only-of-type {\n",
       "        vertical-align: middle;\n",
       "    }\n",
       "\n",
       "    .dataframe tbody tr th {\n",
       "        vertical-align: top;\n",
       "    }\n",
       "\n",
       "    .dataframe thead th {\n",
       "        text-align: right;\n",
       "    }\n",
       "</style>\n",
       "<table border=\"1\" class=\"dataframe\">\n",
       "  <thead>\n",
       "    <tr style=\"text-align: right;\">\n",
       "      <th></th>\n",
       "      <th>age</th>\n",
       "      <th>job</th>\n",
       "      <th>marital</th>\n",
       "      <th>education</th>\n",
       "      <th>default</th>\n",
       "      <th>housing</th>\n",
       "      <th>loan</th>\n",
       "      <th>contact</th>\n",
       "      <th>month</th>\n",
       "      <th>day_of_week</th>\n",
       "      <th>...</th>\n",
       "      <th>campaign</th>\n",
       "      <th>pdays</th>\n",
       "      <th>previous</th>\n",
       "      <th>poutcome</th>\n",
       "      <th>emp.var.rate</th>\n",
       "      <th>cons.price.idx</th>\n",
       "      <th>cons.conf.idx</th>\n",
       "      <th>euribor3m</th>\n",
       "      <th>nr.employed</th>\n",
       "      <th>y</th>\n",
       "    </tr>\n",
       "  </thead>\n",
       "  <tbody>\n",
       "    <tr>\n",
       "      <th>0</th>\n",
       "      <td>56</td>\n",
       "      <td>housemaid</td>\n",
       "      <td>married</td>\n",
       "      <td>basic.4y</td>\n",
       "      <td>no</td>\n",
       "      <td>no</td>\n",
       "      <td>no</td>\n",
       "      <td>telephone</td>\n",
       "      <td>may</td>\n",
       "      <td>mon</td>\n",
       "      <td>...</td>\n",
       "      <td>1</td>\n",
       "      <td>999</td>\n",
       "      <td>0</td>\n",
       "      <td>nonexistent</td>\n",
       "      <td>1.1</td>\n",
       "      <td>93.994</td>\n",
       "      <td>-36.4</td>\n",
       "      <td>4.857</td>\n",
       "      <td>5191.0</td>\n",
       "      <td>no</td>\n",
       "    </tr>\n",
       "    <tr>\n",
       "      <th>1</th>\n",
       "      <td>57</td>\n",
       "      <td>services</td>\n",
       "      <td>married</td>\n",
       "      <td>high.school</td>\n",
       "      <td>unknown</td>\n",
       "      <td>no</td>\n",
       "      <td>no</td>\n",
       "      <td>telephone</td>\n",
       "      <td>may</td>\n",
       "      <td>mon</td>\n",
       "      <td>...</td>\n",
       "      <td>1</td>\n",
       "      <td>999</td>\n",
       "      <td>0</td>\n",
       "      <td>nonexistent</td>\n",
       "      <td>1.1</td>\n",
       "      <td>93.994</td>\n",
       "      <td>-36.4</td>\n",
       "      <td>4.857</td>\n",
       "      <td>5191.0</td>\n",
       "      <td>no</td>\n",
       "    </tr>\n",
       "    <tr>\n",
       "      <th>2</th>\n",
       "      <td>37</td>\n",
       "      <td>services</td>\n",
       "      <td>married</td>\n",
       "      <td>high.school</td>\n",
       "      <td>no</td>\n",
       "      <td>yes</td>\n",
       "      <td>no</td>\n",
       "      <td>telephone</td>\n",
       "      <td>may</td>\n",
       "      <td>mon</td>\n",
       "      <td>...</td>\n",
       "      <td>1</td>\n",
       "      <td>999</td>\n",
       "      <td>0</td>\n",
       "      <td>nonexistent</td>\n",
       "      <td>1.1</td>\n",
       "      <td>93.994</td>\n",
       "      <td>-36.4</td>\n",
       "      <td>4.857</td>\n",
       "      <td>5191.0</td>\n",
       "      <td>no</td>\n",
       "    </tr>\n",
       "    <tr>\n",
       "      <th>3</th>\n",
       "      <td>40</td>\n",
       "      <td>admin.</td>\n",
       "      <td>married</td>\n",
       "      <td>basic.6y</td>\n",
       "      <td>no</td>\n",
       "      <td>no</td>\n",
       "      <td>no</td>\n",
       "      <td>telephone</td>\n",
       "      <td>may</td>\n",
       "      <td>mon</td>\n",
       "      <td>...</td>\n",
       "      <td>1</td>\n",
       "      <td>999</td>\n",
       "      <td>0</td>\n",
       "      <td>nonexistent</td>\n",
       "      <td>1.1</td>\n",
       "      <td>93.994</td>\n",
       "      <td>-36.4</td>\n",
       "      <td>4.857</td>\n",
       "      <td>5191.0</td>\n",
       "      <td>no</td>\n",
       "    </tr>\n",
       "    <tr>\n",
       "      <th>4</th>\n",
       "      <td>56</td>\n",
       "      <td>services</td>\n",
       "      <td>married</td>\n",
       "      <td>high.school</td>\n",
       "      <td>no</td>\n",
       "      <td>no</td>\n",
       "      <td>yes</td>\n",
       "      <td>telephone</td>\n",
       "      <td>may</td>\n",
       "      <td>mon</td>\n",
       "      <td>...</td>\n",
       "      <td>1</td>\n",
       "      <td>999</td>\n",
       "      <td>0</td>\n",
       "      <td>nonexistent</td>\n",
       "      <td>1.1</td>\n",
       "      <td>93.994</td>\n",
       "      <td>-36.4</td>\n",
       "      <td>4.857</td>\n",
       "      <td>5191.0</td>\n",
       "      <td>no</td>\n",
       "    </tr>\n",
       "  </tbody>\n",
       "</table>\n",
       "<p>5 rows × 21 columns</p>\n",
       "</div>"
      ],
      "text/plain": [
       "   age        job  marital    education  default housing loan    contact  \\\n",
       "0   56  housemaid  married     basic.4y       no      no   no  telephone   \n",
       "1   57   services  married  high.school  unknown      no   no  telephone   \n",
       "2   37   services  married  high.school       no     yes   no  telephone   \n",
       "3   40     admin.  married     basic.6y       no      no   no  telephone   \n",
       "4   56   services  married  high.school       no      no  yes  telephone   \n",
       "\n",
       "  month day_of_week  ...  campaign  pdays  previous     poutcome emp.var.rate  \\\n",
       "0   may         mon  ...         1    999         0  nonexistent          1.1   \n",
       "1   may         mon  ...         1    999         0  nonexistent          1.1   \n",
       "2   may         mon  ...         1    999         0  nonexistent          1.1   \n",
       "3   may         mon  ...         1    999         0  nonexistent          1.1   \n",
       "4   may         mon  ...         1    999         0  nonexistent          1.1   \n",
       "\n",
       "   cons.price.idx  cons.conf.idx  euribor3m  nr.employed   y  \n",
       "0          93.994          -36.4      4.857       5191.0  no  \n",
       "1          93.994          -36.4      4.857       5191.0  no  \n",
       "2          93.994          -36.4      4.857       5191.0  no  \n",
       "3          93.994          -36.4      4.857       5191.0  no  \n",
       "4          93.994          -36.4      4.857       5191.0  no  \n",
       "\n",
       "[5 rows x 21 columns]"
      ]
     },
     "execution_count": 4,
     "metadata": {},
     "output_type": "execute_result"
    }
   ],
   "source": [
    "df1.head()"
   ]
  },
  {
   "cell_type": "code",
   "execution_count": 5,
   "id": "6d59297d",
   "metadata": {},
   "outputs": [
    {
     "name": "stdout",
     "output_type": "stream",
     "text": [
      "<class 'pandas.core.frame.DataFrame'>\n",
      "RangeIndex: 41188 entries, 0 to 41187\n",
      "Data columns (total 21 columns):\n",
      " #   Column          Non-Null Count  Dtype  \n",
      "---  ------          --------------  -----  \n",
      " 0   age             41188 non-null  int64  \n",
      " 1   job             41188 non-null  object \n",
      " 2   marital         41188 non-null  object \n",
      " 3   education       41188 non-null  object \n",
      " 4   default         41188 non-null  object \n",
      " 5   housing         41188 non-null  object \n",
      " 6   loan            41188 non-null  object \n",
      " 7   contact         41188 non-null  object \n",
      " 8   month           41188 non-null  object \n",
      " 9   day_of_week     41188 non-null  object \n",
      " 10  duration        41188 non-null  int64  \n",
      " 11  campaign        41188 non-null  int64  \n",
      " 12  pdays           41188 non-null  int64  \n",
      " 13  previous        41188 non-null  int64  \n",
      " 14  poutcome        41188 non-null  object \n",
      " 15  emp.var.rate    41188 non-null  float64\n",
      " 16  cons.price.idx  41188 non-null  float64\n",
      " 17  cons.conf.idx   41188 non-null  float64\n",
      " 18  euribor3m       41188 non-null  float64\n",
      " 19  nr.employed     41188 non-null  float64\n",
      " 20  y               41188 non-null  object \n",
      "dtypes: float64(5), int64(5), object(11)\n",
      "memory usage: 6.6+ MB\n"
     ]
    }
   ],
   "source": [
    "df1.info()"
   ]
  },
  {
   "cell_type": "markdown",
   "id": "e8e03370",
   "metadata": {},
   "source": [
    "# Investigating Numerical columns:"
   ]
  },
  {
   "cell_type": "code",
   "execution_count": 6,
   "id": "3ce05a17",
   "metadata": {
    "scrolled": false
   },
   "outputs": [
    {
     "name": "stdout",
     "output_type": "stream",
     "text": [
      "Descriptive Statistics is for columns age :\n",
      " count    41188.00000\n",
      "mean        40.02406\n",
      "std         10.42125\n",
      "min         17.00000\n",
      "25%         32.00000\n",
      "50%         38.00000\n",
      "75%         47.00000\n",
      "max         98.00000\n",
      "Name: age, dtype: float64\n"
     ]
    },
    {
     "data": {
      "image/png": "[encoded data removed]",
      "text/plain": [
       "<Figure size 720x720 with 2 Axes>"
      ]
     },
     "metadata": {
      "needs_background": "light"
     },
     "output_type": "display_data"
    },
    {
     "name": "stdout",
     "output_type": "stream",
     "text": [
      "Descriptive Statistics is for columns duration :\n",
      " count    41188.000000\n",
      "mean       258.285010\n",
      "std        259.279249\n",
      "min          0.000000\n",
      "25%        102.000000\n",
      "50%        180.000000\n",
      "75%        319.000000\n",
      "max       4918.000000\n",
      "Name: duration, dtype: float64\n"
     ]
    },
    {
     "data": {
      "image/png": "[encoded data removed]",
      "text/plain": [
       "<Figure size 720x720 with 2 Axes>"
      ]
     },
     "metadata": {
      "needs_background": "light"
     },
     "output_type": "display_data"
    },
    {
     "name": "stdout",
     "output_type": "stream",
     "text": [
      "Descriptive Statistics is for columns campaign :\n",
      " count    41188.000000\n",
      "mean         2.567593\n",
      "std          2.770014\n",
      "min          1.000000\n",
      "25%          1.000000\n",
      "50%          2.000000\n",
      "75%          3.000000\n",
      "max         56.000000\n",
      "Name: campaign, dtype: float64\n"
     ]
    },
    {
     "data": {
      "image/png": "[encoded data removed]",
      "text/plain": [
       "<Figure size 720x720 with 2 Axes>"
      ]
     },
     "metadata": {
      "needs_background": "light"
     },
     "output_type": "display_data"
    },
    {
     "name": "stdout",
     "output_type": "stream",
     "text": [
      "Descriptive Statistics is for columns pdays :\n",
      " count    41188.000000\n",
      "mean       962.475454\n",
      "std        186.910907\n",
      "min          0.000000\n",
      "25%        999.000000\n",
      "50%        999.000000\n",
      "75%        999.000000\n",
      "max        999.000000\n",
      "Name: pdays, dtype: float64\n"
     ]
    },
    {
     "data": {
      "image/png": "[encoded data removed]",
      "text/plain": [
       "<Figure size 720x720 with 2 Axes>"
      ]
     },
     "metadata": {
      "needs_background": "light"
     },
     "output_type": "display_data"
    },
    {
     "name": "stdout",
     "output_type": "stream",
     "text": [
      "Descriptive Statistics is for columns previous :\n",
      " count    41188.000000\n",
      "mean         0.172963\n",
      "std          0.494901\n",
      "min          0.000000\n",
      "25%          0.000000\n",
      "50%          0.000000\n",
      "75%          0.000000\n",
      "max          7.000000\n",
      "Name: previous, dtype: float64\n"
     ]
    },
    {
     "data": {
      "image/png": "[encoded data removed]",
      "text/plain": [
       "<Figure size 720x720 with 2 Axes>"
      ]
     },
     "metadata": {
      "needs_background": "light"
     },
     "output_type": "display_data"
    },
    {
     "name": "stdout",
     "output_type": "stream",
     "text": [
      "Descriptive Statistics is for columns emp.var.rate :\n",
      " count    41188.000000\n",
      "mean         0.081886\n",
      "std          1.570960\n",
      "min         -3.400000\n",
      "25%         -1.800000\n",
      "50%          1.100000\n",
      "75%          1.400000\n",
      "max          1.400000\n",
      "Name: emp.var.rate, dtype: float64\n"
     ]
    },
    {
     "data": {
      "image/png": "[encoded data removed]",
      "text/plain": [
       "<Figure size 720x720 with 2 Axes>"
      ]
     },
     "metadata": {
      "needs_background": "light"
     },
     "output_type": "display_data"
    },
    {
     "name": "stdout",
     "output_type": "stream",
     "text": [
      "Descriptive Statistics is for columns cons.price.idx :\n",
      " count    41188.000000\n",
      "mean        93.575664\n",
      "std          0.578840\n",
      "min         92.201000\n",
      "25%         93.075000\n",
      "50%         93.749000\n",
      "75%         93.994000\n",
      "max         94.767000\n",
      "Name: cons.price.idx, dtype: float64\n"
     ]
    },
    {
     "data": {
      "image/png": "[encoded data removed]",
      "text/plain": [
       "<Figure size 720x720 with 2 Axes>"
      ]
     },
     "metadata": {
      "needs_background": "light"
     },
     "output_type": "display_data"
    },
    {
     "name": "stdout",
     "output_type": "stream",
     "text": [
      "Descriptive Statistics is for columns cons.conf.idx :\n",
      " count    41188.000000\n",
      "mean       -40.502600\n",
      "std          4.628198\n",
      "min        -50.800000\n",
      "25%        -42.700000\n",
      "50%        -41.800000\n",
      "75%        -36.400000\n",
      "max        -26.900000\n",
      "Name: cons.conf.idx, dtype: float64\n"
     ]
    },
    {
     "data": {
      "image/png": "[encoded data removed]",
      "text/plain": [
       "<Figure size 720x720 with 2 Axes>"
      ]
     },
     "metadata": {
      "needs_background": "light"
     },
     "output_type": "display_data"
    },
    {
     "name": "stdout",
     "output_type": "stream",
     "text": [
      "Descriptive Statistics is for columns euribor3m :\n",
      " count    41188.000000\n",
      "mean         3.621291\n",
      "std          1.734447\n",
      "min          0.634000\n",
      "25%          1.344000\n",
      "50%          4.857000\n",
      "75%          4.961000\n",
      "max          5.045000\n",
      "Name: euribor3m, dtype: float64\n"
     ]
    },
    {
     "data": {
      "image/png": "[encoded data removed]",
      "text/plain": [
       "<Figure size 720x720 with 2 Axes>"
      ]
     },
     "metadata": {
      "needs_background": "light"
     },
     "output_type": "display_data"
    },
    {
     "name": "stdout",
     "output_type": "stream",
     "text": [
      "Descriptive Statistics is for columns nr.employed :\n",
      " count    41188.000000\n",
      "mean      5167.035911\n",
      "std         72.251528\n",
      "min       4963.600000\n",
      "25%       5099.100000\n",
      "50%       5191.000000\n",
      "75%       5228.100000\n",
      "max       5228.100000\n",
      "Name: nr.employed, dtype: float64\n"
     ]
    },
    {
     "data": {
      "image/png": "[encoded data removed]",
      "text/plain": [
       "<Figure size 720x720 with 2 Axes>"
      ]
     },
     "metadata": {
      "needs_background": "light"
     },
     "output_type": "display_data"
    }
   ],
   "source": [
    "for i in df1.columns.to_list():\n",
    "    if str(df1[i].dtype) != 'object':\n",
    "        # Print Statistics of it\n",
    "        print(\"Descriptive Statistics is for columns {} :\\n {}\".format(i, df1[i].describe()))\n",
    "        fig, ax = plt.subplots(2,1, figsize = (10,10))\n",
    "        ax[0].set_title(f\"Box Plot For Columns {i}\")\n",
    "        ax[0].boxplot(df1[i], vert = False, sym = \"r.\")\n",
    "        ax[1].set_title(f\"Histogram of values for column {i}\")\n",
    "        r = ax[1].hist(df1[i], histtype = \"bar\")\n",
    "        plt.show()"
   ]
  },
  {
   "cell_type": "markdown",
   "id": "0ff0642b",
   "metadata": {},
   "source": [
    "# Investigating the Categorical Columns:"
   ]
  },
  {
   "cell_type": "code",
   "execution_count": 9,
   "id": "be039c15",
   "metadata": {
    "scrolled": true
   },
   "outputs": [
    {
     "name": "stdout",
     "output_type": "stream",
     "text": [
      " ============ Categorical Columns job ===========\n",
      " ============ Value Counts ===========\n",
      "admin.           10422\n",
      "blue-collar       9254\n",
      "technician        6743\n",
      "services          3969\n",
      "management        2924\n",
      "retired           1720\n",
      "entrepreneur      1456\n",
      "self-employed     1421\n",
      "housemaid         1060\n",
      "unemployed        1014\n",
      "student            875\n",
      "unknown            330\n",
      "Name: job, dtype: int64\n",
      " ============ Categorical Columns marital ===========\n",
      " ============ Value Counts ===========\n",
      "married     24928\n",
      "single      11568\n",
      "divorced     4612\n",
      "unknown        80\n",
      "Name: marital, dtype: int64\n",
      " ============ Categorical Columns education ===========\n",
      " ============ Value Counts ===========\n",
      "university.degree      12168\n",
      "high.school             9515\n",
      "basic.9y                6045\n",
      "professional.course     5243\n",
      "basic.4y                4176\n",
      "basic.6y                2292\n",
      "unknown                 1731\n",
      "illiterate                18\n",
      "Name: education, dtype: int64\n",
      " ============ Categorical Columns default ===========\n",
      " ============ Value Counts ===========\n",
      "no         32588\n",
      "unknown     8597\n",
      "yes            3\n",
      "Name: default, dtype: int64\n",
      " ============ Categorical Columns housing ===========\n",
      " ============ Value Counts ===========\n",
      "yes        21576\n",
      "no         18622\n",
      "unknown      990\n",
      "Name: housing, dtype: int64\n",
      " ============ Categorical Columns loan ===========\n",
      " ============ Value Counts ===========\n",
      "no         33950\n",
      "yes         6248\n",
      "unknown      990\n",
      "Name: loan, dtype: int64\n",
      " ============ Categorical Columns contact ===========\n",
      " ============ Value Counts ===========\n",
      "cellular     26144\n",
      "telephone    15044\n",
      "Name: contact, dtype: int64\n",
      " ============ Categorical Columns month ===========\n",
      " ============ Value Counts ===========\n",
      "may    13769\n",
      "jul     7174\n",
      "aug     6178\n",
      "jun     5318\n",
      "nov     4101\n",
      "apr     2632\n",
      "oct      718\n",
      "sep      570\n",
      "mar      546\n",
      "dec      182\n",
      "Name: month, dtype: int64\n",
      " ============ Categorical Columns day_of_week ===========\n",
      " ============ Value Counts ===========\n",
      "thu    8623\n",
      "mon    8514\n",
      "wed    8134\n",
      "tue    8090\n",
      "fri    7827\n",
      "Name: day_of_week, dtype: int64\n",
      " ============ Categorical Columns poutcome ===========\n",
      " ============ Value Counts ===========\n",
      "nonexistent    35563\n",
      "failure         4252\n",
      "success         1373\n",
      "Name: poutcome, dtype: int64\n",
      " ============ Categorical Columns y ===========\n",
      " ============ Value Counts ===========\n",
      "no     36548\n",
      "yes     4640\n",
      "Name: y, dtype: int64\n"
     ]
    }
   ],
   "source": [
    "# Calculating Value Counts:\n",
    "for i in df1.columns.to_list():\n",
    "    if str(df1[i].dtype) == 'object':\n",
    "        print(f\" ============ Categorical Columns {i} ===========\")\n",
    "#         print(f\" ============ Unique Values ===========\")\n",
    "#         print(df1[i].unique())\n",
    "        print(f\" ============ Value Counts ===========\")\n",
    "        print(df1[i].value_counts())"
   ]
  },
  {
   "cell_type": "markdown",
   "id": "8707bc1b",
   "metadata": {},
   "source": [
    "# Fearure Engineering:\n",
    "- Adding Quarter column to group by:"
   ]
  },
  {
   "cell_type": "code",
   "execution_count": 31,
   "id": "035ae850",
   "metadata": {},
   "outputs": [],
   "source": [
    "# As it quartarly data.\n",
    "qs_employees = list(df1[\"nr.employed\"].unique())"
   ]
  },
  {
   "cell_type": "code",
   "execution_count": 32,
   "id": "70d267e9",
   "metadata": {},
   "outputs": [],
   "source": [
    "def get_q(nr_employee):\n",
    "    global qs_employees\n",
    "    return qs_employees.index(nr_employee) + 1\n",
    "df1[\"quarter\"] = df1[\"nr.employed\"].apply(get_q)"
   ]
  },
  {
   "cell_type": "markdown",
   "id": "d4c3aa61",
   "metadata": {},
   "source": [
    "- Get Year: The data starts from may 2008 and ends at nov 2010 so, Q1. Q2, Q3 ar in 2008, Q4, Q5, Q6, Q7 in 2009 and Q8, 9, 10 ,11 in 2010"
   ]
  },
  {
   "cell_type": "code",
   "execution_count": 38,
   "id": "a94b8b1a",
   "metadata": {},
   "outputs": [],
   "source": [
    "def get_year(q):\n",
    "    if q < 4:\n",
    "        return 2008\n",
    "    elif((q >= 4) & (q < 8)):\n",
    "        return 2009\n",
    "    else: \n",
    "        return 2010\n",
    "df1[\"year\"] = df1[\"quarter\"].apply(get_year)"
   ]
  },
  {
   "cell_type": "code",
   "execution_count": 39,
   "id": "5c7c542c",
   "metadata": {},
   "outputs": [
    {
     "data": {
      "text/plain": [
       "2008    27680\n",
       "2009    11278\n",
       "2010     2230\n",
       "Name: year, dtype: int64"
      ]
     },
     "execution_count": 39,
     "metadata": {},
     "output_type": "execute_result"
    }
   ],
   "source": [
    "df1[\"year\"].value_counts()"
   ]
  },
  {
   "cell_type": "markdown",
   "id": "9266e7e8",
   "metadata": {},
   "source": [
    "- Editing the euribor3m: this value is a daily value, so we need to make it consistant with quarters."
   ]
  },
  {
   "cell_type": "code",
   "execution_count": 41,
   "id": "767f7657",
   "metadata": {},
   "outputs": [
    {
     "data": {
      "text/plain": [
       "4.857    2868\n",
       "4.962    2613\n",
       "4.963    2487\n",
       "4.961    1902\n",
       "4.856    1210\n",
       "         ... \n",
       "3.853       1\n",
       "3.901       1\n",
       "0.969       1\n",
       "0.956       1\n",
       "3.669       1\n",
       "Name: euribor3m, Length: 316, dtype: int64"
      ]
     },
     "execution_count": 41,
     "metadata": {},
     "output_type": "execute_result"
    }
   ],
   "source": [
    "df1.euribor3m.value_counts()"
   ]
  },
  {
   "cell_type": "code",
   "execution_count": 43,
   "id": "d3a68ca4",
   "metadata": {},
   "outputs": [],
   "source": [
    "df_g = df1.groupby(\"quarter\")[\"euribor3m\"].mean()"
   ]
  },
  {
   "cell_type": "code",
   "execution_count": 47,
   "id": "eb0e47cb",
   "metadata": {},
   "outputs": [],
   "source": [
    "def get_eur(q):\n",
    "    global df_g\n",
    "    return df_g[q]\n",
    "df1[\"euriborQ\"] = df1[\"quarter\"].apply(get_eur)"
   ]
  },
  {
   "cell_type": "code",
   "execution_count": 52,
   "id": "0fc6d4da",
   "metadata": {},
   "outputs": [
    {
     "data": {
      "text/plain": [
       "year\n",
       "2008    4.817610\n",
       "2009    1.241923\n",
       "2010    0.805324\n",
       "Name: euriborQ, dtype: float64"
      ]
     },
     "execution_count": 52,
     "metadata": {},
     "output_type": "execute_result"
    }
   ],
   "source": [
    "df1.groupby(\"year\")[\"euriborQ\"].mean()"
   ]
  },
  {
   "cell_type": "markdown",
   "id": "6c8e57ef",
   "metadata": {},
   "source": [
    "- Editing the cons.conf.idx: this value is a monthly value, so we need to make it consistant with quarters."
   ]
  },
  {
   "cell_type": "code",
   "execution_count": 61,
   "id": "7c67eeaf",
   "metadata": {},
   "outputs": [],
   "source": [
    "df_g = df1.groupby(\"quarter\")[\"cons.conf.idx\"].mean()"
   ]
  },
  {
   "cell_type": "code",
   "execution_count": 62,
   "id": "54a6e045",
   "metadata": {},
   "outputs": [],
   "source": [
    "def get_cons_idx(q):\n",
    "    global df_g\n",
    "    return df_g[q]\n",
    "df1[\"cons_confi_Q\"] = df1[\"quarter\"].apply(get_cons_idx)"
   ]
  },
  {
   "cell_type": "markdown",
   "id": "340f994f",
   "metadata": {},
   "source": [
    "- Editing the cons.price.idx: this value is a monthly value, so we need to make it consistant with quarters."
   ]
  },
  {
   "cell_type": "code",
   "execution_count": 63,
   "id": "dcaf4946",
   "metadata": {},
   "outputs": [],
   "source": [
    "df_g = df1.groupby(\"quarter\")[\"cons.price.idx\"].mean()\n",
    "def get_price_idx(q):\n",
    "    global df_g\n",
    "    return df_g[q]\n",
    "df1[\"cons_price_Q\"] = df1[\"quarter\"].apply(get_price_idx)"
   ]
  },
  {
   "cell_type": "markdown",
   "id": "a9356934",
   "metadata": {},
   "source": [
    "- Editing the emp.var.rate: this value is a monthly value, so we need to make it consistant with quarters."
   ]
  },
  {
   "cell_type": "code",
   "execution_count": 64,
   "id": "861da4d1",
   "metadata": {},
   "outputs": [],
   "source": [
    "df_g = df1.groupby(\"quarter\")[\"emp.var.rate\"].mean()\n",
    "def get_emp_var(q):\n",
    "    global df_g\n",
    "    return df_g[q]\n",
    "df1[\"emp_var_Q\"] = df1[\"quarter\"].apply(get_emp_var)"
   ]
  },
  {
   "cell_type": "markdown",
   "id": "5ae08d7d",
   "metadata": {},
   "source": [
    "- Dropping Columns that we have transformed yet:"
   ]
  },
  {
   "cell_type": "code",
   "execution_count": 65,
   "id": "cbbbfe5c",
   "metadata": {},
   "outputs": [],
   "source": [
    "df1 = df1.drop(columns = [\"emp.var.rate\", \"cons.price.idx\", \"cons.conf.idx\", \"euribor3m\"])"
   ]
  },
  {
   "cell_type": "markdown",
   "id": "cb247df2",
   "metadata": {},
   "source": [
    "- Changing the education to layered levels instead of some strings (will be useful for correlation tests): like label encoding"
   ]
  },
  {
   "cell_type": "code",
   "execution_count": 70,
   "id": "a8e39c8a",
   "metadata": {},
   "outputs": [],
   "source": [
    "# Leveling eduation\n",
    "levels ={\"illiterate\": 0, \"basic.4y\": 1, \"basic.6y\": 2,\n",
    "         \"basic.9y\": 3, \"high.school\": 4, \"university.degree\": 5,\n",
    "        \"professional.course\": 6, \"unknown\": np.nan}\n",
    "df1[\"education\"] = df1[\"education\"].replace({\"illiterate\": 0, \"basic.4y\": 1, \"basic.6y\": 2,\n",
    "                                            \"basic.9y\": 3, \"high.school\": 4, \"university.degree\": 5,\n",
    "                                            \"professional.course\": 6, \"unknown\": np.nan})"
   ]
  },
  {
   "cell_type": "markdown",
   "id": "cc4c85b0",
   "metadata": {},
   "source": [
    "- Changing the yes/no columns to 0 and one (will be useful for correlation tests): like label encoding"
   ]
  },
  {
   "cell_type": "code",
   "execution_count": 72,
   "id": "d1cbdd23",
   "metadata": {},
   "outputs": [],
   "source": [
    "df1[\"default\"] = df1[\"default\"].replace({\"yes\": 1, \"no\": 0, \"unknown\": np.nan})"
   ]
  },
  {
   "cell_type": "code",
   "execution_count": 73,
   "id": "8d8f3b12",
   "metadata": {},
   "outputs": [],
   "source": [
    "df1[\"housing\"] = df1[\"housing\"].replace({\"yes\": 1, \"no\": 0, \"unknown\": np.nan})"
   ]
  },
  {
   "cell_type": "code",
   "execution_count": 74,
   "id": "b79f045c",
   "metadata": {},
   "outputs": [],
   "source": [
    "df1[\"loan\"] = df1[\"loan\"].replace({\"yes\": 1, \"no\": 0, \"unknown\": np.nan})"
   ]
  },
  {
   "cell_type": "markdown",
   "id": "f4a3ee58",
   "metadata": {},
   "source": [
    "- Drop the month column as we have quarters and years instead."
   ]
  },
  {
   "cell_type": "code",
   "execution_count": 75,
   "id": "b0992b40",
   "metadata": {},
   "outputs": [],
   "source": [
    "df1 = df1.drop(columns = [\"month\"])"
   ]
  },
  {
   "cell_type": "markdown",
   "id": "63ce9670",
   "metadata": {},
   "source": [
    "- Drop the day of week column as it has no effect on the label."
   ]
  },
  {
   "cell_type": "code",
   "execution_count": 76,
   "id": "31ea1787",
   "metadata": {},
   "outputs": [],
   "source": [
    "df_g = df1.groupby(\"day_of_week\")[\"y\"].value_counts()"
   ]
  },
  {
   "cell_type": "code",
   "execution_count": 77,
   "id": "9548deba",
   "metadata": {},
   "outputs": [
    {
     "data": {
      "text/plain": [
       "day_of_week  y  \n",
       "fri          no     6981\n",
       "             yes     846\n",
       "mon          no     7667\n",
       "             yes     847\n",
       "thu          no     7578\n",
       "             yes    1045\n",
       "tue          no     7137\n",
       "             yes     953\n",
       "wed          no     7185\n",
       "             yes     949\n",
       "Name: y, dtype: int64"
      ]
     },
     "execution_count": 77,
     "metadata": {},
     "output_type": "execute_result"
    }
   ],
   "source": [
    "df_g"
   ]
  },
  {
   "cell_type": "markdown",
   "id": "7c091482",
   "metadata": {},
   "source": [
    "Wee can see that, day of the week does not have a significant effect on the label, so dicarding it is reasonable"
   ]
  },
  {
   "cell_type": "code",
   "execution_count": 78,
   "id": "30197a5c",
   "metadata": {},
   "outputs": [],
   "source": [
    "df1 = df1.drop(columns = [\"day_of_week\"])"
   ]
  },
  {
   "cell_type": "markdown",
   "id": "ef38a88a",
   "metadata": {},
   "source": [
    "- Adding age levels instead of numeric value of the age, this will be ggod for changing the distribution of the age column, and also we can replace it with layered values later."
   ]
  },
  {
   "cell_type": "code",
   "execution_count": 80,
   "id": "336d3e1f",
   "metadata": {},
   "outputs": [],
   "source": [
    "## Adding age level:\n",
    "def age_level(age):\n",
    "    if age>50:\n",
    "        return \"Senior Adult\"\n",
    "    elif((age <= 50 )&(age > 30)):\n",
    "        return \"Mid Age Adult\"\n",
    "    elif((age <= 30 )&(age > 18)):\n",
    "        return \"Adult\"\n",
    "    else:\n",
    "        return \"Teenager\"\n",
    "df1[\"age_level\"] = df1[\"age\"].apply(age_level)"
   ]
  },
  {
   "cell_type": "code",
   "execution_count": 81,
   "id": "7b9478bd",
   "metadata": {},
   "outputs": [],
   "source": [
    "df1 = df1.drop(columns = [\"age\"])"
   ]
  },
  {
   "cell_type": "code",
   "execution_count": 82,
   "id": "78b9a7a6",
   "metadata": {},
   "outputs": [
    {
     "name": "stdout",
     "output_type": "stream",
     "text": [
      "<class 'pandas.core.frame.DataFrame'>\n",
      "RangeIndex: 41188 entries, 0 to 41187\n",
      "Data columns (total 21 columns):\n",
      " #   Column        Non-Null Count  Dtype  \n",
      "---  ------        --------------  -----  \n",
      " 0   job           41188 non-null  object \n",
      " 1   marital       41188 non-null  object \n",
      " 2   education     39457 non-null  float64\n",
      " 3   default       32591 non-null  float64\n",
      " 4   housing       40198 non-null  float64\n",
      " 5   loan          40198 non-null  float64\n",
      " 6   contact       41188 non-null  object \n",
      " 7   duration      41188 non-null  int64  \n",
      " 8   campaign      41188 non-null  int64  \n",
      " 9   pdays         41188 non-null  int64  \n",
      " 10  previous      41188 non-null  int64  \n",
      " 11  poutcome      41188 non-null  object \n",
      " 12  nr.employed   41188 non-null  float64\n",
      " 13  y             41188 non-null  object \n",
      " 14  quarter       41188 non-null  int64  \n",
      " 15  year          41188 non-null  int64  \n",
      " 16  euriborQ      41188 non-null  float64\n",
      " 17  cons_confi_Q  41188 non-null  float64\n",
      " 18  cons_price_Q  41188 non-null  float64\n",
      " 19  emp_var_Q     41188 non-null  float64\n",
      " 20  age_level     41188 non-null  object \n",
      "dtypes: float64(9), int64(6), object(6)\n",
      "memory usage: 6.6+ MB\n"
     ]
    }
   ],
   "source": [
    "df1.info()"
   ]
  },
  {
   "cell_type": "markdown",
   "id": "c531d3f0",
   "metadata": {},
   "source": [
    "- Changing the y column to make it ready for correlation test, then we have to reverse this step when modeling."
   ]
  },
  {
   "cell_type": "code",
   "execution_count": 83,
   "id": "57e768fb",
   "metadata": {},
   "outputs": [],
   "source": [
    "df1[\"y\"] = df1[\"y\"].replace({\"yes\": 1, \"no\": 0})"
   ]
  },
  {
   "cell_type": "markdown",
   "id": "5a50acbf",
   "metadata": {},
   "source": [
    "- Dropping the duration of the call as it is not known before the call is made"
   ]
  },
  {
   "cell_type": "code",
   "execution_count": 84,
   "id": "a098afbc",
   "metadata": {},
   "outputs": [],
   "source": [
    "df1 = df1.drop(columns = [\"duration\"])"
   ]
  },
  {
   "cell_type": "markdown",
   "id": "6f76758c",
   "metadata": {},
   "source": [
    "- Dropping the nr.employed columns as it varies with a very small amount:"
   ]
  },
  {
   "cell_type": "code",
   "execution_count": 85,
   "id": "f2964361",
   "metadata": {},
   "outputs": [],
   "source": [
    "df1 = df1.drop(columns = [\"nr.employed\"])"
   ]
  },
  {
   "cell_type": "markdown",
   "id": "9c46d6a1",
   "metadata": {},
   "source": [
    "- Trannsforming values of poutcome, also will be usefull for correlation test ( feature selection)."
   ]
  },
  {
   "cell_type": "code",
   "execution_count": 88,
   "id": "0ea0551c",
   "metadata": {},
   "outputs": [],
   "source": [
    "df1[\"poutcome\"] = df1[\"poutcome\"].replace({\"success\": 1, \"failure\": 0, \"nonexistent\": np.nan})"
   ]
  },
  {
   "cell_type": "code",
   "execution_count": 89,
   "id": "edc531ab",
   "metadata": {},
   "outputs": [],
   "source": [
    "df1.to_csv(\"master_data.csv\", index = False)"
   ]
  },
  {
   "cell_type": "code",
   "execution_count": 2,
   "id": "335cb0ed",
   "metadata": {},
   "outputs": [],
   "source": [
    "df1 = pd.read_csv(\"master_data.csv\")"
   ]
  },
  {
   "cell_type": "code",
   "execution_count": 3,
   "id": "87a4ee66",
   "metadata": {},
   "outputs": [
    {
     "data": {
      "text/html": [
       "<div>\n",
       "<style scoped>\n",
       "    .dataframe tbody tr th:only-of-type {\n",
       "        vertical-align: middle;\n",
       "    }\n",
       "\n",
       "    .dataframe tbody tr th {\n",
       "        vertical-align: top;\n",
       "    }\n",
       "\n",
       "    .dataframe thead th {\n",
       "        text-align: right;\n",
       "    }\n",
       "</style>\n",
       "<table border=\"1\" class=\"dataframe\">\n",
       "  <thead>\n",
       "    <tr style=\"text-align: right;\">\n",
       "      <th></th>\n",
       "      <th>job</th>\n",
       "      <th>marital</th>\n",
       "      <th>education</th>\n",
       "      <th>default</th>\n",
       "      <th>housing</th>\n",
       "      <th>loan</th>\n",
       "      <th>contact</th>\n",
       "      <th>campaign</th>\n",
       "      <th>pdays</th>\n",
       "      <th>previous</th>\n",
       "      <th>poutcome</th>\n",
       "      <th>y</th>\n",
       "      <th>quarter</th>\n",
       "      <th>year</th>\n",
       "      <th>euriborQ</th>\n",
       "      <th>cons_confi_Q</th>\n",
       "      <th>cons_price_Q</th>\n",
       "      <th>emp_var_Q</th>\n",
       "      <th>age_level</th>\n",
       "    </tr>\n",
       "  </thead>\n",
       "  <tbody>\n",
       "    <tr>\n",
       "      <th>0</th>\n",
       "      <td>housemaid</td>\n",
       "      <td>married</td>\n",
       "      <td>1.0</td>\n",
       "      <td>0.0</td>\n",
       "      <td>0.0</td>\n",
       "      <td>0.0</td>\n",
       "      <td>telephone</td>\n",
       "      <td>1</td>\n",
       "      <td>999</td>\n",
       "      <td>0</td>\n",
       "      <td>NaN</td>\n",
       "      <td>0</td>\n",
       "      <td>1</td>\n",
       "      <td>2008</td>\n",
       "      <td>4.857663</td>\n",
       "      <td>-36.4</td>\n",
       "      <td>93.994</td>\n",
       "      <td>1.1</td>\n",
       "      <td>Senior Adult</td>\n",
       "    </tr>\n",
       "    <tr>\n",
       "      <th>1</th>\n",
       "      <td>services</td>\n",
       "      <td>married</td>\n",
       "      <td>4.0</td>\n",
       "      <td>NaN</td>\n",
       "      <td>0.0</td>\n",
       "      <td>0.0</td>\n",
       "      <td>telephone</td>\n",
       "      <td>1</td>\n",
       "      <td>999</td>\n",
       "      <td>0</td>\n",
       "      <td>NaN</td>\n",
       "      <td>0</td>\n",
       "      <td>1</td>\n",
       "      <td>2008</td>\n",
       "      <td>4.857663</td>\n",
       "      <td>-36.4</td>\n",
       "      <td>93.994</td>\n",
       "      <td>1.1</td>\n",
       "      <td>Senior Adult</td>\n",
       "    </tr>\n",
       "    <tr>\n",
       "      <th>2</th>\n",
       "      <td>services</td>\n",
       "      <td>married</td>\n",
       "      <td>4.0</td>\n",
       "      <td>0.0</td>\n",
       "      <td>1.0</td>\n",
       "      <td>0.0</td>\n",
       "      <td>telephone</td>\n",
       "      <td>1</td>\n",
       "      <td>999</td>\n",
       "      <td>0</td>\n",
       "      <td>NaN</td>\n",
       "      <td>0</td>\n",
       "      <td>1</td>\n",
       "      <td>2008</td>\n",
       "      <td>4.857663</td>\n",
       "      <td>-36.4</td>\n",
       "      <td>93.994</td>\n",
       "      <td>1.1</td>\n",
       "      <td>Mid Age Adult</td>\n",
       "    </tr>\n",
       "    <tr>\n",
       "      <th>3</th>\n",
       "      <td>admin.</td>\n",
       "      <td>married</td>\n",
       "      <td>2.0</td>\n",
       "      <td>0.0</td>\n",
       "      <td>0.0</td>\n",
       "      <td>0.0</td>\n",
       "      <td>telephone</td>\n",
       "      <td>1</td>\n",
       "      <td>999</td>\n",
       "      <td>0</td>\n",
       "      <td>NaN</td>\n",
       "      <td>0</td>\n",
       "      <td>1</td>\n",
       "      <td>2008</td>\n",
       "      <td>4.857663</td>\n",
       "      <td>-36.4</td>\n",
       "      <td>93.994</td>\n",
       "      <td>1.1</td>\n",
       "      <td>Mid Age Adult</td>\n",
       "    </tr>\n",
       "    <tr>\n",
       "      <th>4</th>\n",
       "      <td>services</td>\n",
       "      <td>married</td>\n",
       "      <td>4.0</td>\n",
       "      <td>0.0</td>\n",
       "      <td>0.0</td>\n",
       "      <td>1.0</td>\n",
       "      <td>telephone</td>\n",
       "      <td>1</td>\n",
       "      <td>999</td>\n",
       "      <td>0</td>\n",
       "      <td>NaN</td>\n",
       "      <td>0</td>\n",
       "      <td>1</td>\n",
       "      <td>2008</td>\n",
       "      <td>4.857663</td>\n",
       "      <td>-36.4</td>\n",
       "      <td>93.994</td>\n",
       "      <td>1.1</td>\n",
       "      <td>Senior Adult</td>\n",
       "    </tr>\n",
       "  </tbody>\n",
       "</table>\n",
       "</div>"
      ],
      "text/plain": [
       "         job  marital  education  default  housing  loan    contact  campaign  \\\n",
       "0  housemaid  married        1.0      0.0      0.0   0.0  telephone         1   \n",
       "1   services  married        4.0      NaN      0.0   0.0  telephone         1   \n",
       "2   services  married        4.0      0.0      1.0   0.0  telephone         1   \n",
       "3     admin.  married        2.0      0.0      0.0   0.0  telephone         1   \n",
       "4   services  married        4.0      0.0      0.0   1.0  telephone         1   \n",
       "\n",
       "   pdays  previous  poutcome  y  quarter  year  euriborQ  cons_confi_Q  \\\n",
       "0    999         0       NaN  0        1  2008  4.857663         -36.4   \n",
       "1    999         0       NaN  0        1  2008  4.857663         -36.4   \n",
       "2    999         0       NaN  0        1  2008  4.857663         -36.4   \n",
       "3    999         0       NaN  0        1  2008  4.857663         -36.4   \n",
       "4    999         0       NaN  0        1  2008  4.857663         -36.4   \n",
       "\n",
       "   cons_price_Q  emp_var_Q      age_level  \n",
       "0        93.994        1.1   Senior Adult  \n",
       "1        93.994        1.1   Senior Adult  \n",
       "2        93.994        1.1  Mid Age Adult  \n",
       "3        93.994        1.1  Mid Age Adult  \n",
       "4        93.994        1.1   Senior Adult  "
      ]
     },
     "execution_count": 3,
     "metadata": {},
     "output_type": "execute_result"
    }
   ],
   "source": [
    "df1.head()"
   ]
  },
  {
   "cell_type": "code",
   "execution_count": 6,
   "id": "0009ba4e",
   "metadata": {},
   "outputs": [
    {
     "data": {
      "text/plain": [
       "admin.           10422\n",
       "blue-collar       9254\n",
       "technician        6743\n",
       "services          3969\n",
       "management        2924\n",
       "retired           1720\n",
       "entrepreneur      1456\n",
       "self-employed     1421\n",
       "housemaid         1060\n",
       "unemployed        1014\n",
       "student            875\n",
       "unknown            330\n",
       "Name: job, dtype: int64"
      ]
     },
     "execution_count": 6,
     "metadata": {},
     "output_type": "execute_result"
    }
   ],
   "source": [
    "df1.job.value_counts()"
   ]
  },
  {
   "cell_type": "code",
   "execution_count": 7,
   "id": "b1282f42",
   "metadata": {},
   "outputs": [],
   "source": [
    "df1[\"job\"] = df1[\"job\"].replace({\"unknown\": np.nan})"
   ]
  },
  {
   "cell_type": "code",
   "execution_count": 8,
   "id": "e553dc5f",
   "metadata": {},
   "outputs": [
    {
     "data": {
      "text/plain": [
       "married     24928\n",
       "single      11568\n",
       "divorced     4612\n",
       "unknown        80\n",
       "Name: marital, dtype: int64"
      ]
     },
     "execution_count": 8,
     "metadata": {},
     "output_type": "execute_result"
    }
   ],
   "source": [
    "df1.marital.value_counts()"
   ]
  },
  {
   "cell_type": "code",
   "execution_count": 9,
   "id": "46bf297f",
   "metadata": {},
   "outputs": [],
   "source": [
    "df1[\"marital\"] = df1[\"marital\"].replace({\"unknown\": np.nan})"
   ]
  },
  {
   "cell_type": "code",
   "execution_count": 10,
   "id": "705c5c2a",
   "metadata": {},
   "outputs": [
    {
     "data": {
      "text/plain": [
       "job               330\n",
       "marital            80\n",
       "education        1731\n",
       "default          8597\n",
       "housing           990\n",
       "loan              990\n",
       "contact             0\n",
       "campaign            0\n",
       "pdays               0\n",
       "previous            0\n",
       "poutcome        35563\n",
       "y                   0\n",
       "quarter             0\n",
       "year                0\n",
       "euriborQ            0\n",
       "cons_confi_Q        0\n",
       "cons_price_Q        0\n",
       "emp_var_Q           0\n",
       "age_level           0\n",
       "dtype: int64"
      ]
     },
     "execution_count": 10,
     "metadata": {},
     "output_type": "execute_result"
    }
   ],
   "source": [
    "df1.isna().sum()"
   ]
  },
  {
   "cell_type": "markdown",
   "id": "e2f759a1",
   "metadata": {},
   "source": [
    "# Dealing With unkown Data:\n",
    "- Starting with the most columns that have NaN values, The strategy will be as follows:\n",
    "    for each column, we will group the data into two groups, one that have true data, and the other will have those data with a NaN on this column, and study it individually and make the relation between them, to decide which way is the best to impute the data."
   ]
  },
  {
   "cell_type": "code",
   "execution_count": 16,
   "id": "376d2fd7",
   "metadata": {},
   "outputs": [],
   "source": [
    "df_poutcom = df1[~(df1.poutcome.isna())]"
   ]
  },
  {
   "cell_type": "code",
   "execution_count": 17,
   "id": "93cdb4b0",
   "metadata": {},
   "outputs": [
    {
     "data": {
      "text/plain": [
       "(5625, 19)"
      ]
     },
     "execution_count": 17,
     "metadata": {},
     "output_type": "execute_result"
    }
   ],
   "source": [
    "df_poutcom.shape"
   ]
  },
  {
   "cell_type": "code",
   "execution_count": 18,
   "id": "3644c1ca",
   "metadata": {},
   "outputs": [],
   "source": [
    "df_poutcom_nan = df1[(df1.poutcome.isna())]"
   ]
  },
  {
   "cell_type": "code",
   "execution_count": 19,
   "id": "4bf1c0fa",
   "metadata": {},
   "outputs": [
    {
     "data": {
      "text/plain": [
       "(35563, 19)"
      ]
     },
     "execution_count": 19,
     "metadata": {},
     "output_type": "execute_result"
    }
   ],
   "source": [
    "df_poutcom_nan.shape"
   ]
  },
  {
   "cell_type": "code",
   "execution_count": 20,
   "id": "e4f270c8",
   "metadata": {},
   "outputs": [
    {
     "data": {
      "text/html": [
       "<div>\n",
       "<style scoped>\n",
       "    .dataframe tbody tr th:only-of-type {\n",
       "        vertical-align: middle;\n",
       "    }\n",
       "\n",
       "    .dataframe tbody tr th {\n",
       "        vertical-align: top;\n",
       "    }\n",
       "\n",
       "    .dataframe thead th {\n",
       "        text-align: right;\n",
       "    }\n",
       "</style>\n",
       "<table border=\"1\" class=\"dataframe\">\n",
       "  <thead>\n",
       "    <tr style=\"text-align: right;\">\n",
       "      <th></th>\n",
       "      <th>job</th>\n",
       "      <th>marital</th>\n",
       "      <th>education</th>\n",
       "      <th>default</th>\n",
       "      <th>housing</th>\n",
       "      <th>loan</th>\n",
       "      <th>contact</th>\n",
       "      <th>campaign</th>\n",
       "      <th>pdays</th>\n",
       "      <th>previous</th>\n",
       "      <th>poutcome</th>\n",
       "      <th>y</th>\n",
       "      <th>quarter</th>\n",
       "      <th>year</th>\n",
       "      <th>euriborQ</th>\n",
       "      <th>cons_confi_Q</th>\n",
       "      <th>cons_price_Q</th>\n",
       "      <th>emp_var_Q</th>\n",
       "      <th>age_level</th>\n",
       "    </tr>\n",
       "  </thead>\n",
       "  <tbody>\n",
       "    <tr>\n",
       "      <th>24013</th>\n",
       "      <td>blue-collar</td>\n",
       "      <td>single</td>\n",
       "      <td>NaN</td>\n",
       "      <td>0.0</td>\n",
       "      <td>1.0</td>\n",
       "      <td>0.0</td>\n",
       "      <td>telephone</td>\n",
       "      <td>1</td>\n",
       "      <td>999</td>\n",
       "      <td>1</td>\n",
       "      <td>0.0</td>\n",
       "      <td>0</td>\n",
       "      <td>3</td>\n",
       "      <td>2008</td>\n",
       "      <td>4.12961</td>\n",
       "      <td>-41.970893</td>\n",
       "      <td>93.210879</td>\n",
       "      <td>-0.1</td>\n",
       "      <td>Mid Age Adult</td>\n",
       "    </tr>\n",
       "    <tr>\n",
       "      <th>24019</th>\n",
       "      <td>services</td>\n",
       "      <td>married</td>\n",
       "      <td>4.0</td>\n",
       "      <td>0.0</td>\n",
       "      <td>1.0</td>\n",
       "      <td>0.0</td>\n",
       "      <td>telephone</td>\n",
       "      <td>1</td>\n",
       "      <td>999</td>\n",
       "      <td>1</td>\n",
       "      <td>0.0</td>\n",
       "      <td>1</td>\n",
       "      <td>3</td>\n",
       "      <td>2008</td>\n",
       "      <td>4.12961</td>\n",
       "      <td>-41.970893</td>\n",
       "      <td>93.210879</td>\n",
       "      <td>-0.1</td>\n",
       "      <td>Mid Age Adult</td>\n",
       "    </tr>\n",
       "    <tr>\n",
       "      <th>24076</th>\n",
       "      <td>admin.</td>\n",
       "      <td>married</td>\n",
       "      <td>5.0</td>\n",
       "      <td>0.0</td>\n",
       "      <td>1.0</td>\n",
       "      <td>0.0</td>\n",
       "      <td>telephone</td>\n",
       "      <td>1</td>\n",
       "      <td>999</td>\n",
       "      <td>1</td>\n",
       "      <td>0.0</td>\n",
       "      <td>0</td>\n",
       "      <td>3</td>\n",
       "      <td>2008</td>\n",
       "      <td>4.12961</td>\n",
       "      <td>-41.970893</td>\n",
       "      <td>93.210879</td>\n",
       "      <td>-0.1</td>\n",
       "      <td>Mid Age Adult</td>\n",
       "    </tr>\n",
       "    <tr>\n",
       "      <th>24102</th>\n",
       "      <td>admin.</td>\n",
       "      <td>married</td>\n",
       "      <td>4.0</td>\n",
       "      <td>0.0</td>\n",
       "      <td>1.0</td>\n",
       "      <td>0.0</td>\n",
       "      <td>telephone</td>\n",
       "      <td>1</td>\n",
       "      <td>999</td>\n",
       "      <td>1</td>\n",
       "      <td>0.0</td>\n",
       "      <td>1</td>\n",
       "      <td>3</td>\n",
       "      <td>2008</td>\n",
       "      <td>4.12961</td>\n",
       "      <td>-41.970893</td>\n",
       "      <td>93.210879</td>\n",
       "      <td>-0.1</td>\n",
       "      <td>Mid Age Adult</td>\n",
       "    </tr>\n",
       "    <tr>\n",
       "      <th>24108</th>\n",
       "      <td>admin.</td>\n",
       "      <td>married</td>\n",
       "      <td>5.0</td>\n",
       "      <td>0.0</td>\n",
       "      <td>1.0</td>\n",
       "      <td>0.0</td>\n",
       "      <td>telephone</td>\n",
       "      <td>1</td>\n",
       "      <td>6</td>\n",
       "      <td>1</td>\n",
       "      <td>1.0</td>\n",
       "      <td>0</td>\n",
       "      <td>3</td>\n",
       "      <td>2008</td>\n",
       "      <td>4.12961</td>\n",
       "      <td>-41.970893</td>\n",
       "      <td>93.210879</td>\n",
       "      <td>-0.1</td>\n",
       "      <td>Mid Age Adult</td>\n",
       "    </tr>\n",
       "  </tbody>\n",
       "</table>\n",
       "</div>"
      ],
      "text/plain": [
       "               job  marital  education  default  housing  loan    contact  \\\n",
       "24013  blue-collar   single        NaN      0.0      1.0   0.0  telephone   \n",
       "24019     services  married        4.0      0.0      1.0   0.0  telephone   \n",
       "24076       admin.  married        5.0      0.0      1.0   0.0  telephone   \n",
       "24102       admin.  married        4.0      0.0      1.0   0.0  telephone   \n",
       "24108       admin.  married        5.0      0.0      1.0   0.0  telephone   \n",
       "\n",
       "       campaign  pdays  previous  poutcome  y  quarter  year  euriborQ  \\\n",
       "24013         1    999         1       0.0  0        3  2008   4.12961   \n",
       "24019         1    999         1       0.0  1        3  2008   4.12961   \n",
       "24076         1    999         1       0.0  0        3  2008   4.12961   \n",
       "24102         1    999         1       0.0  1        3  2008   4.12961   \n",
       "24108         1      6         1       1.0  0        3  2008   4.12961   \n",
       "\n",
       "       cons_confi_Q  cons_price_Q  emp_var_Q      age_level  \n",
       "24013    -41.970893     93.210879       -0.1  Mid Age Adult  \n",
       "24019    -41.970893     93.210879       -0.1  Mid Age Adult  \n",
       "24076    -41.970893     93.210879       -0.1  Mid Age Adult  \n",
       "24102    -41.970893     93.210879       -0.1  Mid Age Adult  \n",
       "24108    -41.970893     93.210879       -0.1  Mid Age Adult  "
      ]
     },
     "execution_count": 20,
     "metadata": {},
     "output_type": "execute_result"
    }
   ],
   "source": [
    "df_poutcom.head()"
   ]
  },
  {
   "cell_type": "code",
   "execution_count": 91,
   "id": "8ed8f78f",
   "metadata": {},
   "outputs": [],
   "source": [
    "import seaborn as sns"
   ]
  },
  {
   "cell_type": "code",
   "execution_count": 23,
   "id": "cd68815a",
   "metadata": {},
   "outputs": [
    {
     "data": {
      "text/plain": [
       "<AxesSubplot:>"
      ]
     },
     "execution_count": 23,
     "metadata": {},
     "output_type": "execute_result"
    },
    {
     "data": {
      "image/png": "[encoded data removed]",
      "text/plain": [
       "<Figure size 432x288 with 2 Axes>"
      ]
     },
     "metadata": {
      "needs_background": "light"
     },
     "output_type": "display_data"
    }
   ],
   "source": [
    "total_correlation = df_poutcom.corr()\n",
    "sns.heatmap(total_correlation, vmin = 0)"
   ]
  },
  {
   "cell_type": "markdown",
   "id": "fdd619b2",
   "metadata": {},
   "source": [
    "it appears that for this column, the most correlated columns are y, quarter, year and cons_confi_Q, so we will invetstigate this only and relate them to our desired column."
   ]
  },
  {
   "cell_type": "code",
   "execution_count": 30,
   "id": "bd83c8e4",
   "metadata": {},
   "outputs": [],
   "source": [
    "# imputation mechanism:\n",
    "# Probabilty that the out com is ont and also the y is one\n",
    "P_y_1_pout_1 = df_poutcom[df_poutcom[\"y\"] != 0].poutcome.value_counts()[1.0] / len(df_poutcom)\n",
    "#probabilty that the poutom is 1 in 2008:\n",
    "P_2008_pout_1 = df_poutcom[df_poutcom[\"year\"] == 2008 ].poutcome.value_counts()[1.0] / len(df_poutcom)\n",
    "#probabilty that the poutom is 1 in 2009:\n",
    "P_2009_pout_1 = df_poutcom[df_poutcom[\"year\"] == 2009 ].poutcome.value_counts()[1.0] / len(df_poutcom)\n",
    "#probabilty that the poutom is 1 in 2010:\n",
    "P_2010_pout_1 = df_poutcom[df_poutcom[\"year\"] == 2010 ].poutcome.value_counts()[1.0] / len(df_poutcom)\n",
    "#probability of consiumer_conf_Q is between 30 - 35 and poutcom = 1:\n",
    "P_cons_3035_pout_1 = df_poutcom[(df_poutcom[\"cons_confi_Q\"] <= (-30))& (df_poutcom[\"cons_confi_Q\"]>(-35)) ].poutcome.value_counts()[1.0] / len(df_poutcom)\n",
    "#probability of consiumer_conf_Q is between 35 - 40 and poutcom = 1:\n",
    "P_cons_3540_pout_1 = df_poutcom[(df_poutcom[\"cons_confi_Q\"] <= (-35))& (df_poutcom[\"cons_confi_Q\"]>(-40)) ].poutcome.value_counts()[1.0] / len(df_poutcom)\n",
    "#probability of consiumer_conf_Q is between 30 - 35 and poutcom = 1:\n",
    "P_cons_4045_pout_1 = df_poutcom[(df_poutcom[\"cons_confi_Q\"] <= (-40))& (df_poutcom[\"cons_confi_Q\"]>(-45)) ].poutcome.value_counts()[1.0] / len(df_poutcom)"
   ]
  },
  {
   "cell_type": "code",
   "execution_count": 32,
   "id": "fec2894c",
   "metadata": {},
   "outputs": [],
   "source": [
    "P_y_0_pout_1 = df_poutcom[df_poutcom[\"y\"] == 0].poutcome.value_counts()[1.0] / len(df_poutcom)"
   ]
  },
  {
   "cell_type": "code",
   "execution_count": 70,
   "id": "667b7cfa",
   "metadata": {},
   "outputs": [
    {
     "data": {
      "text/plain": [
       "24013    0.0\n",
       "24019    0.0\n",
       "24076    0.0\n",
       "24102    0.0\n",
       "24108    1.0\n",
       "        ... \n",
       "41174    1.0\n",
       "41175    0.0\n",
       "41178    1.0\n",
       "41182    1.0\n",
       "41187    0.0\n",
       "Name: poutcome, Length: 5625, dtype: float64"
      ]
     },
     "execution_count": 70,
     "metadata": {},
     "output_type": "execute_result"
    }
   ],
   "source": [
    "df_poutcom[\"poutcome\"]"
   ]
  },
  {
   "cell_type": "code",
   "execution_count": 71,
   "id": "608f1942",
   "metadata": {},
   "outputs": [],
   "source": [
    "p_pout_t_1 = len(df_poutcom[df_poutcom[\"poutcome\"] == 1]) / len(df_poutcom)"
   ]
  },
  {
   "cell_type": "code",
   "execution_count": 73,
   "id": "0937b3b0",
   "metadata": {},
   "outputs": [
    {
     "data": {
      "text/plain": [
       "0.24408888888888888"
      ]
     },
     "execution_count": 73,
     "metadata": {},
     "output_type": "execute_result"
    }
   ],
   "source": [
    "p_pout_t_1"
   ]
  },
  {
   "cell_type": "code",
   "execution_count": 68,
   "id": "5679884b",
   "metadata": {},
   "outputs": [
    {
     "data": {
      "text/plain": [
       "array([0, 0, 1, 0, 0, 0, 0, 0, 0, 0])"
      ]
     },
     "execution_count": 68,
     "metadata": {},
     "output_type": "execute_result"
    }
   ],
   "source": [
    "np.random.choice([1,0], p= [P_y_1_pout_1, 1-P_y_1_pout_1], size = 10)"
   ]
  },
  {
   "cell_type": "code",
   "execution_count": 87,
   "id": "00e2693e",
   "metadata": {},
   "outputs": [],
   "source": [
    "# imputation funtion:\n",
    "def get_prob(P_pout_1):\n",
    "    x = np.random.choice([1,0], p= [P_pout_1, 1-P_pout_1], size = 10)\n",
    "    return x\n",
    "def impute_pout(df):\n",
    "    global P_y_1_pout_1, P_y_0_pout_1\n",
    "    global P_2008_pout_1, P_2009_pout_1, P_2010_pout_1\n",
    "    global P_cons_3035_pout_1, P_cons_3540_pout_1, P_cons_4045_pout_1\n",
    "    global p_pout_t_1\n",
    "    new_df = df.copy()\n",
    "    for index, row in new_df.iterrows():\n",
    "        probs = []\n",
    "        if row[\"y\"] == 1:\n",
    "            probs.append(list(get_prob(P_y_1_pout_1)))\n",
    "        else:\n",
    "            probs.append(list(get_prob(P_y_0_pout_1)))\n",
    "            \n",
    "        if row[\"year\"] == 2008:\n",
    "            probs.append(list(get_prob(P_2008_pout_1)))\n",
    "        elif row[\"year\"] == 2009:\n",
    "            probs.append(list(get_prob(P_2009_pout_1)))\n",
    "        else:\n",
    "            probs.append(list(get_prob(P_2010_pout_1)))\n",
    "        if((row[\"cons_confi_Q\"] <= (-30)) & (row[\"cons_confi_Q\"]>(-35))):\n",
    "            probs.append(list(get_prob(P_cons_3035_pout_1)))\n",
    "        elif((row[\"cons_confi_Q\"] <= (-35)) & (row[\"cons_confi_Q\"]>(-40))):\n",
    "            probs.append(list(get_prob(P_cons_3540_pout_1)))\n",
    "        else:\n",
    "            probs.append(list(get_prob(P_cons_4045_pout_1)))\n",
    "        probs = np.array(probs).flatten()\n",
    "        if probs.mean() >= 0.3*p_pout_t_1:\n",
    "            new_df.loc[index, \"poutcome\"] = 1\n",
    "        else:\n",
    "            new_df.loc[index, \"poutcome\"] = 0\n",
    "    return new_df"
   ]
  },
  {
   "cell_type": "code",
   "execution_count": 88,
   "id": "77db2854",
   "metadata": {},
   "outputs": [],
   "source": [
    "p_nans = df_poutcom_nan.copy()\n",
    "mew_p_nans = impute_pout(p_nans)"
   ]
  },
  {
   "cell_type": "code",
   "execution_count": 89,
   "id": "b7b4e2ee",
   "metadata": {},
   "outputs": [
    {
     "data": {
      "text/plain": [
       "0.0    25523\n",
       "1.0    10040\n",
       "Name: poutcome, dtype: int64"
      ]
     },
     "execution_count": 89,
     "metadata": {},
     "output_type": "execute_result"
    }
   ],
   "source": [
    "mew_p_nans.poutcome.value_counts()"
   ]
  },
  {
   "cell_type": "code",
   "execution_count": 90,
   "id": "b4d5c0e7",
   "metadata": {},
   "outputs": [],
   "source": [
    "df_poutcom_imputed = pd.concat([df_poutcom, mew_p_nans], ignore_index = True)"
   ]
  },
  {
   "cell_type": "code",
   "execution_count": 62,
   "id": "aae997ed",
   "metadata": {
    "scrolled": true
   },
   "outputs": [
    {
     "data": {
      "text/plain": [
       "0.0    4252\n",
       "1.0    1373\n",
       "Name: poutcome, dtype: int64"
      ]
     },
     "execution_count": 62,
     "metadata": {},
     "output_type": "execute_result"
    }
   ],
   "source": [
    "df1.poutcome.value_counts()"
   ]
  },
  {
   "cell_type": "markdown",
   "id": "951e8398",
   "metadata": {},
   "source": [
    "So Almost the output destribution like the poutcome distribution in not nan values, not let'st see the next column."
   ]
  },
  {
   "cell_type": "code",
   "execution_count": 93,
   "id": "dfda1692",
   "metadata": {},
   "outputs": [
    {
     "data": {
      "text/plain": [
       "<AxesSubplot:>"
      ]
     },
     "execution_count": 93,
     "metadata": {},
     "output_type": "execute_result"
    },
    {
     "data": {
      "image/png": "[encoded data removed]",
      "text/plain": [
       "<Figure size 432x288 with 2 Axes>"
      ]
     },
     "metadata": {
      "needs_background": "light"
     },
     "output_type": "display_data"
    }
   ],
   "source": [
    "df_default = df1[~(df1.default.isna())]\n",
    "df_default_nan = df1[(df1.default.isna())]\n",
    "total_correlation = df_default.corr()\n",
    "sns.heatmap(total_correlation)"
   ]
  },
  {
   "cell_type": "markdown",
   "id": "808b3723",
   "metadata": {},
   "source": [
    "So Here as we can see there is no any correlation between the default and the other columns, so we may try to imput it using its original distribution, and this can indicate that this column is not important, so we will ignore this one."
   ]
  },
  {
   "cell_type": "code",
   "execution_count": 123,
   "id": "ca6e51ff",
   "metadata": {},
   "outputs": [],
   "source": [
    "df_imputed = df_poutcom_imputed.drop(columns = [\"default\"])"
   ]
  },
  {
   "cell_type": "code",
   "execution_count": 124,
   "id": "bb80c240",
   "metadata": {},
   "outputs": [
    {
     "data": {
      "text/plain": [
       "<AxesSubplot:>"
      ]
     },
     "execution_count": 124,
     "metadata": {},
     "output_type": "execute_result"
    },
    {
     "data": {
      "image/png": "[encoded data removed]",
      "text/plain": [
       "<Figure size 432x288 with 2 Axes>"
      ]
     },
     "metadata": {
      "needs_background": "light"
     },
     "output_type": "display_data"
    }
   ],
   "source": [
    "df_education = df_imputed[~(df_imputed.education.isna())]\n",
    "df_education_nan = df_imputed[(df_imputed.education.isna())]\n",
    "total_correlation = df_education.corr()\n",
    "sns.heatmap(total_correlation)"
   ]
  },
  {
   "cell_type": "markdown",
   "id": "8b3d93ba",
   "metadata": {},
   "source": [
    "So Here as we can see there is no any correlation between the education and the other columns, so we may try to imput it using its original distribution, and this can indicate that this column is not important, so we will ignore this one.\n",
    "\n",
    "from here we can apply the same concept to the housing and loan columns."
   ]
  },
  {
   "cell_type": "code",
   "execution_count": 125,
   "id": "d48272c0",
   "metadata": {},
   "outputs": [],
   "source": [
    "df_imputed = df_imputed.drop(columns = [\"education\" ,\"housing\", \"loan\"])"
   ]
  },
  {
   "cell_type": "markdown",
   "id": "cc8bb641",
   "metadata": {},
   "source": [
    "So the remaining Nans columns is the job and marital ones, so in general we will assume that the all each age level has the same marital status ditribution so impute each age level's marital status with the mode status in this age level."
   ]
  },
  {
   "cell_type": "code",
   "execution_count": 126,
   "id": "7d3e0bea",
   "metadata": {},
   "outputs": [],
   "source": [
    "age_groups = df_imputed.groupby(\"age_level\")"
   ]
  },
  {
   "cell_type": "code",
   "execution_count": 127,
   "id": "9bb24abe",
   "metadata": {},
   "outputs": [
    {
     "data": {
      "text/plain": [
       "Mid Age Adult    26625\n",
       "Adult             7350\n",
       "Senior Adult      7180\n",
       "Teenager            33\n",
       "Name: age_level, dtype: int64"
      ]
     },
     "execution_count": 127,
     "metadata": {},
     "output_type": "execute_result"
    }
   ],
   "source": [
    "df_imputed.age_level.value_counts()"
   ]
  },
  {
   "cell_type": "code",
   "execution_count": 128,
   "id": "e9dac9f8",
   "metadata": {},
   "outputs": [
    {
     "data": {
      "text/plain": [
       "single      4718\n",
       "married     2390\n",
       "divorced     229\n",
       "Name: marital, dtype: int64"
      ]
     },
     "execution_count": 128,
     "metadata": {},
     "output_type": "execute_result"
    }
   ],
   "source": [
    "age_groups.get_group(\"Adult\")[\"marital\"].value_counts()"
   ]
  },
  {
   "cell_type": "code",
   "execution_count": 129,
   "id": "545dbcb0",
   "metadata": {},
   "outputs": [
    {
     "data": {
      "text/plain": [
       "single    33\n",
       "Name: marital, dtype: int64"
      ]
     },
     "execution_count": 129,
     "metadata": {},
     "output_type": "execute_result"
    }
   ],
   "source": [
    "age_groups.get_group(\"Teenager\")[\"marital\"].value_counts()"
   ]
  },
  {
   "cell_type": "code",
   "execution_count": 130,
   "id": "f75705b8",
   "metadata": {},
   "outputs": [
    {
     "data": {
      "text/plain": [
       "married     5450\n",
       "divorced    1330\n",
       "single       383\n",
       "Name: marital, dtype: int64"
      ]
     },
     "execution_count": 130,
     "metadata": {},
     "output_type": "execute_result"
    }
   ],
   "source": [
    "age_groups.get_group(\"Senior Adult\")[\"marital\"].value_counts()"
   ]
  },
  {
   "cell_type": "code",
   "execution_count": 131,
   "id": "c2cafc29",
   "metadata": {},
   "outputs": [
    {
     "data": {
      "text/plain": [
       "married     17088\n",
       "single       6434\n",
       "divorced     3053\n",
       "Name: marital, dtype: int64"
      ]
     },
     "execution_count": 131,
     "metadata": {},
     "output_type": "execute_result"
    }
   ],
   "source": [
    "age_groups.get_group(\"Mid Age Adult\")[\"marital\"].value_counts()"
   ]
  },
  {
   "cell_type": "markdown",
   "id": "97cc0469",
   "metadata": {},
   "source": [
    "it appears that in teenager and adults are mostly single, and other levels are mostly married."
   ]
  },
  {
   "cell_type": "code",
   "execution_count": 132,
   "id": "0601242a",
   "metadata": {},
   "outputs": [],
   "source": [
    "def get_martial(age_level):\n",
    "    if ((age_level == \"Adult\") | (age_level == \"Teenager\")):\n",
    "        return \"married\"\n",
    "    else:\n",
    "        return \"single\""
   ]
  },
  {
   "cell_type": "code",
   "execution_count": 144,
   "id": "c09424de",
   "metadata": {},
   "outputs": [],
   "source": [
    "df_imputed.loc[df_imputed[\"marital\"].isna(), \"marital\"] = df_imputed.loc[df_imputed[\"marital\"].isna(), \"age_level\"].apply(get_martial)"
   ]
  },
  {
   "cell_type": "markdown",
   "id": "f165ba7f",
   "metadata": {},
   "source": [
    "For the job one we will make another but similar approach, we will assume that each education level in each age level shares the same job."
   ]
  },
  {
   "cell_type": "code",
   "execution_count": 134,
   "id": "5f9558f6",
   "metadata": {},
   "outputs": [
    {
     "data": {
      "text/plain": [
       "admin.           2146\n",
       "blue-collar      1491\n",
       "technician       1165\n",
       "services          915\n",
       "student           703\n",
       "management        266\n",
       "self-employed     260\n",
       "unemployed        169\n",
       "entrepreneur      138\n",
       "housemaid          59\n",
       "retired             5\n",
       "Name: job, dtype: int64"
      ]
     },
     "execution_count": 134,
     "metadata": {},
     "output_type": "execute_result"
    }
   ],
   "source": [
    "age_groups.get_group(\"Adult\")[\"job\"].value_counts()"
   ]
  },
  {
   "cell_type": "code",
   "execution_count": 135,
   "id": "4a4c42f4",
   "metadata": {},
   "outputs": [
    {
     "data": {
      "text/plain": [
       "student    33\n",
       "Name: job, dtype: int64"
      ]
     },
     "execution_count": 135,
     "metadata": {},
     "output_type": "execute_result"
    }
   ],
   "source": [
    "age_groups.get_group(\"Teenager\")[\"job\"].value_counts()"
   ]
  },
  {
   "cell_type": "code",
   "execution_count": 136,
   "id": "32cd13bc",
   "metadata": {},
   "outputs": [
    {
     "data": {
      "text/plain": [
       "retired          1598\n",
       "admin.           1245\n",
       "blue-collar      1234\n",
       "technician        839\n",
       "management        669\n",
       "services          451\n",
       "housemaid         352\n",
       "entrepreneur      281\n",
       "self-employed     247\n",
       "unemployed        154\n",
       "Name: job, dtype: int64"
      ]
     },
     "execution_count": 136,
     "metadata": {},
     "output_type": "execute_result"
    }
   ],
   "source": [
    "age_groups.get_group(\"Senior Adult\")[\"job\"].value_counts()"
   ]
  },
  {
   "cell_type": "code",
   "execution_count": 137,
   "id": "52eab464",
   "metadata": {},
   "outputs": [
    {
     "data": {
      "text/plain": [
       "admin.           7031\n",
       "blue-collar      6529\n",
       "technician       4739\n",
       "services         2603\n",
       "management       1989\n",
       "entrepreneur     1037\n",
       "self-employed     914\n",
       "unemployed        691\n",
       "housemaid         649\n",
       "student           139\n",
       "retired           117\n",
       "Name: job, dtype: int64"
      ]
     },
     "execution_count": 137,
     "metadata": {},
     "output_type": "execute_result"
    }
   ],
   "source": [
    "age_groups.get_group(\"Mid Age Adult\")[\"job\"].value_counts()"
   ]
  },
  {
   "cell_type": "markdown",
   "id": "24fc3b97",
   "metadata": {},
   "source": [
    "it appears that, if the client is teenager, then the job is mostly a student, if he is a senior adult he is most likely to be retired, else, it work as an admin."
   ]
  },
  {
   "cell_type": "code",
   "execution_count": 138,
   "id": "8d59b949",
   "metadata": {},
   "outputs": [],
   "source": [
    "def get_job(age_level):\n",
    "    if (age_level == \"Teenager\"):\n",
    "        return \"student\"\n",
    "    elif(age_level == \"Senior Adult\"):\n",
    "        return \"retired\"\n",
    "    else:\n",
    "        return \"admin.\""
   ]
  },
  {
   "cell_type": "code",
   "execution_count": 142,
   "id": "ae77055b",
   "metadata": {},
   "outputs": [],
   "source": [
    "df_imputed.loc[df_imputed[\"job\"].isna(), \"job\"] = df_imputed.loc[df_imputed[\"job\"].isna(), \"age_level\"].apply(get_job)"
   ]
  },
  {
   "cell_type": "code",
   "execution_count": 145,
   "id": "cce67a5a",
   "metadata": {},
   "outputs": [
    {
     "data": {
      "text/plain": [
       "job             0\n",
       "marital         0\n",
       "contact         0\n",
       "campaign        0\n",
       "pdays           0\n",
       "previous        0\n",
       "poutcome        0\n",
       "y               0\n",
       "quarter         0\n",
       "year            0\n",
       "euriborQ        0\n",
       "cons_confi_Q    0\n",
       "cons_price_Q    0\n",
       "emp_var_Q       0\n",
       "age_level       0\n",
       "dtype: int64"
      ]
     },
     "execution_count": 145,
     "metadata": {},
     "output_type": "execute_result"
    }
   ],
   "source": [
    "df_imputed.isna().sum()"
   ]
  },
  {
   "cell_type": "markdown",
   "id": "146ad00f",
   "metadata": {},
   "source": [
    "Finally our data is empty from the NaN Values."
   ]
  },
  {
   "cell_type": "markdown",
   "id": "f31c342e",
   "metadata": {},
   "source": [
    "## Dealing with outliers:"
   ]
  },
  {
   "cell_type": "markdown",
   "id": "b04ebfaf",
   "metadata": {},
   "source": [
    "We Can notice that the column Pdays, is almos 999 values, which represents that for this client there is no previuos contact between the bank and the client, so to make it real, we will change this value to be -1, this will help us more. "
   ]
  },
  {
   "cell_type": "code",
   "execution_count": 146,
   "id": "99f148e8",
   "metadata": {},
   "outputs": [],
   "source": [
    "df_imputed[\"pdays\"] = df_imputed[\"pdays\"].replace({999: -1})"
   ]
  },
  {
   "cell_type": "code",
   "execution_count": 147,
   "id": "70ae3d60",
   "metadata": {},
   "outputs": [
    {
     "data": {
      "text/plain": [
       "<AxesSubplot:ylabel='Frequency'>"
      ]
     },
     "execution_count": 147,
     "metadata": {},
     "output_type": "execute_result"
    },
    {
     "data": {
      "image/png": "[encoded data removed]",
      "text/plain": [
       "<Figure size 432x288 with 1 Axes>"
      ]
     },
     "metadata": {
      "needs_background": "light"
     },
     "output_type": "display_data"
    }
   ],
   "source": [
    "df_imputed[\"pdays\"].plot(kind = \"hist\")"
   ]
  },
  {
   "cell_type": "markdown",
   "id": "c348d374",
   "metadata": {},
   "source": [
    "So this is more resonable"
   ]
  },
  {
   "cell_type": "code",
   "execution_count": 150,
   "id": "53805458",
   "metadata": {},
   "outputs": [
    {
     "data": {
      "text/html": [
       "<div>\n",
       "<style scoped>\n",
       "    .dataframe tbody tr th:only-of-type {\n",
       "        vertical-align: middle;\n",
       "    }\n",
       "\n",
       "    .dataframe tbody tr th {\n",
       "        vertical-align: top;\n",
       "    }\n",
       "\n",
       "    .dataframe thead th {\n",
       "        text-align: right;\n",
       "    }\n",
       "</style>\n",
       "<table border=\"1\" class=\"dataframe\">\n",
       "  <thead>\n",
       "    <tr style=\"text-align: right;\">\n",
       "      <th></th>\n",
       "      <th>campaign</th>\n",
       "      <th>pdays</th>\n",
       "      <th>previous</th>\n",
       "      <th>poutcome</th>\n",
       "      <th>y</th>\n",
       "      <th>quarter</th>\n",
       "      <th>year</th>\n",
       "      <th>euriborQ</th>\n",
       "      <th>cons_confi_Q</th>\n",
       "      <th>cons_price_Q</th>\n",
       "      <th>emp_var_Q</th>\n",
       "    </tr>\n",
       "  </thead>\n",
       "  <tbody>\n",
       "    <tr>\n",
       "      <th>campaign</th>\n",
       "      <td>1.000000</td>\n",
       "      <td>-0.044047</td>\n",
       "      <td>-0.079141</td>\n",
       "      <td>-0.039245</td>\n",
       "      <td>-0.066357</td>\n",
       "      <td>-0.120406</td>\n",
       "      <td>-0.117303</td>\n",
       "      <td>0.136469</td>\n",
       "      <td>0.004166</td>\n",
       "      <td>0.124817</td>\n",
       "      <td>0.150754</td>\n",
       "    </tr>\n",
       "    <tr>\n",
       "      <th>pdays</th>\n",
       "      <td>-0.044047</td>\n",
       "      <td>1.000000</td>\n",
       "      <td>0.506531</td>\n",
       "      <td>0.219109</td>\n",
       "      <td>0.279025</td>\n",
       "      <td>0.363687</td>\n",
       "      <td>0.338454</td>\n",
       "      <td>-0.260970</td>\n",
       "      <td>0.071087</td>\n",
       "      <td>-0.047192</td>\n",
       "      <td>-0.229305</td>\n",
       "    </tr>\n",
       "    <tr>\n",
       "      <th>previous</th>\n",
       "      <td>-0.079141</td>\n",
       "      <td>0.506531</td>\n",
       "      <td>1.000000</td>\n",
       "      <td>0.019837</td>\n",
       "      <td>0.230181</td>\n",
       "      <td>0.524972</td>\n",
       "      <td>0.501161</td>\n",
       "      <td>-0.453130</td>\n",
       "      <td>-0.062865</td>\n",
       "      <td>-0.224291</td>\n",
       "      <td>-0.420489</td>\n",
       "    </tr>\n",
       "    <tr>\n",
       "      <th>poutcome</th>\n",
       "      <td>-0.039245</td>\n",
       "      <td>0.219109</td>\n",
       "      <td>0.019837</td>\n",
       "      <td>1.000000</td>\n",
       "      <td>0.230816</td>\n",
       "      <td>0.215123</td>\n",
       "      <td>0.247280</td>\n",
       "      <td>-0.234600</td>\n",
       "      <td>0.064836</td>\n",
       "      <td>-0.120985</td>\n",
       "      <td>-0.227978</td>\n",
       "    </tr>\n",
       "    <tr>\n",
       "      <th>y</th>\n",
       "      <td>-0.066357</td>\n",
       "      <td>0.279025</td>\n",
       "      <td>0.230181</td>\n",
       "      <td>0.230816</td>\n",
       "      <td>1.000000</td>\n",
       "      <td>0.374730</td>\n",
       "      <td>0.352004</td>\n",
       "      <td>-0.311725</td>\n",
       "      <td>0.072890</td>\n",
       "      <td>-0.157391</td>\n",
       "      <td>-0.298334</td>\n",
       "    </tr>\n",
       "    <tr>\n",
       "      <th>quarter</th>\n",
       "      <td>-0.120406</td>\n",
       "      <td>0.363687</td>\n",
       "      <td>0.524972</td>\n",
       "      <td>0.215123</td>\n",
       "      <td>0.374730</td>\n",
       "      <td>1.000000</td>\n",
       "      <td>0.956082</td>\n",
       "      <td>-0.900548</td>\n",
       "      <td>-0.224457</td>\n",
       "      <td>-0.527415</td>\n",
       "      <td>-0.839246</td>\n",
       "    </tr>\n",
       "    <tr>\n",
       "      <th>year</th>\n",
       "      <td>-0.117303</td>\n",
       "      <td>0.338454</td>\n",
       "      <td>0.501161</td>\n",
       "      <td>0.247280</td>\n",
       "      <td>0.352004</td>\n",
       "      <td>0.956082</td>\n",
       "      <td>1.000000</td>\n",
       "      <td>-0.940459</td>\n",
       "      <td>-0.270749</td>\n",
       "      <td>-0.525509</td>\n",
       "      <td>-0.856265</td>\n",
       "    </tr>\n",
       "    <tr>\n",
       "      <th>euriborQ</th>\n",
       "      <td>0.136469</td>\n",
       "      <td>-0.260970</td>\n",
       "      <td>-0.453130</td>\n",
       "      <td>-0.234600</td>\n",
       "      <td>-0.311725</td>\n",
       "      <td>-0.900548</td>\n",
       "      <td>-0.940459</td>\n",
       "      <td>1.000000</td>\n",
       "      <td>0.324648</td>\n",
       "      <td>0.770895</td>\n",
       "      <td>0.973053</td>\n",
       "    </tr>\n",
       "    <tr>\n",
       "      <th>cons_confi_Q</th>\n",
       "      <td>0.004166</td>\n",
       "      <td>0.071087</td>\n",
       "      <td>-0.062865</td>\n",
       "      <td>0.064836</td>\n",
       "      <td>0.072890</td>\n",
       "      <td>-0.224457</td>\n",
       "      <td>-0.270749</td>\n",
       "      <td>0.324648</td>\n",
       "      <td>1.000000</td>\n",
       "      <td>0.286361</td>\n",
       "      <td>0.224597</td>\n",
       "    </tr>\n",
       "    <tr>\n",
       "      <th>cons_price_Q</th>\n",
       "      <td>0.124817</td>\n",
       "      <td>-0.047192</td>\n",
       "      <td>-0.224291</td>\n",
       "      <td>-0.120985</td>\n",
       "      <td>-0.157391</td>\n",
       "      <td>-0.527415</td>\n",
       "      <td>-0.525509</td>\n",
       "      <td>0.770895</td>\n",
       "      <td>0.286361</td>\n",
       "      <td>1.000000</td>\n",
       "      <td>0.870847</td>\n",
       "    </tr>\n",
       "    <tr>\n",
       "      <th>emp_var_Q</th>\n",
       "      <td>0.150754</td>\n",
       "      <td>-0.229305</td>\n",
       "      <td>-0.420489</td>\n",
       "      <td>-0.227978</td>\n",
       "      <td>-0.298334</td>\n",
       "      <td>-0.839246</td>\n",
       "      <td>-0.856265</td>\n",
       "      <td>0.973053</td>\n",
       "      <td>0.224597</td>\n",
       "      <td>0.870847</td>\n",
       "      <td>1.000000</td>\n",
       "    </tr>\n",
       "  </tbody>\n",
       "</table>\n",
       "</div>"
      ],
      "text/plain": [
       "              campaign     pdays  previous  poutcome         y   quarter  \\\n",
       "campaign      1.000000 -0.044047 -0.079141 -0.039245 -0.066357 -0.120406   \n",
       "pdays        -0.044047  1.000000  0.506531  0.219109  0.279025  0.363687   \n",
       "previous     -0.079141  0.506531  1.000000  0.019837  0.230181  0.524972   \n",
       "poutcome     -0.039245  0.219109  0.019837  1.000000  0.230816  0.215123   \n",
       "y            -0.066357  0.279025  0.230181  0.230816  1.000000  0.374730   \n",
       "quarter      -0.120406  0.363687  0.524972  0.215123  0.374730  1.000000   \n",
       "year         -0.117303  0.338454  0.501161  0.247280  0.352004  0.956082   \n",
       "euriborQ      0.136469 -0.260970 -0.453130 -0.234600 -0.311725 -0.900548   \n",
       "cons_confi_Q  0.004166  0.071087 -0.062865  0.064836  0.072890 -0.224457   \n",
       "cons_price_Q  0.124817 -0.047192 -0.224291 -0.120985 -0.157391 -0.527415   \n",
       "emp_var_Q     0.150754 -0.229305 -0.420489 -0.227978 -0.298334 -0.839246   \n",
       "\n",
       "                  year  euriborQ  cons_confi_Q  cons_price_Q  emp_var_Q  \n",
       "campaign     -0.117303  0.136469      0.004166      0.124817   0.150754  \n",
       "pdays         0.338454 -0.260970      0.071087     -0.047192  -0.229305  \n",
       "previous      0.501161 -0.453130     -0.062865     -0.224291  -0.420489  \n",
       "poutcome      0.247280 -0.234600      0.064836     -0.120985  -0.227978  \n",
       "y             0.352004 -0.311725      0.072890     -0.157391  -0.298334  \n",
       "quarter       0.956082 -0.900548     -0.224457     -0.527415  -0.839246  \n",
       "year          1.000000 -0.940459     -0.270749     -0.525509  -0.856265  \n",
       "euriborQ     -0.940459  1.000000      0.324648      0.770895   0.973053  \n",
       "cons_confi_Q -0.270749  0.324648      1.000000      0.286361   0.224597  \n",
       "cons_price_Q -0.525509  0.770895      0.286361      1.000000   0.870847  \n",
       "emp_var_Q    -0.856265  0.973053      0.224597      0.870847   1.000000  "
      ]
     },
     "execution_count": 150,
     "metadata": {},
     "output_type": "execute_result"
    }
   ],
   "source": [
    "total_correlation"
   ]
  },
  {
   "cell_type": "code",
   "execution_count": 149,
   "id": "884e082b",
   "metadata": {},
   "outputs": [
    {
     "data": {
      "text/plain": [
       "<AxesSubplot:>"
      ]
     },
     "execution_count": 149,
     "metadata": {},
     "output_type": "execute_result"
    },
    {
     "data": {
      "image/png": "[encoded data removed]",
      "text/plain": [
       "<Figure size 432x288 with 2 Axes>"
      ]
     },
     "metadata": {
      "needs_background": "light"
     },
     "output_type": "display_data"
    }
   ],
   "source": [
    "total_correlation = df_imputed.corr()\n",
    "sns.heatmap(total_correlation)"
   ]
  },
  {
   "cell_type": "code",
   "execution_count": 151,
   "id": "899f94ea",
   "metadata": {},
   "outputs": [
    {
     "data": {
      "text/plain": [
       "<AxesSubplot:>"
      ]
     },
     "execution_count": 151,
     "metadata": {},
     "output_type": "execute_result"
    },
    {
     "data": {
      "image/png": "[encoded data removed]",
      "text/plain": [
       "<Figure size 432x288 with 2 Axes>"
      ]
     },
     "metadata": {
      "needs_background": "light"
     },
     "output_type": "display_data"
    }
   ],
   "source": [
    "total_correlation = df_imputed[df_imputed[\"pdays\"] != -1 ].corr()\n",
    "sns.heatmap(total_correlation)"
   ]
  },
  {
   "cell_type": "markdown",
   "id": "a5fcc9e5",
   "metadata": {},
   "source": [
    "So From Here, we can change the pdays column to make it represents if this is the first time to call this client or not."
   ]
  },
  {
   "cell_type": "code",
   "execution_count": 153,
   "id": "1d034a88",
   "metadata": {},
   "outputs": [],
   "source": [
    "df_imputed[\"first_call\"] = df_imputed[\"pdays\"].apply(lambda x: x>0)"
   ]
  },
  {
   "cell_type": "code",
   "execution_count": 154,
   "id": "43db6110",
   "metadata": {},
   "outputs": [],
   "source": [
    "df_imputed[\"first_call\"] = df_imputed[\"first_call\"].replace({True: 1, False: 0})"
   ]
  },
  {
   "cell_type": "code",
   "execution_count": 162,
   "id": "4f272651",
   "metadata": {},
   "outputs": [],
   "source": [
    "df_imputed.loc[df_imputed[\"first_call\"] == 1, \"poutcome\"] = 3"
   ]
  },
  {
   "cell_type": "markdown",
   "id": "1bac84a9",
   "metadata": {},
   "source": [
    "this idicates that this is an unkown one, as this is the first contact for this client."
   ]
  },
  {
   "cell_type": "code",
   "execution_count": 163,
   "id": "3bb49b35",
   "metadata": {},
   "outputs": [
    {
     "data": {
      "text/plain": [
       "3.0    1500\n",
       "Name: poutcome, dtype: int64"
      ]
     },
     "execution_count": 163,
     "metadata": {},
     "output_type": "execute_result"
    }
   ],
   "source": [
    "df_imputed.loc[df_imputed[\"first_call\"] == 1, \"poutcome\"].value_counts()"
   ]
  },
  {
   "cell_type": "code",
   "execution_count": 164,
   "id": "f33e43fb",
   "metadata": {},
   "outputs": [
    {
     "data": {
      "text/plain": [
       "0.0    29633\n",
       "1.0    10055\n",
       "3.0     1500\n",
       "Name: poutcome, dtype: int64"
      ]
     },
     "execution_count": 164,
     "metadata": {},
     "output_type": "execute_result"
    }
   ],
   "source": [
    "df_imputed[\"poutcome\"].value_counts()"
   ]
  },
  {
   "cell_type": "code",
   "execution_count": 185,
   "id": "70bdef56",
   "metadata": {},
   "outputs": [],
   "source": [
    "# total_correlation = df_imputed[df_imputed[\"pdays\"] ].corr()\n",
    "# sns.heatmap(total_correlation)"
   ]
  },
  {
   "cell_type": "code",
   "execution_count": 181,
   "id": "f675227c",
   "metadata": {},
   "outputs": [
    {
     "name": "stdout",
     "output_type": "stream",
     "text": [
      "Descriptive Statistics is for columns campaign :\n",
      " count    41188.000000\n",
      "mean         2.567593\n",
      "std          2.770014\n",
      "min          1.000000\n",
      "25%          1.000000\n",
      "50%          2.000000\n",
      "75%          3.000000\n",
      "max         56.000000\n",
      "Name: campaign, dtype: float64\n"
     ]
    },
    {
     "data": {
      "image/png": "[encoded data removed]",
      "text/plain": [
       "<Figure size 720x720 with 2 Axes>"
      ]
     },
     "metadata": {
      "needs_background": "light"
     },
     "output_type": "display_data"
    },
    {
     "name": "stdout",
     "output_type": "stream",
     "text": [
      "Descriptive Statistics is for columns pdays :\n",
      " count    41188.000000\n",
      "mean        -0.741988\n",
      "std          1.510327\n",
      "min         -1.000000\n",
      "25%         -1.000000\n",
      "50%         -1.000000\n",
      "75%         -1.000000\n",
      "max         27.000000\n",
      "Name: pdays, dtype: float64\n"
     ]
    },
    {
     "data": {
      "image/png": "[encoded data removed]",
      "text/plain": [
       "<Figure size 720x720 with 2 Axes>"
      ]
     },
     "metadata": {
      "needs_background": "light"
     },
     "output_type": "display_data"
    },
    {
     "name": "stdout",
     "output_type": "stream",
     "text": [
      "Descriptive Statistics is for columns previous :\n",
      " count    41188.000000\n",
      "mean         0.172963\n",
      "std          0.494901\n",
      "min          0.000000\n",
      "25%          0.000000\n",
      "50%          0.000000\n",
      "75%          0.000000\n",
      "max          7.000000\n",
      "Name: previous, dtype: float64\n"
     ]
    },
    {
     "data": {
      "image/png": "[encoded data removed]",
      "text/plain": [
       "<Figure size 720x720 with 2 Axes>"
      ]
     },
     "metadata": {
      "needs_background": "light"
     },
     "output_type": "display_data"
    },
    {
     "name": "stdout",
     "output_type": "stream",
     "text": [
      "Descriptive Statistics is for columns poutcome :\n",
      " count    41188.000000\n",
      "mean         0.353380\n",
      "std          0.668598\n",
      "min          0.000000\n",
      "25%          0.000000\n",
      "50%          0.000000\n",
      "75%          1.000000\n",
      "max          3.000000\n",
      "Name: poutcome, dtype: float64\n"
     ]
    },
    {
     "data": {
      "image/png": "[encoded data removed]",
      "text/plain": [
       "<Figure size 720x720 with 2 Axes>"
      ]
     },
     "metadata": {
      "needs_background": "light"
     },
     "output_type": "display_data"
    },
    {
     "name": "stdout",
     "output_type": "stream",
     "text": [
      "Descriptive Statistics is for columns y :\n",
      " count    41188.000000\n",
      "mean         0.112654\n",
      "std          0.316173\n",
      "min          0.000000\n",
      "25%          0.000000\n",
      "50%          0.000000\n",
      "75%          0.000000\n",
      "max          1.000000\n",
      "Name: y, dtype: float64\n"
     ]
    },
    {
     "data": {
      "image/png": "[encoded data removed]",
      "text/plain": [
       "<Figure size 720x720 with 2 Axes>"
      ]
     },
     "metadata": {
      "needs_background": "light"
     },
     "output_type": "display_data"
    },
    {
     "name": "stdout",
     "output_type": "stream",
     "text": [
      "Descriptive Statistics is for columns quarter :\n",
      " count    41188.000000\n",
      "mean         3.238953\n",
      "std          2.297470\n",
      "min          1.000000\n",
      "25%          2.000000\n",
      "50%          2.000000\n",
      "75%          5.000000\n",
      "max         11.000000\n",
      "Name: quarter, dtype: float64\n"
     ]
    },
    {
     "data": {
      "image/png": "[encoded data removed]",
      "text/plain": [
       "<Figure size 720x720 with 2 Axes>"
      ]
     },
     "metadata": {
      "needs_background": "light"
     },
     "output_type": "display_data"
    },
    {
     "name": "stdout",
     "output_type": "stream",
     "text": [
      "Descriptive Statistics is for columns year :\n",
      " count    41188.000000\n",
      "mean      2008.382102\n",
      "std          0.586849\n",
      "min       2008.000000\n",
      "25%       2008.000000\n",
      "50%       2008.000000\n",
      "75%       2009.000000\n",
      "max       2010.000000\n",
      "Name: year, dtype: float64\n"
     ]
    },
    {
     "data": {
      "image/png": "[encoded data removed]",
      "text/plain": [
       "<Figure size 720x720 with 2 Axes>"
      ]
     },
     "metadata": {
      "needs_background": "light"
     },
     "output_type": "display_data"
    },
    {
     "name": "stdout",
     "output_type": "stream",
     "text": [
      "Descriptive Statistics is for columns euriborQ :\n",
      " count    41188.000000\n",
      "mean         3.621291\n",
      "std          1.733006\n",
      "min          0.659134\n",
      "25%          1.339254\n",
      "50%          4.857663\n",
      "75%          4.954544\n",
      "max          4.954544\n",
      "Name: euriborQ, dtype: float64\n"
     ]
    },
    {
     "data": {
      "image/png": "[encoded data removed]",
      "text/plain": [
       "<Figure size 720x720 with 2 Axes>"
      ]
     },
     "metadata": {
      "needs_background": "light"
     },
     "output_type": "display_data"
    },
    {
     "name": "stdout",
     "output_type": "stream",
     "text": [
      "Descriptive Statistics is for columns cons_price_Q :\n",
      " count    41188.000000\n",
      "mean        93.575664\n",
      "std          0.515354\n",
      "min         92.490703\n",
      "25%         92.943768\n",
      "50%         93.914281\n",
      "75%         93.914281\n",
      "max         94.442641\n",
      "Name: cons_price_Q, dtype: float64\n"
     ]
    },
    {
     "data": {
      "image/png": "[encoded data removed]",
      "text/plain": [
       "<Figure size 720x720 with 2 Axes>"
      ]
     },
     "metadata": {
      "needs_background": "light"
     },
     "output_type": "display_data"
    },
    {
     "name": "stdout",
     "output_type": "stream",
     "text": [
      "Descriptive Statistics is for columns emp_var_Q :\n",
      " count    41188.000000\n",
      "mean         0.081886\n",
      "std          1.570960\n",
      "min         -3.400000\n",
      "25%         -1.800000\n",
      "50%          1.100000\n",
      "75%          1.400000\n",
      "max          1.400000\n",
      "Name: emp_var_Q, dtype: float64\n"
     ]
    },
    {
     "data": {
      "image/png": "[encoded data removed]",
      "text/plain": [
       "<Figure size 720x720 with 2 Axes>"
      ]
     },
     "metadata": {
      "needs_background": "light"
     },
     "output_type": "display_data"
    },
    {
     "name": "stdout",
     "output_type": "stream",
     "text": [
      "Descriptive Statistics is for columns first_call :\n",
      " count    41188.000000\n",
      "mean         0.036418\n",
      "std          0.187331\n",
      "min          0.000000\n",
      "25%          0.000000\n",
      "50%          0.000000\n",
      "75%          0.000000\n",
      "max          1.000000\n",
      "Name: first_call, dtype: float64\n"
     ]
    },
    {
     "data": {
      "image/png": "[encoded data removed]",
      "text/plain": [
       "<Figure size 720x720 with 2 Axes>"
      ]
     },
     "metadata": {
      "needs_background": "light"
     },
     "output_type": "display_data"
    },
    {
     "name": "stdout",
     "output_type": "stream",
     "text": [
      "Descriptive Statistics is for columns Consumer_confidence_level :\n",
      " count    41188.000000\n",
      "mean         2.795863\n",
      "std          1.197735\n",
      "min          1.000000\n",
      "25%          2.000000\n",
      "50%          3.000000\n",
      "75%          4.000000\n",
      "max          6.000000\n",
      "Name: Consumer_confidence_level, dtype: float64\n"
     ]
    },
    {
     "data": {
      "image/png": "[encoded data removed]",
      "text/plain": [
       "<Figure size 720x720 with 2 Axes>"
      ]
     },
     "metadata": {
      "needs_background": "light"
     },
     "output_type": "display_data"
    },
    {
     "name": "stdout",
     "output_type": "stream",
     "text": [
      "Descriptive Statistics is for columns Consumer_price_level :\n",
      " count    41188.000000\n",
      "mean         2.388778\n",
      "std          0.928443\n",
      "min          1.000000\n",
      "25%          1.000000\n",
      "50%          3.000000\n",
      "75%          3.000000\n",
      "max          4.000000\n",
      "Name: Consumer_price_level, dtype: float64\n"
     ]
    },
    {
     "data": {
      "image/png": "[encoded data removed]",
      "text/plain": [
       "<Figure size 720x720 with 2 Axes>"
      ]
     },
     "metadata": {
      "needs_background": "light"
     },
     "output_type": "display_data"
    }
   ],
   "source": [
    "for i in df_imputed.columns.to_list():\n",
    "    if str(df_imputed[i].dtype) != 'object':\n",
    "        # Print Statistics of it\n",
    "        print(\"Descriptive Statistics is for columns {} :\\n {}\".format(i, df_imputed[i].describe()))\n",
    "        fig, ax = plt.subplots(2,1, figsize = (10,10))\n",
    "        ax[0].set_title(f\"Box Plot For Columns {i}\")\n",
    "        ax[0].boxplot(df_imputed[i], vert = False, sym = \"r.\")\n",
    "        ax[1].set_title(f\"Histogram of values for column {i}\")\n",
    "        r = ax[1].hist(df_imputed[i], histtype = \"bar\")\n",
    "        plt.show()"
   ]
  },
  {
   "cell_type": "code",
   "execution_count": null,
   "id": "4c68e4ef",
   "metadata": {},
   "outputs": [],
   "source": [
    "# Binning he Consumer Confi Q columns:\n",
    "def get_consumer_conifidence(cci):\n",
    "    if((cci >= -47) & (cci < -43.584790)):\n",
    "        return 1\n",
    "    elif((cci >= -43.584790) & (cci < -43.584790+3)):\n",
    "        return 2\n",
    "    elif((cci >= -43.584790+3) & (cci < -43.584790+6)):\n",
    "        return 3\n",
    "    elif((cci >= -43.584790+6) & (cci < -43.584790+9)):\n",
    "        return 4\n",
    "    elif((cci >= -43.584790+9) & (cci < -43.584790+12)):\n",
    "        return 5\n",
    "    else:\n",
    "        return 6\n",
    "df_imputed[\"Consumer_confidence_level\"] = df_imputed[\"cons_confi_Q\"].apply(get_consumer_conifidence)"
   ]
  },
  {
   "cell_type": "code",
   "execution_count": null,
   "id": "dc1fe580",
   "metadata": {},
   "outputs": [],
   "source": [
    "df_imputed = df_imputed.drop(columns = [\"cons_confi_Q\"])"
   ]
  },
  {
   "cell_type": "code",
   "execution_count": null,
   "id": "080f3274",
   "metadata": {},
   "outputs": [],
   "source": [
    "# Binning he Consumer Confi Q columns:\n",
    "def get_consumer_price(cpi):\n",
    "    if((cpi >= 92) & (cpi < 93)):\n",
    "        return 1\n",
    "    elif((cpi >= 93) & (cpi < 93.5)):\n",
    "        return 2\n",
    "    elif((cpi >= 93.5) & (cpi < 94)):\n",
    "        return 3\n",
    "    else:\n",
    "        return 4\n",
    "\n",
    "df_imputed[\"Consumer_price_level\"] = df_imputed[\"cons_price_Q\"].apply(get_consumer_price)"
   ]
  },
  {
   "cell_type": "code",
   "execution_count": 183,
   "id": "60e48fcb",
   "metadata": {},
   "outputs": [
    {
     "data": {
      "text/html": [
       "<div>\n",
       "<style scoped>\n",
       "    .dataframe tbody tr th:only-of-type {\n",
       "        vertical-align: middle;\n",
       "    }\n",
       "\n",
       "    .dataframe tbody tr th {\n",
       "        vertical-align: top;\n",
       "    }\n",
       "\n",
       "    .dataframe thead th {\n",
       "        text-align: right;\n",
       "    }\n",
       "</style>\n",
       "<table border=\"1\" class=\"dataframe\">\n",
       "  <thead>\n",
       "    <tr style=\"text-align: right;\">\n",
       "      <th></th>\n",
       "      <th>campaign</th>\n",
       "      <th>pdays</th>\n",
       "      <th>previous</th>\n",
       "      <th>poutcome</th>\n",
       "      <th>y</th>\n",
       "      <th>quarter</th>\n",
       "      <th>year</th>\n",
       "      <th>euriborQ</th>\n",
       "      <th>cons_price_Q</th>\n",
       "      <th>emp_var_Q</th>\n",
       "      <th>first_call</th>\n",
       "      <th>Consumer_confidence_level</th>\n",
       "      <th>Consumer_price_level</th>\n",
       "    </tr>\n",
       "  </thead>\n",
       "  <tbody>\n",
       "    <tr>\n",
       "      <th>campaign</th>\n",
       "      <td>1.000000</td>\n",
       "      <td>0.045752</td>\n",
       "      <td>0.000419</td>\n",
       "      <td>0.039412</td>\n",
       "      <td>-0.125418</td>\n",
       "      <td>0.004327</td>\n",
       "      <td>0.019242</td>\n",
       "      <td>0.040419</td>\n",
       "      <td>0.038561</td>\n",
       "      <td>0.058257</td>\n",
       "      <td>0.039412</td>\n",
       "      <td>-0.065433</td>\n",
       "      <td>0.026636</td>\n",
       "    </tr>\n",
       "    <tr>\n",
       "      <th>pdays</th>\n",
       "      <td>0.045752</td>\n",
       "      <td>1.000000</td>\n",
       "      <td>-0.040022</td>\n",
       "      <td>0.157298</td>\n",
       "      <td>-0.035223</td>\n",
       "      <td>0.173498</td>\n",
       "      <td>0.198725</td>\n",
       "      <td>-0.073246</td>\n",
       "      <td>0.200349</td>\n",
       "      <td>0.153113</td>\n",
       "      <td>0.157298</td>\n",
       "      <td>-0.130381</td>\n",
       "      <td>0.189907</td>\n",
       "    </tr>\n",
       "    <tr>\n",
       "      <th>previous</th>\n",
       "      <td>0.000419</td>\n",
       "      <td>-0.040022</td>\n",
       "      <td>1.000000</td>\n",
       "      <td>-0.036325</td>\n",
       "      <td>0.076596</td>\n",
       "      <td>0.403056</td>\n",
       "      <td>0.367221</td>\n",
       "      <td>-0.181451</td>\n",
       "      <td>0.359800</td>\n",
       "      <td>0.193009</td>\n",
       "      <td>-0.036325</td>\n",
       "      <td>-0.068115</td>\n",
       "      <td>0.379606</td>\n",
       "    </tr>\n",
       "    <tr>\n",
       "      <th>poutcome</th>\n",
       "      <td>0.039412</td>\n",
       "      <td>0.157298</td>\n",
       "      <td>-0.036325</td>\n",
       "      <td>1.000000</td>\n",
       "      <td>-0.005907</td>\n",
       "      <td>0.008308</td>\n",
       "      <td>0.003518</td>\n",
       "      <td>-0.077614</td>\n",
       "      <td>-0.044088</td>\n",
       "      <td>-0.069997</td>\n",
       "      <td>1.000000</td>\n",
       "      <td>0.049387</td>\n",
       "      <td>-0.045087</td>\n",
       "    </tr>\n",
       "    <tr>\n",
       "      <th>y</th>\n",
       "      <td>-0.125418</td>\n",
       "      <td>-0.035223</td>\n",
       "      <td>0.076596</td>\n",
       "      <td>-0.005907</td>\n",
       "      <td>1.000000</td>\n",
       "      <td>0.268592</td>\n",
       "      <td>0.253056</td>\n",
       "      <td>-0.263635</td>\n",
       "      <td>0.145267</td>\n",
       "      <td>-0.039488</td>\n",
       "      <td>-0.005907</td>\n",
       "      <td>0.126128</td>\n",
       "      <td>0.189809</td>\n",
       "    </tr>\n",
       "    <tr>\n",
       "      <th>quarter</th>\n",
       "      <td>0.004327</td>\n",
       "      <td>0.173498</td>\n",
       "      <td>0.403056</td>\n",
       "      <td>0.008308</td>\n",
       "      <td>0.268592</td>\n",
       "      <td>1.000000</td>\n",
       "      <td>0.922609</td>\n",
       "      <td>-0.531542</td>\n",
       "      <td>0.846306</td>\n",
       "      <td>0.391947</td>\n",
       "      <td>0.008308</td>\n",
       "      <td>-0.126312</td>\n",
       "      <td>0.896125</td>\n",
       "    </tr>\n",
       "    <tr>\n",
       "      <th>year</th>\n",
       "      <td>0.019242</td>\n",
       "      <td>0.198725</td>\n",
       "      <td>0.367221</td>\n",
       "      <td>0.003518</td>\n",
       "      <td>0.253056</td>\n",
       "      <td>0.922609</td>\n",
       "      <td>1.000000</td>\n",
       "      <td>-0.577441</td>\n",
       "      <td>0.814556</td>\n",
       "      <td>0.426325</td>\n",
       "      <td>0.003518</td>\n",
       "      <td>-0.182262</td>\n",
       "      <td>0.843979</td>\n",
       "    </tr>\n",
       "    <tr>\n",
       "      <th>euriborQ</th>\n",
       "      <td>0.040419</td>\n",
       "      <td>-0.073246</td>\n",
       "      <td>-0.181451</td>\n",
       "      <td>-0.077614</td>\n",
       "      <td>-0.263635</td>\n",
       "      <td>-0.531542</td>\n",
       "      <td>-0.577441</td>\n",
       "      <td>1.000000</td>\n",
       "      <td>-0.108073</td>\n",
       "      <td>0.410714</td>\n",
       "      <td>-0.077614</td>\n",
       "      <td>-0.371018</td>\n",
       "      <td>-0.186050</td>\n",
       "    </tr>\n",
       "    <tr>\n",
       "      <th>cons_price_Q</th>\n",
       "      <td>0.038561</td>\n",
       "      <td>0.200349</td>\n",
       "      <td>0.359800</td>\n",
       "      <td>-0.044088</td>\n",
       "      <td>0.145267</td>\n",
       "      <td>0.846306</td>\n",
       "      <td>0.814556</td>\n",
       "      <td>-0.108073</td>\n",
       "      <td>1.000000</td>\n",
       "      <td>0.811519</td>\n",
       "      <td>-0.044088</td>\n",
       "      <td>-0.564751</td>\n",
       "      <td>0.973428</td>\n",
       "    </tr>\n",
       "    <tr>\n",
       "      <th>emp_var_Q</th>\n",
       "      <td>0.058257</td>\n",
       "      <td>0.153113</td>\n",
       "      <td>0.193009</td>\n",
       "      <td>-0.069997</td>\n",
       "      <td>-0.039488</td>\n",
       "      <td>0.391947</td>\n",
       "      <td>0.426325</td>\n",
       "      <td>0.410714</td>\n",
       "      <td>0.811519</td>\n",
       "      <td>1.000000</td>\n",
       "      <td>-0.069997</td>\n",
       "      <td>-0.823734</td>\n",
       "      <td>0.703496</td>\n",
       "    </tr>\n",
       "    <tr>\n",
       "      <th>first_call</th>\n",
       "      <td>0.039412</td>\n",
       "      <td>0.157298</td>\n",
       "      <td>-0.036325</td>\n",
       "      <td>1.000000</td>\n",
       "      <td>-0.005907</td>\n",
       "      <td>0.008308</td>\n",
       "      <td>0.003518</td>\n",
       "      <td>-0.077614</td>\n",
       "      <td>-0.044088</td>\n",
       "      <td>-0.069997</td>\n",
       "      <td>1.000000</td>\n",
       "      <td>0.049387</td>\n",
       "      <td>-0.045087</td>\n",
       "    </tr>\n",
       "    <tr>\n",
       "      <th>Consumer_confidence_level</th>\n",
       "      <td>-0.065433</td>\n",
       "      <td>-0.130381</td>\n",
       "      <td>-0.068115</td>\n",
       "      <td>0.049387</td>\n",
       "      <td>0.126128</td>\n",
       "      <td>-0.126312</td>\n",
       "      <td>-0.182262</td>\n",
       "      <td>-0.371018</td>\n",
       "      <td>-0.564751</td>\n",
       "      <td>-0.823734</td>\n",
       "      <td>0.049387</td>\n",
       "      <td>1.000000</td>\n",
       "      <td>-0.379188</td>\n",
       "    </tr>\n",
       "    <tr>\n",
       "      <th>Consumer_price_level</th>\n",
       "      <td>0.026636</td>\n",
       "      <td>0.189907</td>\n",
       "      <td>0.379606</td>\n",
       "      <td>-0.045087</td>\n",
       "      <td>0.189809</td>\n",
       "      <td>0.896125</td>\n",
       "      <td>0.843979</td>\n",
       "      <td>-0.186050</td>\n",
       "      <td>0.973428</td>\n",
       "      <td>0.703496</td>\n",
       "      <td>-0.045087</td>\n",
       "      <td>-0.379188</td>\n",
       "      <td>1.000000</td>\n",
       "    </tr>\n",
       "  </tbody>\n",
       "</table>\n",
       "</div>"
      ],
      "text/plain": [
       "                           campaign     pdays  previous  poutcome         y  \\\n",
       "campaign                   1.000000  0.045752  0.000419  0.039412 -0.125418   \n",
       "pdays                      0.045752  1.000000 -0.040022  0.157298 -0.035223   \n",
       "previous                   0.000419 -0.040022  1.000000 -0.036325  0.076596   \n",
       "poutcome                   0.039412  0.157298 -0.036325  1.000000 -0.005907   \n",
       "y                         -0.125418 -0.035223  0.076596 -0.005907  1.000000   \n",
       "quarter                    0.004327  0.173498  0.403056  0.008308  0.268592   \n",
       "year                       0.019242  0.198725  0.367221  0.003518  0.253056   \n",
       "euriborQ                   0.040419 -0.073246 -0.181451 -0.077614 -0.263635   \n",
       "cons_price_Q               0.038561  0.200349  0.359800 -0.044088  0.145267   \n",
       "emp_var_Q                  0.058257  0.153113  0.193009 -0.069997 -0.039488   \n",
       "first_call                 0.039412  0.157298 -0.036325  1.000000 -0.005907   \n",
       "Consumer_confidence_level -0.065433 -0.130381 -0.068115  0.049387  0.126128   \n",
       "Consumer_price_level       0.026636  0.189907  0.379606 -0.045087  0.189809   \n",
       "\n",
       "                            quarter      year  euriborQ  cons_price_Q  \\\n",
       "campaign                   0.004327  0.019242  0.040419      0.038561   \n",
       "pdays                      0.173498  0.198725 -0.073246      0.200349   \n",
       "previous                   0.403056  0.367221 -0.181451      0.359800   \n",
       "poutcome                   0.008308  0.003518 -0.077614     -0.044088   \n",
       "y                          0.268592  0.253056 -0.263635      0.145267   \n",
       "quarter                    1.000000  0.922609 -0.531542      0.846306   \n",
       "year                       0.922609  1.000000 -0.577441      0.814556   \n",
       "euriborQ                  -0.531542 -0.577441  1.000000     -0.108073   \n",
       "cons_price_Q               0.846306  0.814556 -0.108073      1.000000   \n",
       "emp_var_Q                  0.391947  0.426325  0.410714      0.811519   \n",
       "first_call                 0.008308  0.003518 -0.077614     -0.044088   \n",
       "Consumer_confidence_level -0.126312 -0.182262 -0.371018     -0.564751   \n",
       "Consumer_price_level       0.896125  0.843979 -0.186050      0.973428   \n",
       "\n",
       "                           emp_var_Q  first_call  Consumer_confidence_level  \\\n",
       "campaign                    0.058257    0.039412                  -0.065433   \n",
       "pdays                       0.153113    0.157298                  -0.130381   \n",
       "previous                    0.193009   -0.036325                  -0.068115   \n",
       "poutcome                   -0.069997    1.000000                   0.049387   \n",
       "y                          -0.039488   -0.005907                   0.126128   \n",
       "quarter                     0.391947    0.008308                  -0.126312   \n",
       "year                        0.426325    0.003518                  -0.182262   \n",
       "euriborQ                    0.410714   -0.077614                  -0.371018   \n",
       "cons_price_Q                0.811519   -0.044088                  -0.564751   \n",
       "emp_var_Q                   1.000000   -0.069997                  -0.823734   \n",
       "first_call                 -0.069997    1.000000                   0.049387   \n",
       "Consumer_confidence_level  -0.823734    0.049387                   1.000000   \n",
       "Consumer_price_level        0.703496   -0.045087                  -0.379188   \n",
       "\n",
       "                           Consumer_price_level  \n",
       "campaign                               0.026636  \n",
       "pdays                                  0.189907  \n",
       "previous                               0.379606  \n",
       "poutcome                              -0.045087  \n",
       "y                                      0.189809  \n",
       "quarter                                0.896125  \n",
       "year                                   0.843979  \n",
       "euriborQ                              -0.186050  \n",
       "cons_price_Q                           0.973428  \n",
       "emp_var_Q                              0.703496  \n",
       "first_call                            -0.045087  \n",
       "Consumer_confidence_level             -0.379188  \n",
       "Consumer_price_level                   1.000000  "
      ]
     },
     "execution_count": 183,
     "metadata": {},
     "output_type": "execute_result"
    }
   ],
   "source": [
    "total_correlation"
   ]
  },
  {
   "cell_type": "code",
   "execution_count": 184,
   "id": "164da1ae",
   "metadata": {},
   "outputs": [],
   "source": [
    "df_imputed = df_imputed.drop(columns = [\"cons_price_Q\"])"
   ]
  },
  {
   "cell_type": "code",
   "execution_count": null,
   "id": "4e879b5d",
   "metadata": {},
   "outputs": [],
   "source": [
    "EuroboQ"
   ]
  },
  {
   "cell_type": "code",
   "execution_count": 7,
   "id": "f31af818",
   "metadata": {},
   "outputs": [],
   "source": [
    "# # investigating Outliers in each column:\n",
    "# # age columns using the 1.5 inter quartile range\n",
    "# age_iqr    = (df1[\"age\"].describe()[\"75%\"] - df1[\"age\"].describe()[\"25%\"])\n",
    "# age_iqr_15 = 1.5*age_iqr\n",
    "# # Inner and outer  Lower fences:\n",
    "# lower_inner = df1[\"age\"].describe()[\"25%\"] - age_iqr_15\n",
    "# # Inner and outer  Upper fences:\n",
    "# upper_inner = df1[\"age\"].describe()[\"75%\"] + age_iqr_15\n",
    "# # Severe Outlies are those points which not between the two innerss"
   ]
  },
  {
   "cell_type": "code",
   "execution_count": 8,
   "id": "4531810c",
   "metadata": {},
   "outputs": [],
   "source": [
    "# Selecting Ouliers:\n",
    "# otliers_index = df1[(df1[\"age\"] <= lower_inner) | (df1[\"age\"] >= upper_inner)]"
   ]
  },
  {
   "cell_type": "code",
   "execution_count": 12,
   "id": "92f691a7",
   "metadata": {},
   "outputs": [
    {
     "data": {
      "text/plain": [
       "0.011386811692726036"
      ]
     },
     "execution_count": 12,
     "metadata": {},
     "output_type": "execute_result"
    }
   ],
   "source": [
    "# outliers percaentage:\n",
    "# len(otliers_index) / len(df1)"
   ]
  },
  {
   "cell_type": "markdown",
   "id": "69d35f70",
   "metadata": {},
   "source": [
    "Around 1.1% is outlier in this column"
   ]
  },
  {
   "cell_type": "code",
   "execution_count": 96,
   "id": "6e304454",
   "metadata": {
    "scrolled": true
   },
   "outputs": [],
   "source": [
    "#Numerical in ouliers:\n",
    "# for i in otliers_index.columns.to_list():\n",
    "#     if str(otliers_index[i].dtype) != 'object':\n",
    "#         # Print Statistics of it\n",
    "#         print(\"Descriptive Statistics is for columns {} :\\n {}\".format(i, otliers_index[i].describe()))\n",
    "#         fig, ax = plt.subplots(2,1, figsize = (10,10))\n",
    "#         ax[0].set_title(f\"Box Plot For Columns {i}\")\n",
    "#         ax[0].boxplot(otliers_index[i], vert = False, sym = \"r.\")\n",
    "#         ax[1].set_title(f\"Histogram of values for column {i}\")\n",
    "#         r = ax[1].hist(otliers_index[i], histtype = \"bar\")\n",
    "#         plt.show()"
   ]
  },
  {
   "cell_type": "markdown",
   "id": "35c0fcf1",
   "metadata": {},
   "source": [
    "So nothing is strange in numerical analysis for outliers in Age Column, it's nearly idenical to the origial distibutions, so now its time to investigate categorical ones."
   ]
  },
  {
   "cell_type": "code",
   "execution_count": 97,
   "id": "f3ef3f4c",
   "metadata": {
    "scrolled": true
   },
   "outputs": [],
   "source": [
    "# Calculating Value Counts:\n",
    "# for i in otliers_index.columns.to_list():\n",
    "#     if str(otliers_index[i].dtype) == 'object':\n",
    "#         print(f\" ============ Categorical Columns {i} ===========\")\n",
    "# #         print(f\" ============ Unique Values ===========\")\n",
    "# #         print(df1[i].unique())\n",
    "#         print(f\" ============ Value Counts ===========\")\n",
    "#         print(otliers_index[i].value_counts())"
   ]
  },
  {
   "cell_type": "code",
   "execution_count": 98,
   "id": "e1e782e3",
   "metadata": {},
   "outputs": [],
   "source": [
    "#nvesitagting catigorical columns:\n",
    "# # Unkowns of job:\n",
    "# job_nan = df1[df1[\"job\"] == \"unknown\"].reset_index().drop(columns = [\"index\"])"
   ]
  },
  {
   "cell_type": "code",
   "execution_count": 99,
   "id": "06737104",
   "metadata": {
    "scrolled": true
   },
   "outputs": [],
   "source": [
    "# #Numerical values:\n",
    "# for i in job_nan.columns.to_list():\n",
    "#     if str(job_nan[i].dtype) != 'object':\n",
    "#         # Print Statistics of it\n",
    "#         print(\"Descriptive Statistics is for columns {} :\\n {}\".format(i, job_nan[i].describe()))\n",
    "#         fig, ax = plt.subplots(2,1, figsize = (10,10))\n",
    "#         ax[0].set_title(f\"Box Plot For Columns {i}\")\n",
    "#         ax[0].boxplot(job_nan[i], vert = False, sym = \"r.\")\n",
    "#         ax[1].set_title(f\"Histogram of values for column {i}\")\n",
    "#         r = ax[1].hist(job_nan[i], histtype = \"bar\")\n",
    "#         plt.show()"
   ]
  },
  {
   "cell_type": "markdown",
   "id": "cebca909",
   "metadata": {},
   "source": [
    "### Some Insights from here:\n",
    "- For those who we don't know about their job, the duration of the last call lasted between (0 and 500 seconds).\n",
    "- it appears that the bank called the clients more than one in this campagin.\n",
    "- it appears that for this campaign, most of those people was not contacted before as the number of 999 means that. (pdys column)\n",
    "- the last note obviuosly that in the previuos column also most of the values are 0, which means that there was not contact before this campaign.\n",
    "- for the employment variation rate, it shows that most of the values are more than 0 and less than 2."
   ]
  },
  {
   "cell_type": "code",
   "execution_count": 148,
   "id": "f783c34f",
   "metadata": {},
   "outputs": [],
   "source": [
    "# Feature Engineering Ideas:\n",
    "# - Adding Age Stage instead of ages values. (Cone)\n",
    "# - Column indicates highly repeated calls for clients. (from campaign column)\n",
    "# - Add Quarter Column (Done)\n",
    "# - Bin the column which has a disrete distribution.\n",
    "# - Changing the Yes or no to 1 and 0 and unknown to NaN (Done)\n",
    "# - Impute the NaN (Done)\n",
    "# - Change educational level to (0 => Ilitreate, 1=> Basic 4y, 2=> basic 6Y, 3=> Basic 9y,\n",
    "#   4 => High scool, 5 => University degree, 6=> Professional course, NaA => Unknown ) (Done)\n",
    "# - Deal With the imbalanced labels.\n",
    "# - add columns to indicate Before 2008 economic depression and after depression\n",
    "# - Is this is the client's first call?"
   ]
  }
 ],
 "metadata": {
  "kernelspec": {
   "display_name": "Python 3 (ipykernel)",
   "language": "python",
   "name": "python3"
  },
  "language_info": {
   "codemirror_mode": {
    "name": "ipython",
    "version": 3
   },
   "file_extension": ".py",
   "mimetype": "text/x-python",
   "name": "python",
   "nbconvert_exporter": "python",
   "pygments_lexer": "ipython3",
   "version": "3.8.12"
  }
 },
 "nbformat": 4,
 "nbformat_minor": 5
}
