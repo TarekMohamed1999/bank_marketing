{
 "cells": [
  {
   "cell_type": "markdown",
   "id": "04d47c28",
   "metadata": {},
   "source": [
    "# Modeling"
   ]
  },
  {
   "cell_type": "code",
   "execution_count": 3,
   "id": "a65bd596",
   "metadata": {},
   "outputs": [],
   "source": [
    "import pandas as pd\n",
    "import numpy as np\n",
    "import sklearn\n",
    "import matplotlib.pyplot as plt\n",
    "import seaborn as sns\n",
    "import warnings\n",
    "warnings.filterwarnings(\"ignore\")"
   ]
  },
  {
   "cell_type": "code",
   "execution_count": 4,
   "id": "23ad4d77",
   "metadata": {},
   "outputs": [],
   "source": [
    "df = pd.read_csv(\"final_data.csv\")"
   ]
  },
  {
   "cell_type": "markdown",
   "id": "8990e106",
   "metadata": {},
   "source": [
    "From Our Analysis we see that, the best ,models to choose will be SVM, RF, GradientBoost Classifier because the data are relatively small so we may not need DL methods, also using a logistic regression are almost useless as most of the realtions are not linearly separated."
   ]
  },
  {
   "cell_type": "code",
   "execution_count": 6,
   "id": "dec3ecad",
   "metadata": {},
   "outputs": [],
   "source": [
    "from sklearn.svm import SVC\n",
    "from sklearn.model_selection import train_test_split\n",
    "from sklearn.preprocessing import MinMaxScaler\n",
    "from sklearn.metrics import precision_score\n",
    "from sklearn.metrics import precision_recall_curve\n",
    "from sklearn.metrics import confusion_matrix\n",
    "from sklearn.ensemble import RandomForestClassifier\n",
    "from sklearn.ensemble import GradientBoostingClassifier\n",
    "from sklearn.tree import DecisionTreeClassifier"
   ]
  },
  {
   "cell_type": "code",
   "execution_count": 7,
   "id": "5660c4d2",
   "metadata": {},
   "outputs": [],
   "source": [
    "from sklearn.model_selection import cross_val_score, GridSearchCV"
   ]
  },
  {
   "cell_type": "code",
   "execution_count": 14,
   "id": "bb5be7ef",
   "metadata": {},
   "outputs": [],
   "source": [
    "from sklearn.preprocessing import LabelEncoder"
   ]
  },
  {
   "cell_type": "markdown",
   "id": "4f1acbe6",
   "metadata": {},
   "source": [
    "# Preprocessing:"
   ]
  },
  {
   "cell_type": "markdown",
   "id": "7d8646eb",
   "metadata": {},
   "source": [
    "### Binary Encoding:"
   ]
  },
  {
   "cell_type": "code",
   "execution_count": 23,
   "id": "517303e5",
   "metadata": {},
   "outputs": [
    {
     "data": {
      "text/html": [
       "<div>\n",
       "<style scoped>\n",
       "    .dataframe tbody tr th:only-of-type {\n",
       "        vertical-align: middle;\n",
       "    }\n",
       "\n",
       "    .dataframe tbody tr th {\n",
       "        vertical-align: top;\n",
       "    }\n",
       "\n",
       "    .dataframe thead th {\n",
       "        text-align: right;\n",
       "    }\n",
       "</style>\n",
       "<table border=\"1\" class=\"dataframe\">\n",
       "  <thead>\n",
       "    <tr style=\"text-align: right;\">\n",
       "      <th></th>\n",
       "      <th>campaign</th>\n",
       "      <th>previous</th>\n",
       "      <th>poutcome</th>\n",
       "      <th>y</th>\n",
       "      <th>quarter</th>\n",
       "      <th>year</th>\n",
       "      <th>euriborQ</th>\n",
       "      <th>cons_confi_Q</th>\n",
       "      <th>cons_price_Q</th>\n",
       "      <th>emp_var_Q</th>\n",
       "      <th>...</th>\n",
       "      <th>job_1</th>\n",
       "      <th>job_2</th>\n",
       "      <th>job_3</th>\n",
       "      <th>marital_0</th>\n",
       "      <th>marital_1</th>\n",
       "      <th>contact_0</th>\n",
       "      <th>contact_1</th>\n",
       "      <th>age_level_0</th>\n",
       "      <th>age_level_1</th>\n",
       "      <th>age_level_2</th>\n",
       "    </tr>\n",
       "  </thead>\n",
       "  <tbody>\n",
       "    <tr>\n",
       "      <th>0</th>\n",
       "      <td>1</td>\n",
       "      <td>1</td>\n",
       "      <td>3.0</td>\n",
       "      <td>0</td>\n",
       "      <td>4</td>\n",
       "      <td>2008</td>\n",
       "      <td>4.12961</td>\n",
       "      <td>-41.970893</td>\n",
       "      <td>93.210879</td>\n",
       "      <td>-0.1</td>\n",
       "      <td>...</td>\n",
       "      <td>0</td>\n",
       "      <td>0</td>\n",
       "      <td>1</td>\n",
       "      <td>0</td>\n",
       "      <td>1</td>\n",
       "      <td>0</td>\n",
       "      <td>1</td>\n",
       "      <td>0</td>\n",
       "      <td>0</td>\n",
       "      <td>1</td>\n",
       "    </tr>\n",
       "    <tr>\n",
       "      <th>1</th>\n",
       "      <td>1</td>\n",
       "      <td>1</td>\n",
       "      <td>3.0</td>\n",
       "      <td>1</td>\n",
       "      <td>4</td>\n",
       "      <td>2008</td>\n",
       "      <td>4.12961</td>\n",
       "      <td>-41.970893</td>\n",
       "      <td>93.210879</td>\n",
       "      <td>-0.1</td>\n",
       "      <td>...</td>\n",
       "      <td>0</td>\n",
       "      <td>1</td>\n",
       "      <td>0</td>\n",
       "      <td>1</td>\n",
       "      <td>0</td>\n",
       "      <td>0</td>\n",
       "      <td>1</td>\n",
       "      <td>0</td>\n",
       "      <td>0</td>\n",
       "      <td>1</td>\n",
       "    </tr>\n",
       "    <tr>\n",
       "      <th>2</th>\n",
       "      <td>1</td>\n",
       "      <td>1</td>\n",
       "      <td>3.0</td>\n",
       "      <td>0</td>\n",
       "      <td>4</td>\n",
       "      <td>2008</td>\n",
       "      <td>4.12961</td>\n",
       "      <td>-41.970893</td>\n",
       "      <td>93.210879</td>\n",
       "      <td>-0.1</td>\n",
       "      <td>...</td>\n",
       "      <td>0</td>\n",
       "      <td>1</td>\n",
       "      <td>1</td>\n",
       "      <td>1</td>\n",
       "      <td>0</td>\n",
       "      <td>0</td>\n",
       "      <td>1</td>\n",
       "      <td>0</td>\n",
       "      <td>0</td>\n",
       "      <td>1</td>\n",
       "    </tr>\n",
       "    <tr>\n",
       "      <th>3</th>\n",
       "      <td>1</td>\n",
       "      <td>1</td>\n",
       "      <td>3.0</td>\n",
       "      <td>1</td>\n",
       "      <td>4</td>\n",
       "      <td>2008</td>\n",
       "      <td>4.12961</td>\n",
       "      <td>-41.970893</td>\n",
       "      <td>93.210879</td>\n",
       "      <td>-0.1</td>\n",
       "      <td>...</td>\n",
       "      <td>0</td>\n",
       "      <td>1</td>\n",
       "      <td>1</td>\n",
       "      <td>1</td>\n",
       "      <td>0</td>\n",
       "      <td>0</td>\n",
       "      <td>1</td>\n",
       "      <td>0</td>\n",
       "      <td>0</td>\n",
       "      <td>1</td>\n",
       "    </tr>\n",
       "    <tr>\n",
       "      <th>4</th>\n",
       "      <td>1</td>\n",
       "      <td>1</td>\n",
       "      <td>3.0</td>\n",
       "      <td>0</td>\n",
       "      <td>4</td>\n",
       "      <td>2008</td>\n",
       "      <td>4.12961</td>\n",
       "      <td>-41.970893</td>\n",
       "      <td>93.210879</td>\n",
       "      <td>-0.1</td>\n",
       "      <td>...</td>\n",
       "      <td>0</td>\n",
       "      <td>1</td>\n",
       "      <td>1</td>\n",
       "      <td>1</td>\n",
       "      <td>0</td>\n",
       "      <td>0</td>\n",
       "      <td>1</td>\n",
       "      <td>0</td>\n",
       "      <td>0</td>\n",
       "      <td>1</td>\n",
       "    </tr>\n",
       "  </tbody>\n",
       "</table>\n",
       "<p>5 rows × 24 columns</p>\n",
       "</div>"
      ],
      "text/plain": [
       "   campaign  previous  poutcome  y  quarter  year  euriborQ  cons_confi_Q  \\\n",
       "0         1         1       3.0  0        4  2008   4.12961    -41.970893   \n",
       "1         1         1       3.0  1        4  2008   4.12961    -41.970893   \n",
       "2         1         1       3.0  0        4  2008   4.12961    -41.970893   \n",
       "3         1         1       3.0  1        4  2008   4.12961    -41.970893   \n",
       "4         1         1       3.0  0        4  2008   4.12961    -41.970893   \n",
       "\n",
       "   cons_price_Q  emp_var_Q  ...  job_1  job_2  job_3  marital_0  marital_1  \\\n",
       "0     93.210879       -0.1  ...      0      0      1          0          1   \n",
       "1     93.210879       -0.1  ...      0      1      0          1          0   \n",
       "2     93.210879       -0.1  ...      0      1      1          1          0   \n",
       "3     93.210879       -0.1  ...      0      1      1          1          0   \n",
       "4     93.210879       -0.1  ...      0      1      1          1          0   \n",
       "\n",
       "   contact_0  contact_1  age_level_0  age_level_1  age_level_2  \n",
       "0          0          1            0            0            1  \n",
       "1          0          1            0            0            1  \n",
       "2          0          1            0            0            1  \n",
       "3          0          1            0            0            1  \n",
       "4          0          1            0            0            1  \n",
       "\n",
       "[5 rows x 24 columns]"
      ]
     },
     "execution_count": 23,
     "metadata": {},
     "output_type": "execute_result"
    }
   ],
   "source": [
    "import category_encoders as ce\n",
    "\n",
    "categorical = df.select_dtypes(include = [\"object\"])\n",
    "numerical_column = df.select_dtypes(exclude = [\"object\"])\n",
    "ce_binary = ce.BinaryEncoder(cols = categorical.columns.to_list())\n",
    "\n",
    "dat=ce_binary.fit_transform(categorical,numerical_column)\n",
    "result = pd.concat([numerical_column, dat], axis=1)\n",
    "result.head()"
   ]
  },
  {
   "cell_type": "code",
   "execution_count": null,
   "id": "d1a51adb",
   "metadata": {},
   "outputs": [],
   "source": [
    "df_encoded = "
   ]
  },
  {
   "cell_type": "markdown",
   "id": "06c7f6b4",
   "metadata": {},
   "source": [
    "### Splitting Data:"
   ]
  },
  {
   "cell_type": "code",
   "execution_count": 24,
   "id": "4d410c16",
   "metadata": {},
   "outputs": [],
   "source": [
    "X_train, X_test, Y_train, Y_test = train_test_split(result.drop(columns = [\"y\"]), result[\"y\"],\n",
    "                                                    test_size = 0.1, random_state = 1)"
   ]
  },
  {
   "cell_type": "markdown",
   "id": "a9ef6676",
   "metadata": {},
   "source": [
    "### Normalization:"
   ]
  },
  {
   "cell_type": "code",
   "execution_count": 25,
   "id": "79025a00",
   "metadata": {},
   "outputs": [],
   "source": [
    "min_max = MinMaxScaler()"
   ]
  },
  {
   "cell_type": "code",
   "execution_count": 26,
   "id": "376c3e9a",
   "metadata": {},
   "outputs": [],
   "source": [
    "train_scaled = min_max.fit_transform(X_train)\n",
    "test_scaled = min_max.transform(X_test)"
   ]
  },
  {
   "cell_type": "markdown",
   "id": "03952302",
   "metadata": {},
   "source": [
    "# SVM:"
   ]
  },
  {
   "cell_type": "code",
   "execution_count": 27,
   "id": "90cebfd0",
   "metadata": {},
   "outputs": [],
   "source": [
    "svc = SVC()"
   ]
  },
  {
   "cell_type": "code",
   "execution_count": 37,
   "id": "b29d1945",
   "metadata": {},
   "outputs": [],
   "source": [
    "param_grid = {'C': [0.1,1, 10, 100],\n",
    "              'kernel': ['sigmoid']}"
   ]
  },
  {
   "cell_type": "code",
   "execution_count": 44,
   "id": "768f2ee9",
   "metadata": {},
   "outputs": [
    {
     "name": "stdout",
     "output_type": "stream",
     "text": [
      "Fitting 5 folds for each of 4 candidates, totalling 20 fits\n",
      "[CV 1/5] END .............C=0.1, kernel=sigmoid;, score=0.888 total time=  20.5s\n",
      "[CV 2/5] END .............C=0.1, kernel=sigmoid;, score=0.888 total time=  20.3s\n",
      "[CV 3/5] END .............C=0.1, kernel=sigmoid;, score=0.888 total time=  20.1s\n",
      "[CV 4/5] END .............C=0.1, kernel=sigmoid;, score=0.888 total time=  20.4s\n",
      "[CV 5/5] END .............C=0.1, kernel=sigmoid;, score=0.887 total time=  20.6s\n",
      "[CV 1/5] END ...............C=1, kernel=sigmoid;, score=0.888 total time=  21.1s\n",
      "[CV 2/5] END ...............C=1, kernel=sigmoid;, score=0.888 total time=  21.6s\n",
      "[CV 3/5] END ...............C=1, kernel=sigmoid;, score=0.888 total time=  21.3s\n",
      "[CV 4/5] END ...............C=1, kernel=sigmoid;, score=0.888 total time=  20.8s\n",
      "[CV 5/5] END ...............C=1, kernel=sigmoid;, score=0.887 total time=  20.7s\n",
      "[CV 1/5] END ..............C=10, kernel=sigmoid;, score=0.888 total time=  20.8s\n",
      "[CV 2/5] END ..............C=10, kernel=sigmoid;, score=0.888 total time=  21.0s\n",
      "[CV 3/5] END ..............C=10, kernel=sigmoid;, score=0.888 total time=  20.8s\n",
      "[CV 4/5] END ..............C=10, kernel=sigmoid;, score=0.888 total time=  21.1s\n",
      "[CV 5/5] END ..............C=10, kernel=sigmoid;, score=0.887 total time=  20.4s\n",
      "[CV 1/5] END .............C=100, kernel=sigmoid;, score=0.888 total time=  24.2s\n",
      "[CV 2/5] END .............C=100, kernel=sigmoid;, score=0.888 total time=  25.4s\n",
      "[CV 3/5] END .............C=100, kernel=sigmoid;, score=0.888 total time=  25.5s\n",
      "[CV 4/5] END .............C=100, kernel=sigmoid;, score=0.888 total time=  23.1s\n",
      "[CV 5/5] END .............C=100, kernel=sigmoid;, score=0.887 total time=  25.5s\n"
     ]
    },
    {
     "data": {
      "text/plain": [
       "GridSearchCV(estimator=SVC(),\n",
       "             param_grid={'C': [0.1, 1, 10, 100], 'kernel': ['sigmoid']},\n",
       "             verbose=4)"
      ]
     },
     "execution_count": 44,
     "metadata": {},
     "output_type": "execute_result"
    }
   ],
   "source": [
    "grid = GridSearchCV(svc,param_grid,verbose=4)\n",
    "grid.fit(X_train,Y_train)"
   ]
  },
  {
   "cell_type": "code",
   "execution_count": 55,
   "id": "5ad627df",
   "metadata": {},
   "outputs": [],
   "source": [
    "best_svm = SVC(C = 0.1, kernel = \"sigmoid\")"
   ]
  },
  {
   "cell_type": "code",
   "execution_count": 57,
   "id": "19381a0b",
   "metadata": {},
   "outputs": [
    {
     "data": {
      "text/plain": [
       "SVC(C=0.1, kernel='sigmoid')"
      ]
     },
     "execution_count": 57,
     "metadata": {},
     "output_type": "execute_result"
    }
   ],
   "source": [
    "best_svm.fit(X_train, Y_train)"
   ]
  },
  {
   "cell_type": "code",
   "execution_count": 58,
   "id": "c3df1b13",
   "metadata": {},
   "outputs": [],
   "source": [
    "svm_predict = best_svm.predict(X_test)"
   ]
  },
  {
   "cell_type": "code",
   "execution_count": 59,
   "id": "609d6269",
   "metadata": {},
   "outputs": [],
   "source": [
    "svm_confusion = confusion_matrix(Y_test, svm_predict)"
   ]
  },
  {
   "cell_type": "code",
   "execution_count": 60,
   "id": "83d303fa",
   "metadata": {},
   "outputs": [
    {
     "data": {
      "text/plain": [
       "array([[3649,    0],\n",
       "       [ 470,    0]])"
      ]
     },
     "execution_count": 60,
     "metadata": {},
     "output_type": "execute_result"
    }
   ],
   "source": [
    "svm_confusion"
   ]
  },
  {
   "cell_type": "code",
   "execution_count": 61,
   "id": "54c872ba",
   "metadata": {},
   "outputs": [],
   "source": [
    "from sklearn.metrics import ConfusionMatrixDisplay"
   ]
  },
  {
   "cell_type": "code",
   "execution_count": 66,
   "id": "4e953cec",
   "metadata": {},
   "outputs": [
    {
     "data": {
      "image/png": "[encoded data removed]",
      "text/plain": [
       "<Figure size 432x288 with 2 Axes>"
      ]
     },
     "metadata": {
      "needs_background": "light"
     },
     "output_type": "display_data"
    }
   ],
   "source": [
    "disp = ConfusionMatrixDisplay(svm_confusion)\n",
    "disp.plot()\n",
    "plt.show()"
   ]
  },
  {
   "cell_type": "markdown",
   "id": "62badc92",
   "metadata": {},
   "source": [
    "# RF:"
   ]
  },
  {
   "cell_type": "code",
   "execution_count": 45,
   "id": "89502df9",
   "metadata": {},
   "outputs": [],
   "source": [
    "RF = RandomForestClassifier()"
   ]
  },
  {
   "cell_type": "code",
   "execution_count": 46,
   "id": "7e83045e",
   "metadata": {},
   "outputs": [],
   "source": [
    "param_grid = {'n_estimators': [1, 5, 10, 20],\n",
    "              'max_depth': [1, 10, 50]}"
   ]
  },
  {
   "cell_type": "code",
   "execution_count": 47,
   "id": "936c6527",
   "metadata": {},
   "outputs": [
    {
     "name": "stdout",
     "output_type": "stream",
     "text": [
      "Fitting 5 folds for each of 12 candidates, totalling 60 fits\n",
      "[CV 1/5] END .......max_depth=1, n_estimators=1;, score=0.888 total time=   0.0s\n",
      "[CV 2/5] END .......max_depth=1, n_estimators=1;, score=0.888 total time=   0.0s\n",
      "[CV 3/5] END .......max_depth=1, n_estimators=1;, score=0.888 total time=   0.0s\n",
      "[CV 4/5] END .......max_depth=1, n_estimators=1;, score=0.890 total time=   0.0s\n",
      "[CV 5/5] END .......max_depth=1, n_estimators=1;, score=0.887 total time=   0.0s\n",
      "[CV 1/5] END .......max_depth=1, n_estimators=5;, score=0.888 total time=   0.0s\n",
      "[CV 2/5] END .......max_depth=1, n_estimators=5;, score=0.888 total time=   0.0s\n",
      "[CV 3/5] END .......max_depth=1, n_estimators=5;, score=0.888 total time=   0.0s\n",
      "[CV 4/5] END .......max_depth=1, n_estimators=5;, score=0.888 total time=   0.0s\n",
      "[CV 5/5] END .......max_depth=1, n_estimators=5;, score=0.887 total time=   0.0s\n",
      "[CV 1/5] END ......max_depth=1, n_estimators=10;, score=0.888 total time=   0.1s\n",
      "[CV 2/5] END ......max_depth=1, n_estimators=10;, score=0.888 total time=   0.1s\n",
      "[CV 3/5] END ......max_depth=1, n_estimators=10;, score=0.888 total time=   0.1s\n",
      "[CV 4/5] END ......max_depth=1, n_estimators=10;, score=0.888 total time=   0.1s\n",
      "[CV 5/5] END ......max_depth=1, n_estimators=10;, score=0.887 total time=   0.1s\n",
      "[CV 1/5] END ......max_depth=1, n_estimators=20;, score=0.888 total time=   0.1s\n",
      "[CV 2/5] END ......max_depth=1, n_estimators=20;, score=0.888 total time=   0.1s\n",
      "[CV 3/5] END ......max_depth=1, n_estimators=20;, score=0.888 total time=   0.1s\n",
      "[CV 4/5] END ......max_depth=1, n_estimators=20;, score=0.888 total time=   0.1s\n",
      "[CV 5/5] END ......max_depth=1, n_estimators=20;, score=0.887 total time=   0.1s\n",
      "[CV 1/5] END ......max_depth=10, n_estimators=1;, score=0.890 total time=   0.0s\n",
      "[CV 2/5] END ......max_depth=10, n_estimators=1;, score=0.891 total time=   0.0s\n",
      "[CV 3/5] END ......max_depth=10, n_estimators=1;, score=0.885 total time=   0.0s\n",
      "[CV 4/5] END ......max_depth=10, n_estimators=1;, score=0.894 total time=   0.0s\n",
      "[CV 5/5] END ......max_depth=10, n_estimators=1;, score=0.887 total time=   0.0s\n",
      "[CV 1/5] END ......max_depth=10, n_estimators=5;, score=0.891 total time=   0.1s\n",
      "[CV 2/5] END ......max_depth=10, n_estimators=5;, score=0.891 total time=   0.1s\n",
      "[CV 3/5] END ......max_depth=10, n_estimators=5;, score=0.893 total time=   0.1s\n",
      "[CV 4/5] END ......max_depth=10, n_estimators=5;, score=0.890 total time=   0.1s\n",
      "[CV 5/5] END ......max_depth=10, n_estimators=5;, score=0.889 total time=   0.1s\n",
      "[CV 1/5] END .....max_depth=10, n_estimators=10;, score=0.890 total time=   0.1s\n",
      "[CV 2/5] END .....max_depth=10, n_estimators=10;, score=0.893 total time=   0.1s\n",
      "[CV 3/5] END .....max_depth=10, n_estimators=10;, score=0.893 total time=   0.1s\n",
      "[CV 4/5] END .....max_depth=10, n_estimators=10;, score=0.896 total time=   0.1s\n",
      "[CV 5/5] END .....max_depth=10, n_estimators=10;, score=0.890 total time=   0.1s\n",
      "[CV 1/5] END .....max_depth=10, n_estimators=20;, score=0.892 total time=   0.2s\n",
      "[CV 2/5] END .....max_depth=10, n_estimators=20;, score=0.893 total time=   0.3s\n",
      "[CV 3/5] END .....max_depth=10, n_estimators=20;, score=0.895 total time=   0.3s\n",
      "[CV 4/5] END .....max_depth=10, n_estimators=20;, score=0.893 total time=   0.3s\n",
      "[CV 5/5] END .....max_depth=10, n_estimators=20;, score=0.888 total time=   0.3s\n",
      "[CV 1/5] END ......max_depth=50, n_estimators=1;, score=0.880 total time=   0.0s\n",
      "[CV 2/5] END ......max_depth=50, n_estimators=1;, score=0.876 total time=   0.0s\n",
      "[CV 3/5] END ......max_depth=50, n_estimators=1;, score=0.881 total time=   0.0s\n",
      "[CV 4/5] END ......max_depth=50, n_estimators=1;, score=0.881 total time=   0.0s\n",
      "[CV 5/5] END ......max_depth=50, n_estimators=1;, score=0.872 total time=   0.0s\n",
      "[CV 1/5] END ......max_depth=50, n_estimators=5;, score=0.885 total time=   0.1s\n",
      "[CV 2/5] END ......max_depth=50, n_estimators=5;, score=0.881 total time=   0.1s\n",
      "[CV 3/5] END ......max_depth=50, n_estimators=5;, score=0.885 total time=   0.1s\n",
      "[CV 4/5] END ......max_depth=50, n_estimators=5;, score=0.883 total time=   0.1s\n",
      "[CV 5/5] END ......max_depth=50, n_estimators=5;, score=0.879 total time=   0.1s\n",
      "[CV 1/5] END .....max_depth=50, n_estimators=10;, score=0.884 total time=   0.2s\n",
      "[CV 2/5] END .....max_depth=50, n_estimators=10;, score=0.883 total time=   0.2s\n",
      "[CV 3/5] END .....max_depth=50, n_estimators=10;, score=0.887 total time=   0.2s\n",
      "[CV 4/5] END .....max_depth=50, n_estimators=10;, score=0.885 total time=   0.2s\n",
      "[CV 5/5] END .....max_depth=50, n_estimators=10;, score=0.879 total time=   0.2s\n",
      "[CV 1/5] END .....max_depth=50, n_estimators=20;, score=0.886 total time=   0.3s\n",
      "[CV 2/5] END .....max_depth=50, n_estimators=20;, score=0.881 total time=   0.4s\n",
      "[CV 3/5] END .....max_depth=50, n_estimators=20;, score=0.887 total time=   0.3s\n",
      "[CV 4/5] END .....max_depth=50, n_estimators=20;, score=0.884 total time=   0.3s\n",
      "[CV 5/5] END .....max_depth=50, n_estimators=20;, score=0.878 total time=   0.3s\n"
     ]
    },
    {
     "data": {
      "text/plain": [
       "GridSearchCV(estimator=RandomForestClassifier(),\n",
       "             param_grid={'max_depth': [1, 10, 50],\n",
       "                         'n_estimators': [1, 5, 10, 20]},\n",
       "             verbose=4)"
      ]
     },
     "execution_count": 47,
     "metadata": {},
     "output_type": "execute_result"
    }
   ],
   "source": [
    "grid = GridSearchCV(RF,param_grid,verbose=4)\n",
    "grid.fit(X_train,Y_train)"
   ]
  },
  {
   "cell_type": "code",
   "execution_count": 67,
   "id": "ff7a78da",
   "metadata": {},
   "outputs": [],
   "source": [
    "best_RF = RandomForestClassifier(max_depth = 10, n_estimators = 20)"
   ]
  },
  {
   "cell_type": "code",
   "execution_count": 68,
   "id": "37c84e3a",
   "metadata": {},
   "outputs": [
    {
     "data": {
      "text/plain": [
       "RandomForestClassifier(max_depth=10, n_estimators=20)"
      ]
     },
     "execution_count": 68,
     "metadata": {},
     "output_type": "execute_result"
    }
   ],
   "source": [
    "best_RF.fit(X_train, Y_train)"
   ]
  },
  {
   "cell_type": "code",
   "execution_count": 70,
   "id": "a04c5d42",
   "metadata": {},
   "outputs": [],
   "source": [
    "RF_predict = best_RF.predict(X_test)"
   ]
  },
  {
   "cell_type": "code",
   "execution_count": 71,
   "id": "89a71f7f",
   "metadata": {},
   "outputs": [
    {
     "data": {
      "image/png": "[encoded data removed]",
      "text/plain": [
       "<Figure size 432x288 with 2 Axes>"
      ]
     },
     "metadata": {
      "needs_background": "light"
     },
     "output_type": "display_data"
    }
   ],
   "source": [
    "RF_confusion = confusion_matrix(Y_test, RF_predict)\n",
    "disp = ConfusionMatrixDisplay(RF_confusion)\n",
    "disp.plot()\n",
    "plt.show()"
   ]
  },
  {
   "cell_type": "markdown",
   "id": "6ba61e9e",
   "metadata": {},
   "source": [
    "# Gradient Boosting Calssifier:"
   ]
  },
  {
   "cell_type": "code",
   "execution_count": 49,
   "id": "9080d3cf",
   "metadata": {},
   "outputs": [],
   "source": [
    "GBC = GradientBoostingClassifier()"
   ]
  },
  {
   "cell_type": "code",
   "execution_count": 53,
   "id": "9b124ef8",
   "metadata": {},
   "outputs": [],
   "source": [
    "param_grid = {'n_estimators': [1, 5, 10, 20],\n",
    "              'learning_rate': [0.001, 0.01, 0.1, 1]}"
   ]
  },
  {
   "cell_type": "code",
   "execution_count": 54,
   "id": "0993568b",
   "metadata": {},
   "outputs": [
    {
     "name": "stdout",
     "output_type": "stream",
     "text": [
      "Fitting 5 folds for each of 16 candidates, totalling 80 fits\n",
      "[CV 1/5] END learning_rate=0.001, n_estimators=1;, score=0.888 total time=   0.1s\n",
      "[CV 2/5] END learning_rate=0.001, n_estimators=1;, score=0.888 total time=   0.0s\n",
      "[CV 3/5] END learning_rate=0.001, n_estimators=1;, score=0.888 total time=   0.0s\n",
      "[CV 4/5] END learning_rate=0.001, n_estimators=1;, score=0.888 total time=   0.0s\n",
      "[CV 5/5] END learning_rate=0.001, n_estimators=1;, score=0.887 total time=   0.0s\n",
      "[CV 1/5] END learning_rate=0.001, n_estimators=5;, score=0.888 total time=   0.1s\n",
      "[CV 2/5] END learning_rate=0.001, n_estimators=5;, score=0.888 total time=   0.1s\n",
      "[CV 3/5] END learning_rate=0.001, n_estimators=5;, score=0.888 total time=   0.1s\n",
      "[CV 4/5] END learning_rate=0.001, n_estimators=5;, score=0.888 total time=   0.1s\n",
      "[CV 5/5] END learning_rate=0.001, n_estimators=5;, score=0.887 total time=   0.1s\n",
      "[CV 1/5] END learning_rate=0.001, n_estimators=10;, score=0.888 total time=   0.2s\n",
      "[CV 2/5] END learning_rate=0.001, n_estimators=10;, score=0.888 total time=   0.2s\n",
      "[CV 3/5] END learning_rate=0.001, n_estimators=10;, score=0.888 total time=   0.2s\n",
      "[CV 4/5] END learning_rate=0.001, n_estimators=10;, score=0.888 total time=   0.2s\n",
      "[CV 5/5] END learning_rate=0.001, n_estimators=10;, score=0.887 total time=   0.2s\n",
      "[CV 1/5] END learning_rate=0.001, n_estimators=20;, score=0.888 total time=   0.4s\n",
      "[CV 2/5] END learning_rate=0.001, n_estimators=20;, score=0.888 total time=   0.4s\n",
      "[CV 3/5] END learning_rate=0.001, n_estimators=20;, score=0.888 total time=   0.4s\n",
      "[CV 4/5] END learning_rate=0.001, n_estimators=20;, score=0.888 total time=   0.5s\n",
      "[CV 5/5] END learning_rate=0.001, n_estimators=20;, score=0.887 total time=   0.4s\n",
      "[CV 1/5] END learning_rate=0.01, n_estimators=1;, score=0.888 total time=   0.0s\n",
      "[CV 2/5] END learning_rate=0.01, n_estimators=1;, score=0.888 total time=   0.0s\n",
      "[CV 3/5] END learning_rate=0.01, n_estimators=1;, score=0.888 total time=   0.0s\n",
      "[CV 4/5] END learning_rate=0.01, n_estimators=1;, score=0.888 total time=   0.0s\n",
      "[CV 5/5] END learning_rate=0.01, n_estimators=1;, score=0.887 total time=   0.0s\n",
      "[CV 1/5] END learning_rate=0.01, n_estimators=5;, score=0.888 total time=   0.1s\n",
      "[CV 2/5] END learning_rate=0.01, n_estimators=5;, score=0.888 total time=   0.1s\n",
      "[CV 3/5] END learning_rate=0.01, n_estimators=5;, score=0.888 total time=   0.1s\n",
      "[CV 4/5] END learning_rate=0.01, n_estimators=5;, score=0.888 total time=   0.1s\n",
      "[CV 5/5] END learning_rate=0.01, n_estimators=5;, score=0.887 total time=   0.1s\n",
      "[CV 1/5] END learning_rate=0.01, n_estimators=10;, score=0.888 total time=   0.2s\n",
      "[CV 2/5] END learning_rate=0.01, n_estimators=10;, score=0.888 total time=   0.2s\n",
      "[CV 3/5] END learning_rate=0.01, n_estimators=10;, score=0.888 total time=   0.2s\n",
      "[CV 4/5] END learning_rate=0.01, n_estimators=10;, score=0.888 total time=   0.2s\n",
      "[CV 5/5] END learning_rate=0.01, n_estimators=10;, score=0.887 total time=   0.2s\n",
      "[CV 1/5] END learning_rate=0.01, n_estimators=20;, score=0.888 total time=   0.4s\n",
      "[CV 2/5] END learning_rate=0.01, n_estimators=20;, score=0.888 total time=   0.4s\n",
      "[CV 3/5] END learning_rate=0.01, n_estimators=20;, score=0.888 total time=   0.4s\n",
      "[CV 4/5] END learning_rate=0.01, n_estimators=20;, score=0.888 total time=   0.5s\n",
      "[CV 5/5] END learning_rate=0.01, n_estimators=20;, score=0.887 total time=   0.4s\n",
      "[CV 1/5] END .learning_rate=0.1, n_estimators=1;, score=0.888 total time=   0.0s\n",
      "[CV 2/5] END .learning_rate=0.1, n_estimators=1;, score=0.888 total time=   0.0s\n",
      "[CV 3/5] END .learning_rate=0.1, n_estimators=1;, score=0.888 total time=   0.0s\n",
      "[CV 4/5] END .learning_rate=0.1, n_estimators=1;, score=0.888 total time=   0.0s\n",
      "[CV 5/5] END .learning_rate=0.1, n_estimators=1;, score=0.887 total time=   0.0s\n",
      "[CV 1/5] END .learning_rate=0.1, n_estimators=5;, score=0.888 total time=   0.1s\n",
      "[CV 2/5] END .learning_rate=0.1, n_estimators=5;, score=0.888 total time=   0.1s\n",
      "[CV 3/5] END .learning_rate=0.1, n_estimators=5;, score=0.888 total time=   0.1s\n",
      "[CV 4/5] END .learning_rate=0.1, n_estimators=5;, score=0.888 total time=   0.1s\n",
      "[CV 5/5] END .learning_rate=0.1, n_estimators=5;, score=0.887 total time=   0.1s\n",
      "[CV 1/5] END learning_rate=0.1, n_estimators=10;, score=0.888 total time=   0.2s\n",
      "[CV 2/5] END learning_rate=0.1, n_estimators=10;, score=0.888 total time=   0.2s\n",
      "[CV 3/5] END learning_rate=0.1, n_estimators=10;, score=0.888 total time=   0.2s\n",
      "[CV 4/5] END learning_rate=0.1, n_estimators=10;, score=0.888 total time=   0.2s\n",
      "[CV 5/5] END learning_rate=0.1, n_estimators=10;, score=0.887 total time=   0.2s\n",
      "[CV 1/5] END learning_rate=0.1, n_estimators=20;, score=0.892 total time=   0.4s\n",
      "[CV 2/5] END learning_rate=0.1, n_estimators=20;, score=0.893 total time=   0.4s\n",
      "[CV 3/5] END learning_rate=0.1, n_estimators=20;, score=0.892 total time=   0.4s\n",
      "[CV 4/5] END learning_rate=0.1, n_estimators=20;, score=0.889 total time=   0.4s\n",
      "[CV 5/5] END learning_rate=0.1, n_estimators=20;, score=0.890 total time=   0.4s\n",
      "[CV 1/5] END ...learning_rate=1, n_estimators=1;, score=0.880 total time=   0.0s\n",
      "[CV 2/5] END ...learning_rate=1, n_estimators=1;, score=0.879 total time=   0.0s\n",
      "[CV 3/5] END ...learning_rate=1, n_estimators=1;, score=0.884 total time=   0.0s\n",
      "[CV 4/5] END ...learning_rate=1, n_estimators=1;, score=0.879 total time=   0.0s\n",
      "[CV 5/5] END ...learning_rate=1, n_estimators=1;, score=0.877 total time=   0.0s\n",
      "[CV 1/5] END ...learning_rate=1, n_estimators=5;, score=0.891 total time=   0.1s\n",
      "[CV 2/5] END ...learning_rate=1, n_estimators=5;, score=0.891 total time=   0.1s\n",
      "[CV 3/5] END ...learning_rate=1, n_estimators=5;, score=0.894 total time=   0.1s\n",
      "[CV 4/5] END ...learning_rate=1, n_estimators=5;, score=0.893 total time=   0.1s\n",
      "[CV 5/5] END ...learning_rate=1, n_estimators=5;, score=0.890 total time=   0.1s\n",
      "[CV 1/5] END ..learning_rate=1, n_estimators=10;, score=0.890 total time=   0.2s\n",
      "[CV 2/5] END ..learning_rate=1, n_estimators=10;, score=0.892 total time=   0.2s\n",
      "[CV 3/5] END ..learning_rate=1, n_estimators=10;, score=0.893 total time=   0.2s\n",
      "[CV 4/5] END ..learning_rate=1, n_estimators=10;, score=0.892 total time=   0.2s\n",
      "[CV 5/5] END ..learning_rate=1, n_estimators=10;, score=0.887 total time=   0.2s\n",
      "[CV 1/5] END ..learning_rate=1, n_estimators=20;, score=0.891 total time=   0.4s\n",
      "[CV 2/5] END ..learning_rate=1, n_estimators=20;, score=0.890 total time=   0.4s\n",
      "[CV 3/5] END ..learning_rate=1, n_estimators=20;, score=0.895 total time=   0.5s\n",
      "[CV 4/5] END ..learning_rate=1, n_estimators=20;, score=0.895 total time=   0.4s\n",
      "[CV 5/5] END ..learning_rate=1, n_estimators=20;, score=0.888 total time=   0.4s\n"
     ]
    },
    {
     "data": {
      "text/plain": [
       "GridSearchCV(estimator=GradientBoostingClassifier(),\n",
       "             param_grid={'learning_rate': [0.001, 0.01, 0.1, 1],\n",
       "                         'n_estimators': [1, 5, 10, 20]},\n",
       "             verbose=4)"
      ]
     },
     "execution_count": 54,
     "metadata": {},
     "output_type": "execute_result"
    }
   ],
   "source": [
    "grid = GridSearchCV(GBC,param_grid,verbose=4)\n",
    "grid.fit(X_train,Y_train)"
   ]
  },
  {
   "cell_type": "code",
   "execution_count": 72,
   "id": "1f5df472",
   "metadata": {},
   "outputs": [],
   "source": [
    "best_GBC = GradientBoostingClassifier(n_estimators = 20, learning_rate = 0.1)"
   ]
  },
  {
   "cell_type": "code",
   "execution_count": 73,
   "id": "be218079",
   "metadata": {},
   "outputs": [
    {
     "data": {
      "text/plain": [
       "GradientBoostingClassifier(n_estimators=20)"
      ]
     },
     "execution_count": 73,
     "metadata": {},
     "output_type": "execute_result"
    }
   ],
   "source": [
    "best_GBC.fit(X_train, Y_train)"
   ]
  },
  {
   "cell_type": "code",
   "execution_count": 75,
   "id": "856302db",
   "metadata": {},
   "outputs": [],
   "source": [
    "GBC_predict = best_GBC.predict(X_test)"
   ]
  },
  {
   "cell_type": "code",
   "execution_count": 76,
   "id": "bfe7b0be",
   "metadata": {},
   "outputs": [
    {
     "data": {
      "image/png": "[encoded data removed]",
      "text/plain": [
       "<Figure size 432x288 with 2 Axes>"
      ]
     },
     "metadata": {
      "needs_background": "light"
     },
     "output_type": "display_data"
    }
   ],
   "source": [
    "GBC_confusion = confusion_matrix(Y_test, GBC_predict)\n",
    "disp = ConfusionMatrixDisplay(GBC_confusion)\n",
    "disp.plot()\n",
    "plt.show()"
   ]
  },
  {
   "cell_type": "markdown",
   "id": "277e0a6f",
   "metadata": {},
   "source": [
    "# Unnblanced Data:"
   ]
  },
  {
   "cell_type": "markdown",
   "id": "c619e6fe",
   "metadata": {},
   "source": [
    "Here We Can see that all models suffers from the unbalnaced data, so we have to deal with the unbalnced data."
   ]
  },
  {
   "cell_type": "code",
   "execution_count": 77,
   "id": "b76b8d9e",
   "metadata": {},
   "outputs": [
    {
     "data": {
      "text/plain": [
       "0    3649\n",
       "1     470\n",
       "Name: y, dtype: int64"
      ]
     },
     "execution_count": 77,
     "metadata": {},
     "output_type": "execute_result"
    }
   ],
   "source": [
    "Y_test.value_counts()"
   ]
  },
  {
   "cell_type": "markdown",
   "id": "5346e8c4",
   "metadata": {},
   "source": [
    "# SMOTE Algorithm:"
   ]
  },
  {
   "cell_type": "code",
   "execution_count": 78,
   "id": "eb30059b",
   "metadata": {},
   "outputs": [],
   "source": [
    "from collections import Counter\n",
    "from imblearn.over_sampling import SMOTE"
   ]
  },
  {
   "cell_type": "code",
   "execution_count": 79,
   "id": "c097350c",
   "metadata": {},
   "outputs": [],
   "source": [
    "counts = Counter(df[\"y\"])"
   ]
  },
  {
   "cell_type": "code",
   "execution_count": 81,
   "id": "8027a72b",
   "metadata": {},
   "outputs": [
    {
     "name": "stdout",
     "output_type": "stream",
     "text": [
      "Counter({0: 36548, 1: 4640})\n"
     ]
    }
   ],
   "source": [
    "print(counts)"
   ]
  },
  {
   "cell_type": "code",
   "execution_count": 82,
   "id": "f8a248b0",
   "metadata": {},
   "outputs": [],
   "source": [
    "oversample = SMOTE()"
   ]
  },
  {
   "cell_type": "code",
   "execution_count": 85,
   "id": "bf7d99d9",
   "metadata": {},
   "outputs": [],
   "source": [
    "X, y = oversample.fit_resample(result.drop(columns = [\"y\"]), result[\"y\"])"
   ]
  },
  {
   "cell_type": "code",
   "execution_count": 86,
   "id": "44e82f4d",
   "metadata": {},
   "outputs": [],
   "source": [
    "counts = Counter(y)"
   ]
  },
  {
   "cell_type": "code",
   "execution_count": 87,
   "id": "af4b772d",
   "metadata": {},
   "outputs": [
    {
     "name": "stdout",
     "output_type": "stream",
     "text": [
      "Counter({0: 36548, 1: 36548})\n"
     ]
    }
   ],
   "source": [
    "print(counts)"
   ]
  },
  {
   "cell_type": "markdown",
   "id": "52d879c7",
   "metadata": {},
   "source": [
    "Now let's Train Our Algorithms more:"
   ]
  },
  {
   "cell_type": "code",
   "execution_count": 89,
   "id": "d85d4788",
   "metadata": {},
   "outputs": [],
   "source": [
    "# Splittig again:\n",
    "X_train, X_test, Y_train, Y_test = train_test_split(X, y,\n",
    "                                                    test_size = 0.1, random_state = 1)"
   ]
  },
  {
   "cell_type": "code",
   "execution_count": 90,
   "id": "1ba54350",
   "metadata": {},
   "outputs": [],
   "source": [
    "#normalizing again:\n",
    "train_scaled = min_max.fit_transform(X_train)\n",
    "test_scaled = min_max.transform(X_test)"
   ]
  },
  {
   "cell_type": "code",
   "execution_count": null,
   "id": "b2102d9b",
   "metadata": {},
   "outputs": [],
   "source": [
    "#SVM:\n",
    "svc = SVC()\n",
    "param_grid = {'C': [0.1,1, 10, 100],\n",
    "              'kernel': ['sigmoid']}\n",
    "grid = GridSearchCV(svc,param_grid,verbose=4, scoring = \"f1\")\n",
    "grid.fit(train_scaled,Y_train)"
   ]
  },
  {
   "cell_type": "code",
   "execution_count": 95,
   "id": "ee315675",
   "metadata": {},
   "outputs": [
    {
     "name": "stdout",
     "output_type": "stream",
     "text": [
      "Fitting 5 folds for each of 12 candidates, totalling 60 fits\n",
      "[CV 1/5] END .......max_depth=1, n_estimators=1;, score=0.384 total time=   0.0s\n",
      "[CV 2/5] END .......max_depth=1, n_estimators=1;, score=0.714 total time=   0.0s\n",
      "[CV 3/5] END .......max_depth=1, n_estimators=1;, score=0.169 total time=   0.0s\n",
      "[CV 4/5] END .......max_depth=1, n_estimators=1;, score=0.717 total time=   0.0s\n",
      "[CV 5/5] END .......max_depth=1, n_estimators=1;, score=0.688 total time=   0.0s\n",
      "[CV 1/5] END .......max_depth=1, n_estimators=5;, score=0.715 total time=   0.1s\n",
      "[CV 2/5] END .......max_depth=1, n_estimators=5;, score=0.714 total time=   0.1s\n",
      "[CV 3/5] END .......max_depth=1, n_estimators=5;, score=0.716 total time=   0.1s\n",
      "[CV 4/5] END .......max_depth=1, n_estimators=5;, score=0.717 total time=   0.1s\n",
      "[CV 5/5] END .......max_depth=1, n_estimators=5;, score=0.699 total time=   0.1s\n",
      "[CV 1/5] END ......max_depth=1, n_estimators=10;, score=0.715 total time=   0.1s\n",
      "[CV 2/5] END ......max_depth=1, n_estimators=10;, score=0.714 total time=   0.1s\n",
      "[CV 3/5] END ......max_depth=1, n_estimators=10;, score=0.718 total time=   0.1s\n",
      "[CV 4/5] END ......max_depth=1, n_estimators=10;, score=0.717 total time=   0.1s\n",
      "[CV 5/5] END ......max_depth=1, n_estimators=10;, score=0.707 total time=   0.1s\n",
      "[CV 1/5] END ......max_depth=1, n_estimators=20;, score=0.715 total time=   0.2s\n",
      "[CV 2/5] END ......max_depth=1, n_estimators=20;, score=0.714 total time=   0.2s\n",
      "[CV 3/5] END ......max_depth=1, n_estimators=20;, score=0.717 total time=   0.2s\n",
      "[CV 4/5] END ......max_depth=1, n_estimators=20;, score=0.717 total time=   0.2s\n",
      "[CV 5/5] END ......max_depth=1, n_estimators=20;, score=0.707 total time=   0.2s\n",
      "[CV 1/5] END ......max_depth=10, n_estimators=1;, score=0.710 total time=   0.0s\n",
      "[CV 2/5] END ......max_depth=10, n_estimators=1;, score=0.730 total time=   0.0s\n",
      "[CV 3/5] END ......max_depth=10, n_estimators=1;, score=0.727 total time=   0.0s\n",
      "[CV 4/5] END ......max_depth=10, n_estimators=1;, score=0.729 total time=   0.0s\n",
      "[CV 5/5] END ......max_depth=10, n_estimators=1;, score=0.713 total time=   0.0s\n",
      "[CV 1/5] END ......max_depth=10, n_estimators=5;, score=0.734 total time=   0.1s\n",
      "[CV 2/5] END ......max_depth=10, n_estimators=5;, score=0.738 total time=   0.1s\n",
      "[CV 3/5] END ......max_depth=10, n_estimators=5;, score=0.735 total time=   0.1s\n",
      "[CV 4/5] END ......max_depth=10, n_estimators=5;, score=0.738 total time=   0.1s\n",
      "[CV 5/5] END ......max_depth=10, n_estimators=5;, score=0.729 total time=   0.1s\n",
      "[CV 1/5] END .....max_depth=10, n_estimators=10;, score=0.736 total time=   0.2s\n",
      "[CV 2/5] END .....max_depth=10, n_estimators=10;, score=0.737 total time=   0.2s\n",
      "[CV 3/5] END .....max_depth=10, n_estimators=10;, score=0.736 total time=   0.3s\n",
      "[CV 4/5] END .....max_depth=10, n_estimators=10;, score=0.738 total time=   0.2s\n",
      "[CV 5/5] END .....max_depth=10, n_estimators=10;, score=0.727 total time=   0.2s\n",
      "[CV 1/5] END .....max_depth=10, n_estimators=20;, score=0.736 total time=   0.5s\n",
      "[CV 2/5] END .....max_depth=10, n_estimators=20;, score=0.736 total time=   0.5s\n",
      "[CV 3/5] END .....max_depth=10, n_estimators=20;, score=0.738 total time=   0.5s\n",
      "[CV 4/5] END .....max_depth=10, n_estimators=20;, score=0.742 total time=   0.5s\n",
      "[CV 5/5] END .....max_depth=10, n_estimators=20;, score=0.733 total time=   0.5s\n",
      "[CV 1/5] END ......max_depth=50, n_estimators=1;, score=0.754 total time=   0.0s\n",
      "[CV 2/5] END ......max_depth=50, n_estimators=1;, score=0.765 total time=   0.0s\n",
      "[CV 3/5] END ......max_depth=50, n_estimators=1;, score=0.754 total time=   0.0s\n",
      "[CV 4/5] END ......max_depth=50, n_estimators=1;, score=0.761 total time=   0.0s\n",
      "[CV 5/5] END ......max_depth=50, n_estimators=1;, score=0.746 total time=   0.0s\n",
      "[CV 1/5] END ......max_depth=50, n_estimators=5;, score=0.769 total time=   0.2s\n",
      "[CV 2/5] END ......max_depth=50, n_estimators=5;, score=0.774 total time=   0.2s\n",
      "[CV 3/5] END ......max_depth=50, n_estimators=5;, score=0.769 total time=   0.2s\n",
      "[CV 4/5] END ......max_depth=50, n_estimators=5;, score=0.770 total time=   0.2s\n",
      "[CV 5/5] END ......max_depth=50, n_estimators=5;, score=0.759 total time=   0.2s\n",
      "[CV 1/5] END .....max_depth=50, n_estimators=10;, score=0.766 total time=   0.3s\n",
      "[CV 2/5] END .....max_depth=50, n_estimators=10;, score=0.777 total time=   0.3s\n",
      "[CV 3/5] END .....max_depth=50, n_estimators=10;, score=0.768 total time=   0.3s\n",
      "[CV 4/5] END .....max_depth=50, n_estimators=10;, score=0.772 total time=   0.3s\n",
      "[CV 5/5] END .....max_depth=50, n_estimators=10;, score=0.760 total time=   0.3s\n",
      "[CV 1/5] END .....max_depth=50, n_estimators=20;, score=0.769 total time=   0.7s\n",
      "[CV 2/5] END .....max_depth=50, n_estimators=20;, score=0.776 total time=   0.6s\n",
      "[CV 3/5] END .....max_depth=50, n_estimators=20;, score=0.768 total time=   0.6s\n",
      "[CV 4/5] END .....max_depth=50, n_estimators=20;, score=0.774 total time=   0.6s\n",
      "[CV 5/5] END .....max_depth=50, n_estimators=20;, score=0.761 total time=   0.6s\n"
     ]
    },
    {
     "data": {
      "text/plain": [
       "GridSearchCV(estimator=RandomForestClassifier(),\n",
       "             param_grid={'max_depth': [1, 10, 50],\n",
       "                         'n_estimators': [1, 5, 10, 20]},\n",
       "             scoring='f1', verbose=4)"
      ]
     },
     "execution_count": 95,
     "metadata": {},
     "output_type": "execute_result"
    }
   ],
   "source": [
    "# RF\n",
    "RF = RandomForestClassifier()\n",
    "param_grid = {'n_estimators': [1, 5, 10, 20],\n",
    "              'max_depth': [1, 10, 50]}\n",
    "grid = GridSearchCV(RF,param_grid,verbose=4, scoring = \"f1\")\n",
    "grid.fit(train_scaled,Y_train)"
   ]
  },
  {
   "cell_type": "code",
   "execution_count": 100,
   "id": "6fbc590a",
   "metadata": {},
   "outputs": [
    {
     "data": {
      "image/png": "[encoded data removed]",
      "text/plain": [
       "<Figure size 432x288 with 2 Axes>"
      ]
     },
     "metadata": {
      "needs_background": "light"
     },
     "output_type": "display_data"
    }
   ],
   "source": [
    "best_RF = RandomForestClassifier(max_depth = 50, n_estimators = 20)\n",
    "best_RF.fit(train_scaled, Y_train)\n",
    "RF_predict = best_RF.predict(test_scaled)\n",
    "RF_confusion = confusion_matrix(Y_test, RF_predict)\n",
    "disp = ConfusionMatrixDisplay(RF_confusion)\n",
    "disp.plot()\n",
    "plt.show()"
   ]
  },
  {
   "cell_type": "code",
   "execution_count": 98,
   "id": "f0d9a5b9",
   "metadata": {},
   "outputs": [
    {
     "name": "stdout",
     "output_type": "stream",
     "text": [
      "Fitting 5 folds for each of 16 candidates, totalling 80 fits\n",
      "[CV 1/5] END learning_rate=0.01, n_estimators=5;, score=0.703 total time=   0.4s\n",
      "[CV 2/5] END learning_rate=0.01, n_estimators=5;, score=0.715 total time=   0.3s\n",
      "[CV 3/5] END learning_rate=0.01, n_estimators=5;, score=0.710 total time=   0.3s\n",
      "[CV 4/5] END learning_rate=0.01, n_estimators=5;, score=0.708 total time=   0.3s\n",
      "[CV 5/5] END learning_rate=0.01, n_estimators=5;, score=0.700 total time=   0.3s\n",
      "[CV 1/5] END learning_rate=0.01, n_estimators=10;, score=0.703 total time=   0.7s\n",
      "[CV 2/5] END learning_rate=0.01, n_estimators=10;, score=0.715 total time=   0.7s\n",
      "[CV 3/5] END learning_rate=0.01, n_estimators=10;, score=0.710 total time=   0.7s\n",
      "[CV 4/5] END learning_rate=0.01, n_estimators=10;, score=0.708 total time=   0.6s\n",
      "[CV 5/5] END learning_rate=0.01, n_estimators=10;, score=0.700 total time=   0.6s\n",
      "[CV 1/5] END learning_rate=0.01, n_estimators=20;, score=0.703 total time=   1.3s\n",
      "[CV 2/5] END learning_rate=0.01, n_estimators=20;, score=0.715 total time=   1.3s\n",
      "[CV 3/5] END learning_rate=0.01, n_estimators=20;, score=0.710 total time=   1.3s\n",
      "[CV 4/5] END learning_rate=0.01, n_estimators=20;, score=0.708 total time=   1.3s\n",
      "[CV 5/5] END learning_rate=0.01, n_estimators=20;, score=0.701 total time=   1.3s\n",
      "[CV 1/5] END learning_rate=0.01, n_estimators=100;, score=0.704 total time=   6.3s\n",
      "[CV 2/5] END learning_rate=0.01, n_estimators=100;, score=0.708 total time=   6.2s\n",
      "[CV 3/5] END learning_rate=0.01, n_estimators=100;, score=0.712 total time=   6.2s\n",
      "[CV 4/5] END learning_rate=0.01, n_estimators=100;, score=0.710 total time=   6.2s\n",
      "[CV 5/5] END learning_rate=0.01, n_estimators=100;, score=0.701 total time=   6.2s\n",
      "[CV 1/5] END .learning_rate=0.1, n_estimators=5;, score=0.703 total time=   0.3s\n",
      "[CV 2/5] END .learning_rate=0.1, n_estimators=5;, score=0.715 total time=   0.3s\n",
      "[CV 3/5] END .learning_rate=0.1, n_estimators=5;, score=0.710 total time=   0.3s\n",
      "[CV 4/5] END .learning_rate=0.1, n_estimators=5;, score=0.708 total time=   0.3s\n",
      "[CV 5/5] END .learning_rate=0.1, n_estimators=5;, score=0.711 total time=   0.3s\n",
      "[CV 1/5] END learning_rate=0.1, n_estimators=10;, score=0.703 total time=   0.6s\n",
      "[CV 2/5] END learning_rate=0.1, n_estimators=10;, score=0.708 total time=   0.6s\n",
      "[CV 3/5] END learning_rate=0.1, n_estimators=10;, score=0.712 total time=   0.6s\n",
      "[CV 4/5] END learning_rate=0.1, n_estimators=10;, score=0.711 total time=   0.6s\n",
      "[CV 5/5] END learning_rate=0.1, n_estimators=10;, score=0.702 total time=   0.6s\n",
      "[CV 1/5] END learning_rate=0.1, n_estimators=20;, score=0.706 total time=   1.3s\n",
      "[CV 2/5] END learning_rate=0.1, n_estimators=20;, score=0.715 total time=   1.2s\n",
      "[CV 3/5] END learning_rate=0.1, n_estimators=20;, score=0.720 total time=   1.2s\n",
      "[CV 4/5] END learning_rate=0.1, n_estimators=20;, score=0.721 total time=   1.2s\n",
      "[CV 5/5] END learning_rate=0.1, n_estimators=20;, score=0.711 total time=   1.4s\n",
      "[CV 1/5] END learning_rate=0.1, n_estimators=100;, score=0.725 total time=   6.4s\n",
      "[CV 2/5] END learning_rate=0.1, n_estimators=100;, score=0.731 total time=   6.3s\n",
      "[CV 3/5] END learning_rate=0.1, n_estimators=100;, score=0.730 total time=   6.4s\n",
      "[CV 4/5] END learning_rate=0.1, n_estimators=100;, score=0.732 total time=   6.4s\n",
      "[CV 5/5] END learning_rate=0.1, n_estimators=100;, score=0.720 total time=   6.3s\n",
      "[CV 1/5] END ...learning_rate=1, n_estimators=5;, score=0.717 total time=   0.3s\n",
      "[CV 2/5] END ...learning_rate=1, n_estimators=5;, score=0.723 total time=   0.4s\n",
      "[CV 3/5] END ...learning_rate=1, n_estimators=5;, score=0.726 total time=   0.4s\n",
      "[CV 4/5] END ...learning_rate=1, n_estimators=5;, score=0.715 total time=   0.3s\n",
      "[CV 5/5] END ...learning_rate=1, n_estimators=5;, score=0.713 total time=   0.3s\n",
      "[CV 1/5] END ..learning_rate=1, n_estimators=10;, score=0.724 total time=   0.7s\n",
      "[CV 2/5] END ..learning_rate=1, n_estimators=10;, score=0.722 total time=   0.7s\n",
      "[CV 3/5] END ..learning_rate=1, n_estimators=10;, score=0.726 total time=   0.7s\n",
      "[CV 4/5] END ..learning_rate=1, n_estimators=10;, score=0.725 total time=   0.7s\n",
      "[CV 5/5] END ..learning_rate=1, n_estimators=10;, score=0.722 total time=   0.6s\n",
      "[CV 1/5] END ..learning_rate=1, n_estimators=20;, score=0.729 total time=   1.3s\n",
      "[CV 2/5] END ..learning_rate=1, n_estimators=20;, score=0.732 total time=   1.3s\n",
      "[CV 3/5] END ..learning_rate=1, n_estimators=20;, score=0.730 total time=   1.3s\n",
      "[CV 4/5] END ..learning_rate=1, n_estimators=20;, score=0.732 total time=   1.4s\n",
      "[CV 5/5] END ..learning_rate=1, n_estimators=20;, score=0.723 total time=   1.3s\n",
      "[CV 1/5] END .learning_rate=1, n_estimators=100;, score=0.738 total time=   6.4s\n",
      "[CV 2/5] END .learning_rate=1, n_estimators=100;, score=0.733 total time=   6.6s\n",
      "[CV 3/5] END .learning_rate=1, n_estimators=100;, score=0.733 total time=   6.8s\n",
      "[CV 4/5] END .learning_rate=1, n_estimators=100;, score=0.737 total time=   6.7s\n",
      "[CV 5/5] END .learning_rate=1, n_estimators=100;, score=0.730 total time=   6.5s\n",
      "[CV 1/5] END .learning_rate=1.2, n_estimators=5;, score=0.709 total time=   0.3s\n",
      "[CV 2/5] END .learning_rate=1.2, n_estimators=5;, score=0.708 total time=   0.3s\n",
      "[CV 3/5] END .learning_rate=1.2, n_estimators=5;, score=0.724 total time=   0.3s\n",
      "[CV 4/5] END .learning_rate=1.2, n_estimators=5;, score=0.721 total time=   0.3s\n",
      "[CV 5/5] END .learning_rate=1.2, n_estimators=5;, score=0.708 total time=   0.3s\n",
      "[CV 1/5] END learning_rate=1.2, n_estimators=10;, score=0.716 total time=   0.7s\n",
      "[CV 2/5] END learning_rate=1.2, n_estimators=10;, score=0.721 total time=   0.7s\n",
      "[CV 3/5] END learning_rate=1.2, n_estimators=10;, score=0.727 total time=   0.7s\n",
      "[CV 4/5] END learning_rate=1.2, n_estimators=10;, score=0.730 total time=   0.7s\n",
      "[CV 5/5] END learning_rate=1.2, n_estimators=10;, score=0.721 total time=   0.6s\n",
      "[CV 1/5] END learning_rate=1.2, n_estimators=20;, score=0.725 total time=   1.3s\n",
      "[CV 2/5] END learning_rate=1.2, n_estimators=20;, score=0.730 total time=   1.3s\n",
      "[CV 3/5] END learning_rate=1.2, n_estimators=20;, score=0.726 total time=   1.3s\n",
      "[CV 4/5] END learning_rate=1.2, n_estimators=20;, score=0.724 total time=   1.4s\n",
      "[CV 5/5] END learning_rate=1.2, n_estimators=20;, score=0.725 total time=   1.3s\n",
      "[CV 1/5] END learning_rate=1.2, n_estimators=100;, score=0.733 total time=   6.9s\n",
      "[CV 2/5] END learning_rate=1.2, n_estimators=100;, score=0.733 total time=   7.0s\n",
      "[CV 3/5] END learning_rate=1.2, n_estimators=100;, score=0.732 total time=   7.1s\n",
      "[CV 4/5] END learning_rate=1.2, n_estimators=100;, score=0.733 total time=   7.1s\n",
      "[CV 5/5] END learning_rate=1.2, n_estimators=100;, score=0.731 total time=   6.9s\n"
     ]
    },
    {
     "data": {
      "text/plain": [
       "GridSearchCV(estimator=GradientBoostingClassifier(),\n",
       "             param_grid={'learning_rate': [0.01, 0.1, 1, 1.2],\n",
       "                         'n_estimators': [5, 10, 20, 100]},\n",
       "             scoring='f1', verbose=4)"
      ]
     },
     "execution_count": 98,
     "metadata": {},
     "output_type": "execute_result"
    }
   ],
   "source": [
    "# GBC:\n",
    "GBC = GradientBoostingClassifier()\n",
    "param_grid = {'n_estimators': [5, 10, 20, 100],\n",
    "              'learning_rate': [ 0.01, 0.1, 1, 1.2]}\n",
    "grid = GridSearchCV(GBC,param_grid,verbose=4, scoring = \"f1\")\n",
    "grid.fit(train_scaled,Y_train)"
   ]
  },
  {
   "cell_type": "code",
   "execution_count": 99,
   "id": "3032bdbd",
   "metadata": {
    "scrolled": true
   },
   "outputs": [
    {
     "data": {
      "image/png": "[encoded data removed]",
      "text/plain": [
       "<Figure size 432x288 with 2 Axes>"
      ]
     },
     "metadata": {
      "needs_background": "light"
     },
     "output_type": "display_data"
    }
   ],
   "source": [
    "best_GBC = GradientBoostingClassifier(learning_rate = 1, n_estimators = 100)\n",
    "best_GBC.fit(train_scaled, Y_train)\n",
    "GBC_predict = best_GBC.predict(test_scaled)\n",
    "GBC_confusion = confusion_matrix(Y_test, GBC_predict)\n",
    "disp = ConfusionMatrixDisplay(GBC_confusion)\n",
    "disp.plot()\n",
    "plt.show()"
   ]
  },
  {
   "cell_type": "markdown",
   "id": "35d0cad9",
   "metadata": {},
   "source": [
    "# Saving Models for Deployment:"
   ]
  },
  {
   "cell_type": "code",
   "execution_count": 104,
   "id": "39142f88",
   "metadata": {},
   "outputs": [],
   "source": [
    "import joblib"
   ]
  },
  {
   "cell_type": "code",
   "execution_count": 105,
   "id": "9a52428c",
   "metadata": {},
   "outputs": [],
   "source": [
    "# Best Model Was RF\n",
    "RF_model = 'RF_model.sav'\n",
    "joblib.dump(best_RF, RF_model)\n",
    "#Testin the saved_model\n",
    "loaded_model = joblib.load(RF_model)\n",
    "loaded_model.predict(test_scaled)"
   ]
  },
  {
   "cell_type": "code",
   "execution_count": 107,
   "id": "3fb07b80",
   "metadata": {},
   "outputs": [
    {
     "data": {
      "text/plain": [
       "['minmax.sav']"
      ]
     },
     "execution_count": 107,
     "metadata": {},
     "output_type": "execute_result"
    }
   ],
   "source": [
    "#Saving MinMaxScaler:\n",
    "minmax = 'minmax.sav'\n",
    "joblib.dump(min_max, minmax)"
   ]
  },
  {
   "cell_type": "code",
   "execution_count": 108,
   "id": "a2b8ab6b",
   "metadata": {},
   "outputs": [],
   "source": [
    "test = joblib.load(minmax)"
   ]
  },
  {
   "cell_type": "code",
   "execution_count": 109,
   "id": "18a4e2fa",
   "metadata": {},
   "outputs": [
    {
     "data": {
      "text/plain": [
       "array([[0.01818182, 0.        , 1.        , ..., 0.        , 0.        ,\n",
       "        1.        ],\n",
       "       [0.03636364, 0.        , 1.        , ..., 0.        , 1.        ,\n",
       "        0.        ],\n",
       "       [0.        , 0.        , 1.        , ..., 0.        , 0.        ,\n",
       "        1.        ],\n",
       "       ...,\n",
       "       [0.01818182, 0.14285714, 1.        , ..., 0.        , 1.        ,\n",
       "        1.        ],\n",
       "       [0.01818182, 0.        , 1.        , ..., 0.        , 0.        ,\n",
       "        1.        ],\n",
       "       [0.05454545, 0.        , 1.        , ..., 0.        , 1.        ,\n",
       "        0.        ]])"
      ]
     },
     "execution_count": 109,
     "metadata": {},
     "output_type": "execute_result"
    }
   ],
   "source": [
    "test.transform(X_test)"
   ]
  },
  {
   "cell_type": "code",
   "execution_count": 111,
   "id": "962e729a",
   "metadata": {},
   "outputs": [
    {
     "data": {
      "text/plain": [
       "['encoder.sav']"
      ]
     },
     "execution_count": 111,
     "metadata": {},
     "output_type": "execute_result"
    }
   ],
   "source": [
    "# Saving category encoder:\n",
    "ce = \"encoder.sav\"\n",
    "joblib.dump(ce_binary, ce)"
   ]
  },
  {
   "cell_type": "code",
   "execution_count": 113,
   "id": "5090a022",
   "metadata": {},
   "outputs": [],
   "source": [
    "enc = joblib.load(ce)"
   ]
  },
  {
   "cell_type": "code",
   "execution_count": 114,
   "id": "645f74e8",
   "metadata": {},
   "outputs": [
    {
     "data": {
      "text/plain": [
       "BinaryEncoder(cols=['job', 'marital', 'contact', 'age_level'])"
      ]
     },
     "execution_count": 114,
     "metadata": {},
     "output_type": "execute_result"
    }
   ],
   "source": [
    "enc"
   ]
  },
  {
   "cell_type": "code",
   "execution_count": 117,
   "id": "dbf2e67b",
   "metadata": {},
   "outputs": [],
   "source": [
    "# enc.transform(X[[\"job\", \"marital\", \"contact\", \"age_level\"]])"
   ]
  },
  {
   "cell_type": "code",
   "execution_count": null,
   "id": "92b26406",
   "metadata": {},
   "outputs": [],
   "source": []
  }
 ],
 "metadata": {
  "kernelspec": {
   "display_name": "Python 3 (ipykernel)",
   "language": "python",
   "name": "python3"
  },
  "language_info": {
   "codemirror_mode": {
    "name": "ipython",
    "version": 3
   },
   "file_extension": ".py",
   "mimetype": "text/x-python",
   "name": "python",
   "nbconvert_exporter": "python",
   "pygments_lexer": "ipython3",
   "version": "3.8.12"
  }
 },
 "nbformat": 4,
 "nbformat_minor": 5
}
